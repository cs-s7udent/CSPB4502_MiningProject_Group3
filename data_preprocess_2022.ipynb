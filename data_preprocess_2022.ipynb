{
 "cells": [
  {
   "cell_type": "code",
   "execution_count": 13,
   "metadata": {},
   "outputs": [],
   "source": [
    "import pandas as pd\n",
    "import numpy as np\n",
    "import matplotlib.pyplot as plt"
   ]
  },
  {
   "cell_type": "code",
   "execution_count": 14,
   "metadata": {},
   "outputs": [],
   "source": [
    "# this method loops thru every value of the given pandas series and calculates\n",
    "# the total number of nan values and the fraction of \n",
    "# the total number of nan values / the total values in series \n",
    "def count_nan(series):\n",
    "    count = 0\n",
    "    for i in series:\n",
    "        if i is np.nan:\n",
    "            count += 1\n",
    "    return count, count/len(series)"
   ]
  },
  {
   "cell_type": "code",
   "execution_count": 15,
   "metadata": {},
   "outputs": [],
   "source": [
    "# this method transforms a string that contains different values separated by\n",
    "# a semicolon and a space(;) of a given attribute in a given dataframe into a list and \n",
    "# returns in the pandas series format and a nparray that contains the indexes of rows that\n",
    "# has nan \n",
    "def merge_str_list(df, attr_name):\n",
    "    drop_lst = np.array([])\n",
    "    result = pd.Series()\n",
    "    for i in range(df.shape[0]):\n",
    "        data = df[attr_name][i]\n",
    "        # if string value, extract all values into a list\n",
    "        if type(data) is str:\n",
    "            result[i] = data.split(';')\n",
    "        # if not string value, then add the index into drop_lst\n",
    "        else:\n",
    "            drop_lst = np.append(drop_lst, i)\n",
    "            result[i] = data\n",
    "    \n",
    "    return result, drop_lst"
   ]
  },
  {
   "cell_type": "code",
   "execution_count": 16,
   "metadata": {},
   "outputs": [
    {
     "data": {
      "text/html": [
       "<div>\n",
       "<style scoped>\n",
       "    .dataframe tbody tr th:only-of-type {\n",
       "        vertical-align: middle;\n",
       "    }\n",
       "\n",
       "    .dataframe tbody tr th {\n",
       "        vertical-align: top;\n",
       "    }\n",
       "\n",
       "    .dataframe thead th {\n",
       "        text-align: right;\n",
       "    }\n",
       "</style>\n",
       "<table border=\"1\" class=\"dataframe\">\n",
       "  <thead>\n",
       "    <tr style=\"text-align: right;\">\n",
       "      <th></th>\n",
       "      <th>ResponseId</th>\n",
       "      <th>MainBranch</th>\n",
       "      <th>Employment</th>\n",
       "      <th>RemoteWork</th>\n",
       "      <th>CodingActivities</th>\n",
       "      <th>EdLevel</th>\n",
       "      <th>LearnCode</th>\n",
       "      <th>LearnCodeOnline</th>\n",
       "      <th>LearnCodeCoursesCert</th>\n",
       "      <th>YearsCode</th>\n",
       "      <th>...</th>\n",
       "      <th>TimeSearching</th>\n",
       "      <th>TimeAnswering</th>\n",
       "      <th>Onboarding</th>\n",
       "      <th>ProfessionalTech</th>\n",
       "      <th>TrueFalse_1</th>\n",
       "      <th>TrueFalse_2</th>\n",
       "      <th>TrueFalse_3</th>\n",
       "      <th>SurveyLength</th>\n",
       "      <th>SurveyEase</th>\n",
       "      <th>ConvertedCompYearly</th>\n",
       "    </tr>\n",
       "  </thead>\n",
       "  <tbody>\n",
       "    <tr>\n",
       "      <th>0</th>\n",
       "      <td>1</td>\n",
       "      <td>None of these</td>\n",
       "      <td>NaN</td>\n",
       "      <td>NaN</td>\n",
       "      <td>NaN</td>\n",
       "      <td>NaN</td>\n",
       "      <td>NaN</td>\n",
       "      <td>NaN</td>\n",
       "      <td>NaN</td>\n",
       "      <td>NaN</td>\n",
       "      <td>...</td>\n",
       "      <td>NaN</td>\n",
       "      <td>NaN</td>\n",
       "      <td>NaN</td>\n",
       "      <td>NaN</td>\n",
       "      <td>NaN</td>\n",
       "      <td>NaN</td>\n",
       "      <td>NaN</td>\n",
       "      <td>NaN</td>\n",
       "      <td>NaN</td>\n",
       "      <td>NaN</td>\n",
       "    </tr>\n",
       "    <tr>\n",
       "      <th>1</th>\n",
       "      <td>2</td>\n",
       "      <td>I am a developer by profession</td>\n",
       "      <td>Employed, full-time</td>\n",
       "      <td>Fully remote</td>\n",
       "      <td>Hobby;Contribute to open-source projects</td>\n",
       "      <td>NaN</td>\n",
       "      <td>NaN</td>\n",
       "      <td>NaN</td>\n",
       "      <td>NaN</td>\n",
       "      <td>NaN</td>\n",
       "      <td>...</td>\n",
       "      <td>NaN</td>\n",
       "      <td>NaN</td>\n",
       "      <td>NaN</td>\n",
       "      <td>NaN</td>\n",
       "      <td>NaN</td>\n",
       "      <td>NaN</td>\n",
       "      <td>NaN</td>\n",
       "      <td>Too long</td>\n",
       "      <td>Difficult</td>\n",
       "      <td>NaN</td>\n",
       "    </tr>\n",
       "    <tr>\n",
       "      <th>2</th>\n",
       "      <td>3</td>\n",
       "      <td>I am not primarily a developer, but I write co...</td>\n",
       "      <td>Employed, full-time</td>\n",
       "      <td>Hybrid (some remote, some in-person)</td>\n",
       "      <td>Hobby</td>\n",
       "      <td>Master’s degree (M.A., M.S., M.Eng., MBA, etc.)</td>\n",
       "      <td>Books / Physical media;Friend or family member...</td>\n",
       "      <td>Technical documentation;Blogs;Programming Game...</td>\n",
       "      <td>NaN</td>\n",
       "      <td>14</td>\n",
       "      <td>...</td>\n",
       "      <td>NaN</td>\n",
       "      <td>NaN</td>\n",
       "      <td>NaN</td>\n",
       "      <td>NaN</td>\n",
       "      <td>NaN</td>\n",
       "      <td>NaN</td>\n",
       "      <td>NaN</td>\n",
       "      <td>Appropriate in length</td>\n",
       "      <td>Neither easy nor difficult</td>\n",
       "      <td>40205.0</td>\n",
       "    </tr>\n",
       "    <tr>\n",
       "      <th>3</th>\n",
       "      <td>4</td>\n",
       "      <td>I am a developer by profession</td>\n",
       "      <td>Employed, full-time</td>\n",
       "      <td>Fully remote</td>\n",
       "      <td>I don’t code outside of work</td>\n",
       "      <td>Bachelor’s degree (B.A., B.S., B.Eng., etc.)</td>\n",
       "      <td>Books / Physical media;School (i.e., Universit...</td>\n",
       "      <td>NaN</td>\n",
       "      <td>NaN</td>\n",
       "      <td>20</td>\n",
       "      <td>...</td>\n",
       "      <td>NaN</td>\n",
       "      <td>NaN</td>\n",
       "      <td>NaN</td>\n",
       "      <td>NaN</td>\n",
       "      <td>NaN</td>\n",
       "      <td>NaN</td>\n",
       "      <td>NaN</td>\n",
       "      <td>Appropriate in length</td>\n",
       "      <td>Easy</td>\n",
       "      <td>215232.0</td>\n",
       "    </tr>\n",
       "    <tr>\n",
       "      <th>4</th>\n",
       "      <td>5</td>\n",
       "      <td>I am a developer by profession</td>\n",
       "      <td>Employed, full-time</td>\n",
       "      <td>Hybrid (some remote, some in-person)</td>\n",
       "      <td>Hobby</td>\n",
       "      <td>Bachelor’s degree (B.A., B.S., B.Eng., etc.)</td>\n",
       "      <td>Other online resources (e.g., videos, blogs, f...</td>\n",
       "      <td>Technical documentation;Blogs;Stack Overflow;O...</td>\n",
       "      <td>NaN</td>\n",
       "      <td>8</td>\n",
       "      <td>...</td>\n",
       "      <td>NaN</td>\n",
       "      <td>NaN</td>\n",
       "      <td>NaN</td>\n",
       "      <td>NaN</td>\n",
       "      <td>NaN</td>\n",
       "      <td>NaN</td>\n",
       "      <td>NaN</td>\n",
       "      <td>Too long</td>\n",
       "      <td>Easy</td>\n",
       "      <td>NaN</td>\n",
       "    </tr>\n",
       "    <tr>\n",
       "      <th>...</th>\n",
       "      <td>...</td>\n",
       "      <td>...</td>\n",
       "      <td>...</td>\n",
       "      <td>...</td>\n",
       "      <td>...</td>\n",
       "      <td>...</td>\n",
       "      <td>...</td>\n",
       "      <td>...</td>\n",
       "      <td>...</td>\n",
       "      <td>...</td>\n",
       "      <td>...</td>\n",
       "      <td>...</td>\n",
       "      <td>...</td>\n",
       "      <td>...</td>\n",
       "      <td>...</td>\n",
       "      <td>...</td>\n",
       "      <td>...</td>\n",
       "      <td>...</td>\n",
       "      <td>...</td>\n",
       "      <td>...</td>\n",
       "      <td>...</td>\n",
       "    </tr>\n",
       "    <tr>\n",
       "      <th>73263</th>\n",
       "      <td>73264</td>\n",
       "      <td>I am a developer by profession</td>\n",
       "      <td>Employed, full-time</td>\n",
       "      <td>Fully remote</td>\n",
       "      <td>Freelance/contract work</td>\n",
       "      <td>Bachelor’s degree (B.A., B.S., B.Eng., etc.)</td>\n",
       "      <td>Books / Physical media;Other online resources ...</td>\n",
       "      <td>Technical documentation;Blogs;Written Tutorial...</td>\n",
       "      <td>Udemy</td>\n",
       "      <td>8</td>\n",
       "      <td>...</td>\n",
       "      <td>30-60 minutes a day</td>\n",
       "      <td>Less than 15 minutes a day</td>\n",
       "      <td>Just right</td>\n",
       "      <td>DevOps function;Microservices;Developer portal...</td>\n",
       "      <td>Yes</td>\n",
       "      <td>Yes</td>\n",
       "      <td>Yes</td>\n",
       "      <td>Too long</td>\n",
       "      <td>Easy</td>\n",
       "      <td>NaN</td>\n",
       "    </tr>\n",
       "    <tr>\n",
       "      <th>73264</th>\n",
       "      <td>73265</td>\n",
       "      <td>I am a developer by profession</td>\n",
       "      <td>Employed, full-time</td>\n",
       "      <td>Full in-person</td>\n",
       "      <td>Hobby</td>\n",
       "      <td>Master’s degree (M.A., M.S., M.Eng., MBA, etc.)</td>\n",
       "      <td>Other online resources (e.g., videos, blogs, f...</td>\n",
       "      <td>Technical documentation;Blogs;Written Tutorial...</td>\n",
       "      <td>Coursera;Udemy;Udacity</td>\n",
       "      <td>6</td>\n",
       "      <td>...</td>\n",
       "      <td>15-30 minutes a day</td>\n",
       "      <td>60-120 minutes a day</td>\n",
       "      <td>Very long</td>\n",
       "      <td>None of these</td>\n",
       "      <td>No</td>\n",
       "      <td>Yes</td>\n",
       "      <td>Yes</td>\n",
       "      <td>Too long</td>\n",
       "      <td>Easy</td>\n",
       "      <td>NaN</td>\n",
       "    </tr>\n",
       "    <tr>\n",
       "      <th>73265</th>\n",
       "      <td>73266</td>\n",
       "      <td>I am not primarily a developer, but I write co...</td>\n",
       "      <td>Employed, full-time</td>\n",
       "      <td>Hybrid (some remote, some in-person)</td>\n",
       "      <td>Hobby;School or academic work</td>\n",
       "      <td>Bachelor’s degree (B.A., B.S., B.Eng., etc.)</td>\n",
       "      <td>Books / Physical media;Other online resources ...</td>\n",
       "      <td>Technical documentation;Programming Games;Stac...</td>\n",
       "      <td>Udemy;Codecademy;Pluralsight;edX</td>\n",
       "      <td>42</td>\n",
       "      <td>...</td>\n",
       "      <td>30-60 minutes a day</td>\n",
       "      <td>60-120 minutes a day</td>\n",
       "      <td>Just right</td>\n",
       "      <td>None of these</td>\n",
       "      <td>No</td>\n",
       "      <td>No</td>\n",
       "      <td>No</td>\n",
       "      <td>Appropriate in length</td>\n",
       "      <td>Easy</td>\n",
       "      <td>NaN</td>\n",
       "    </tr>\n",
       "    <tr>\n",
       "      <th>73266</th>\n",
       "      <td>73267</td>\n",
       "      <td>I am a developer by profession</td>\n",
       "      <td>Employed, full-time</td>\n",
       "      <td>Hybrid (some remote, some in-person)</td>\n",
       "      <td>Hobby</td>\n",
       "      <td>Bachelor’s degree (B.A., B.S., B.Eng., etc.)</td>\n",
       "      <td>Books / Physical media;On the job training</td>\n",
       "      <td>NaN</td>\n",
       "      <td>NaN</td>\n",
       "      <td>50</td>\n",
       "      <td>...</td>\n",
       "      <td>NaN</td>\n",
       "      <td>NaN</td>\n",
       "      <td>NaN</td>\n",
       "      <td>NaN</td>\n",
       "      <td>NaN</td>\n",
       "      <td>NaN</td>\n",
       "      <td>NaN</td>\n",
       "      <td>Appropriate in length</td>\n",
       "      <td>Easy</td>\n",
       "      <td>NaN</td>\n",
       "    </tr>\n",
       "    <tr>\n",
       "      <th>73267</th>\n",
       "      <td>73268</td>\n",
       "      <td>I used to be a developer by profession, but no...</td>\n",
       "      <td>Independent contractor, freelancer, or self-em...</td>\n",
       "      <td>Fully remote</td>\n",
       "      <td>Hobby;Contribute to open-source projects;Boots...</td>\n",
       "      <td>Bachelor’s degree (B.A., B.S., B.Eng., etc.)</td>\n",
       "      <td>Books / Physical media;Friend or family member...</td>\n",
       "      <td>Technical documentation;Blogs;Programming Game...</td>\n",
       "      <td>Udemy;Pluralsight</td>\n",
       "      <td>16</td>\n",
       "      <td>...</td>\n",
       "      <td>NaN</td>\n",
       "      <td>NaN</td>\n",
       "      <td>NaN</td>\n",
       "      <td>NaN</td>\n",
       "      <td>NaN</td>\n",
       "      <td>NaN</td>\n",
       "      <td>NaN</td>\n",
       "      <td>Appropriate in length</td>\n",
       "      <td>Easy</td>\n",
       "      <td>NaN</td>\n",
       "    </tr>\n",
       "  </tbody>\n",
       "</table>\n",
       "<p>73268 rows × 79 columns</p>\n",
       "</div>"
      ],
      "text/plain": [
       "       ResponseId                                         MainBranch  \\\n",
       "0               1                                      None of these   \n",
       "1               2                     I am a developer by profession   \n",
       "2               3  I am not primarily a developer, but I write co...   \n",
       "3               4                     I am a developer by profession   \n",
       "4               5                     I am a developer by profession   \n",
       "...           ...                                                ...   \n",
       "73263       73264                     I am a developer by profession   \n",
       "73264       73265                     I am a developer by profession   \n",
       "73265       73266  I am not primarily a developer, but I write co...   \n",
       "73266       73267                     I am a developer by profession   \n",
       "73267       73268  I used to be a developer by profession, but no...   \n",
       "\n",
       "                                              Employment  \\\n",
       "0                                                    NaN   \n",
       "1                                    Employed, full-time   \n",
       "2                                    Employed, full-time   \n",
       "3                                    Employed, full-time   \n",
       "4                                    Employed, full-time   \n",
       "...                                                  ...   \n",
       "73263                                Employed, full-time   \n",
       "73264                                Employed, full-time   \n",
       "73265                                Employed, full-time   \n",
       "73266                                Employed, full-time   \n",
       "73267  Independent contractor, freelancer, or self-em...   \n",
       "\n",
       "                                 RemoteWork  \\\n",
       "0                                       NaN   \n",
       "1                              Fully remote   \n",
       "2      Hybrid (some remote, some in-person)   \n",
       "3                              Fully remote   \n",
       "4      Hybrid (some remote, some in-person)   \n",
       "...                                     ...   \n",
       "73263                          Fully remote   \n",
       "73264                        Full in-person   \n",
       "73265  Hybrid (some remote, some in-person)   \n",
       "73266  Hybrid (some remote, some in-person)   \n",
       "73267                          Fully remote   \n",
       "\n",
       "                                        CodingActivities  \\\n",
       "0                                                    NaN   \n",
       "1               Hobby;Contribute to open-source projects   \n",
       "2                                                  Hobby   \n",
       "3                           I don’t code outside of work   \n",
       "4                                                  Hobby   \n",
       "...                                                  ...   \n",
       "73263                            Freelance/contract work   \n",
       "73264                                              Hobby   \n",
       "73265                      Hobby;School or academic work   \n",
       "73266                                              Hobby   \n",
       "73267  Hobby;Contribute to open-source projects;Boots...   \n",
       "\n",
       "                                               EdLevel  \\\n",
       "0                                                  NaN   \n",
       "1                                                  NaN   \n",
       "2      Master’s degree (M.A., M.S., M.Eng., MBA, etc.)   \n",
       "3         Bachelor’s degree (B.A., B.S., B.Eng., etc.)   \n",
       "4         Bachelor’s degree (B.A., B.S., B.Eng., etc.)   \n",
       "...                                                ...   \n",
       "73263     Bachelor’s degree (B.A., B.S., B.Eng., etc.)   \n",
       "73264  Master’s degree (M.A., M.S., M.Eng., MBA, etc.)   \n",
       "73265     Bachelor’s degree (B.A., B.S., B.Eng., etc.)   \n",
       "73266     Bachelor’s degree (B.A., B.S., B.Eng., etc.)   \n",
       "73267     Bachelor’s degree (B.A., B.S., B.Eng., etc.)   \n",
       "\n",
       "                                               LearnCode  \\\n",
       "0                                                    NaN   \n",
       "1                                                    NaN   \n",
       "2      Books / Physical media;Friend or family member...   \n",
       "3      Books / Physical media;School (i.e., Universit...   \n",
       "4      Other online resources (e.g., videos, blogs, f...   \n",
       "...                                                  ...   \n",
       "73263  Books / Physical media;Other online resources ...   \n",
       "73264  Other online resources (e.g., videos, blogs, f...   \n",
       "73265  Books / Physical media;Other online resources ...   \n",
       "73266         Books / Physical media;On the job training   \n",
       "73267  Books / Physical media;Friend or family member...   \n",
       "\n",
       "                                         LearnCodeOnline  \\\n",
       "0                                                    NaN   \n",
       "1                                                    NaN   \n",
       "2      Technical documentation;Blogs;Programming Game...   \n",
       "3                                                    NaN   \n",
       "4      Technical documentation;Blogs;Stack Overflow;O...   \n",
       "...                                                  ...   \n",
       "73263  Technical documentation;Blogs;Written Tutorial...   \n",
       "73264  Technical documentation;Blogs;Written Tutorial...   \n",
       "73265  Technical documentation;Programming Games;Stac...   \n",
       "73266                                                NaN   \n",
       "73267  Technical documentation;Blogs;Programming Game...   \n",
       "\n",
       "                   LearnCodeCoursesCert YearsCode  ...        TimeSearching  \\\n",
       "0                                   NaN       NaN  ...                  NaN   \n",
       "1                                   NaN       NaN  ...                  NaN   \n",
       "2                                   NaN        14  ...                  NaN   \n",
       "3                                   NaN        20  ...                  NaN   \n",
       "4                                   NaN         8  ...                  NaN   \n",
       "...                                 ...       ...  ...                  ...   \n",
       "73263                             Udemy         8  ...  30-60 minutes a day   \n",
       "73264            Coursera;Udemy;Udacity         6  ...  15-30 minutes a day   \n",
       "73265  Udemy;Codecademy;Pluralsight;edX        42  ...  30-60 minutes a day   \n",
       "73266                               NaN        50  ...                  NaN   \n",
       "73267                 Udemy;Pluralsight        16  ...                  NaN   \n",
       "\n",
       "                    TimeAnswering  Onboarding  \\\n",
       "0                             NaN         NaN   \n",
       "1                             NaN         NaN   \n",
       "2                             NaN         NaN   \n",
       "3                             NaN         NaN   \n",
       "4                             NaN         NaN   \n",
       "...                           ...         ...   \n",
       "73263  Less than 15 minutes a day  Just right   \n",
       "73264        60-120 minutes a day   Very long   \n",
       "73265        60-120 minutes a day  Just right   \n",
       "73266                         NaN         NaN   \n",
       "73267                         NaN         NaN   \n",
       "\n",
       "                                        ProfessionalTech TrueFalse_1  \\\n",
       "0                                                    NaN         NaN   \n",
       "1                                                    NaN         NaN   \n",
       "2                                                    NaN         NaN   \n",
       "3                                                    NaN         NaN   \n",
       "4                                                    NaN         NaN   \n",
       "...                                                  ...         ...   \n",
       "73263  DevOps function;Microservices;Developer portal...         Yes   \n",
       "73264                                      None of these          No   \n",
       "73265                                      None of these          No   \n",
       "73266                                                NaN         NaN   \n",
       "73267                                                NaN         NaN   \n",
       "\n",
       "      TrueFalse_2 TrueFalse_3           SurveyLength  \\\n",
       "0             NaN         NaN                    NaN   \n",
       "1             NaN         NaN               Too long   \n",
       "2             NaN         NaN  Appropriate in length   \n",
       "3             NaN         NaN  Appropriate in length   \n",
       "4             NaN         NaN               Too long   \n",
       "...           ...         ...                    ...   \n",
       "73263         Yes         Yes               Too long   \n",
       "73264         Yes         Yes               Too long   \n",
       "73265          No          No  Appropriate in length   \n",
       "73266         NaN         NaN  Appropriate in length   \n",
       "73267         NaN         NaN  Appropriate in length   \n",
       "\n",
       "                       SurveyEase ConvertedCompYearly  \n",
       "0                             NaN                 NaN  \n",
       "1                       Difficult                 NaN  \n",
       "2      Neither easy nor difficult             40205.0  \n",
       "3                            Easy            215232.0  \n",
       "4                            Easy                 NaN  \n",
       "...                           ...                 ...  \n",
       "73263                        Easy                 NaN  \n",
       "73264                        Easy                 NaN  \n",
       "73265                        Easy                 NaN  \n",
       "73266                        Easy                 NaN  \n",
       "73267                        Easy                 NaN  \n",
       "\n",
       "[73268 rows x 79 columns]"
      ]
     },
     "execution_count": 16,
     "metadata": {},
     "output_type": "execute_result"
    }
   ],
   "source": [
    "# read csv\n",
    "df = pd.read_csv(\"2022 survey_results_public.csv\")\n",
    "df"
   ]
  },
  {
   "cell_type": "code",
   "execution_count": 17,
   "metadata": {},
   "outputs": [
    {
     "name": "stdout",
     "output_type": "stream",
     "text": [
      "ResponseId\n",
      "MainBranch\n",
      "Employment\n",
      "RemoteWork\n",
      "CodingActivities\n",
      "EdLevel\n",
      "LearnCode\n",
      "LearnCodeOnline\n",
      "LearnCodeCoursesCert\n",
      "YearsCode\n",
      "YearsCodePro\n",
      "DevType\n",
      "OrgSize\n",
      "PurchaseInfluence\n",
      "BuyNewTool\n",
      "Country\n",
      "Currency\n",
      "CompTotal\n",
      "CompFreq\n",
      "LanguageHaveWorkedWith\n",
      "LanguageWantToWorkWith\n",
      "DatabaseHaveWorkedWith\n",
      "DatabaseWantToWorkWith\n",
      "PlatformHaveWorkedWith\n",
      "PlatformWantToWorkWith\n",
      "WebframeHaveWorkedWith\n",
      "WebframeWantToWorkWith\n",
      "MiscTechHaveWorkedWith\n",
      "MiscTechWantToWorkWith\n",
      "ToolsTechHaveWorkedWith\n",
      "ToolsTechWantToWorkWith\n",
      "NEWCollabToolsHaveWorkedWith\n",
      "NEWCollabToolsWantToWorkWith\n",
      "OpSysProfessional use\n",
      "OpSysPersonal use\n",
      "VersionControlSystem\n",
      "VCInteraction\n",
      "VCHostingPersonal use\n",
      "VCHostingProfessional use\n",
      "OfficeStackAsyncHaveWorkedWith\n",
      "OfficeStackAsyncWantToWorkWith\n",
      "OfficeStackSyncHaveWorkedWith\n",
      "OfficeStackSyncWantToWorkWith\n",
      "Blockchain\n",
      "NEWSOSites\n",
      "SOVisitFreq\n",
      "SOAccount\n",
      "SOPartFreq\n",
      "SOComm\n",
      "Age\n",
      "Gender\n",
      "Trans\n",
      "Sexuality\n",
      "Ethnicity\n",
      "Accessibility\n",
      "MentalHealth\n",
      "TBranch\n",
      "ICorPM\n",
      "WorkExp\n",
      "Knowledge_1\n",
      "Knowledge_2\n",
      "Knowledge_3\n",
      "Knowledge_4\n",
      "Knowledge_5\n",
      "Knowledge_6\n",
      "Knowledge_7\n",
      "Frequency_1\n",
      "Frequency_2\n",
      "Frequency_3\n",
      "TimeSearching\n",
      "TimeAnswering\n",
      "Onboarding\n",
      "ProfessionalTech\n",
      "TrueFalse_1\n",
      "TrueFalse_2\n",
      "TrueFalse_3\n",
      "SurveyLength\n",
      "SurveyEase\n",
      "ConvertedCompYearly\n"
     ]
    }
   ],
   "source": [
    "# print out all attributes\n",
    "total_attributes = df.columns\n",
    "for i in total_attributes:\n",
    "    print(i)"
   ]
  },
  {
   "cell_type": "code",
   "execution_count": 18,
   "metadata": {},
   "outputs": [
    {
     "data": {
      "text/plain": [
       "array([nan, '14', '20', '8', '15', '3', '1', '6', '37', '5', '12', '22',\n",
       "       '11', '4', '7', '13', '36', '2', '25', '10', '40', '16', '27',\n",
       "       '24', '19', '9', '17', '18', '26', 'More than 50 years', '29',\n",
       "       '30', '32', 'Less than 1 year', '48', '45', '38', '39', '28', '23',\n",
       "       '43', '21', '41', '35', '50', '33', '31', '34', '46', '44', '42',\n",
       "       '47', '49'], dtype=object)"
      ]
     },
     "execution_count": 18,
     "metadata": {},
     "output_type": "execute_result"
    }
   ],
   "source": [
    "df['YearsCode'].unique()"
   ]
  },
  {
   "cell_type": "markdown",
   "metadata": {},
   "source": [
    "Need to change the years program into the following range\n",
    "\n",
    "Old value                                                  => New value\n",
    "\n",
    "x <= 2           => 0 - 2 years\n",
    " \n",
    "2 < x <= 5       => 2 - 5 years\n",
    "\n",
    "6 <= x <= 10     => 6 - 10 years\n",
    "\n",
    "x > 10           => 11+ years"
   ]
  },
  {
   "cell_type": "code",
   "execution_count": 19,
   "metadata": {},
   "outputs": [],
   "source": [
    "# transfer to bin size and create a new attribute 'code_yrs'\n",
    "data = df['YearsCode']\n",
    "code_yrs = pd.Series()\n",
    "for i in range(len(data)):\n",
    "    a = data[i]\n",
    "    \n",
    "    if a == \"Less than 1 year\":\n",
    "        code_yrs[i] = \"0 - 2 years\"\n",
    "    elif a == \"More than 50 years\":\n",
    "        code_yrs[i] = \"11+ years\"\n",
    "    elif type(a) == float:\n",
    "        code_yrs[i] = a\n",
    "    else:\n",
    "        a_int = int(a)\n",
    "        if a_int <= 2:\n",
    "            code_yrs[i] = \"0 - 2 years\"\n",
    "        elif a_int > 2 and a_int <= 5 :\n",
    "            code_yrs[i] = \"2 - 5 years\"\n",
    "        elif a_int >= 6 and a_int <= 10:\n",
    "            code_yrs[i] = \"6 - 10 years\"\n",
    "        elif a_int > 10:\n",
    "            code_yrs[i] = \"11+ years\"\n",
    "\n",
    "# create a new attribute\n",
    "df['code_yrs'] = code_yrs"
   ]
  },
  {
   "cell_type": "code",
   "execution_count": 20,
   "metadata": {},
   "outputs": [
    {
     "data": {
      "text/plain": [
       "ConvertedCompYearly\n",
       "150000.0    393\n",
       "200000.0    362\n",
       "120000.0    341\n",
       "63986.0     304\n",
       "100000.0    279\n",
       "           ... \n",
       "38112.0       1\n",
       "35619.0       1\n",
       "16203.0       1\n",
       "43324.0       1\n",
       "283982.0      1\n",
       "Name: count, Length: 7909, dtype: int64"
      ]
     },
     "execution_count": 20,
     "metadata": {},
     "output_type": "execute_result"
    }
   ],
   "source": [
    "df['ConvertedCompYearly'].value_counts()"
   ]
  },
  {
   "cell_type": "markdown",
   "metadata": {},
   "source": [
    "Transform float values of Salary into ranges as below:\n",
    "\n",
    "Less than $20,000         \n",
    "$20,000 - $40,000          \n",
    "$40,000 - $60,000          \n",
    "$60,000 - $80,000          \n",
    "$80,000 - $100,000         \n",
    "$100,000 - $120,000        \n",
    "$120,000 - $140,000                \n",
    "$140,000 - $160,000        \n",
    "More than $160,000   \n",
    "Rather not say             \n",
    "Unemployed \n",
    "Other (please specify)      \n",
    "\n",
    "There will be no values for Rather not say, Unemployed and Other"
   ]
  },
  {
   "cell_type": "code",
   "execution_count": 21,
   "metadata": {},
   "outputs": [],
   "source": [
    "# this transform the values of salary into the same bin size as previous surveys and create a new attribute salary_merge\n",
    "salary_merge = pd.Series()\n",
    "data = df['ConvertedCompYearly']\n",
    "for i in range(len(data)):\n",
    "    if data[i] < 20000:\n",
    "        salary_merge[i] = \"Less than $20,000\"\n",
    "    elif data[i] >= 20000 and data[i] < 40000:\n",
    "        salary_merge[i] = \"$20,000 - $40,000\"\n",
    "    elif data[i] >= 40000 and data[i] < 60000:\n",
    "        salary_merge[i] = \"$40,000 - $60,000\"\n",
    "    elif data[i] >= 60000 and data[i] < 80000:\n",
    "        salary_merge[i] = \"$60,000 - $80,000\"\n",
    "    elif data[i] >= 80000 and data[i] < 100000:\n",
    "        salary_merge[i] = \"$80,000 - $100,000\"\n",
    "    elif data[i] >= 100000 and data[i] < 120000:\n",
    "        salary_merge[i] = \"$100,000 - $120,000\"\n",
    "    elif data[i] >= 120000 and data[i] < 140000:\n",
    "        salary_merge[i] = \"$120,000 - $140,000\"\n",
    "    elif data[i] >= 140000 and data[i] < 160000:\n",
    "        salary_merge[i] = \"$140,000 - $160,000\"\n",
    "    elif data[i] >= 160000:\n",
    "        salary_merge[i] = \"More than $160,000\"\n",
    "    # if nan, the transformed data is still nan\n",
    "    elif np.isnan(data[i]):\n",
    "        salary_merge[i] = np.nan\n",
    "\n",
    "df['salary_merge'] = salary_merge"
   ]
  },
  {
   "cell_type": "code",
   "execution_count": 22,
   "metadata": {},
   "outputs": [
    {
     "data": {
      "text/plain": [
       "0                                                      NaN\n",
       "1                                                      NaN\n",
       "2        Data scientist or machine learning specialist;...\n",
       "3                                    Developer, full-stack\n",
       "4        Developer, front-end;Developer, full-stack;Dev...\n",
       "                               ...                        \n",
       "73263                                  Developer, back-end\n",
       "73264        Data scientist or machine learning specialist\n",
       "73265    Developer, full-stack;Developer, desktop or en...\n",
       "73266    Developer, front-end;Developer, desktop or ent...\n",
       "73267    Developer, front-end;Engineer, data;Engineer, ...\n",
       "Name: DevType, Length: 73268, dtype: object"
      ]
     },
     "execution_count": 22,
     "metadata": {},
     "output_type": "execute_result"
    }
   ],
   "source": [
    "df['DevType']"
   ]
  },
  {
   "cell_type": "markdown",
   "metadata": {},
   "source": [
    "Transform df['DevType'] into list and create a new attribute devtyp_t"
   ]
  },
  {
   "cell_type": "code",
   "execution_count": 23,
   "metadata": {},
   "outputs": [],
   "source": [
    "# transform df['DevType'] into list and create a new attribute devtyp_t\n",
    "\n",
    "result = pd.Series()\n",
    "for i in range(df.shape[0]):\n",
    "    data = df['DevType'][i]\n",
    "    # if string value, extract all values into a list\n",
    "    if type(data) is str:\n",
    "        result[i] = data.split(';')\n",
    "        lst = []\n",
    "        for j in result[i]:\n",
    "            if j == \"Senior Executive (CSuite, VP, etc.)\":\n",
    "                j = \"Senior Executive (CSuite/VP/etc.)\"\n",
    "                lst.append(j)\n",
    "            else: \n",
    "                lst.append(j.replace(\", \", \"_\"))\n",
    "        result[i] = lst\n",
    "                \n",
    "    # if not string value, \n",
    "    else:\n",
    "        result[i] = data\n",
    "    \n",
    "\n",
    "df['devtyp_t'] = result\n",
    "\n",
    "\n",
    "# also replace \"Developer, full-stack\" to \"Developer_full-stack\"\n",
    "# replace \"Developer, front-end\" to \"Developer_front-end\"\n",
    "# replace \"Developer, back-end\" to \"Developer_back-end\"\n",
    "# replace \"Developer, desktop or enterprise applications\" to \"Developer_desktop or enterprise applications\"\n",
    "# replace \"Developer, embedded applications or devices\" to \"Developer_embedded applications or devices\"\n",
    "# replace \"Developer, game or graphics\" to \"Developer_game or graphics\"\n",
    "# replace \"Developer, mobile\" to \"Developer_mobile\"\n",
    "# replace \"Developer, QA or test\" to \"Developer_QA or test\"\n",
    "# replace \"Engineer, data\" to \"Engineer_data\"\n",
    "# replace \"Engineer, site reliability\" to \"Engineer_site reliability\"\n",
    "# replace \"Senior Executive (CSuite, VP, etc.)\" to \"Senior Executive (CSuite/VP/etc.)\""
   ]
  },
  {
   "cell_type": "code",
   "execution_count": 24,
   "metadata": {},
   "outputs": [
    {
     "data": {
      "text/plain": [
       "0                                                      NaN\n",
       "1                                                      NaN\n",
       "2                                  Notepad++;Visual Studio\n",
       "3               Notepad++;Visual Studio;Visual Studio Code\n",
       "4         Notepad++;Visual Studio;Visual Studio Code;Xcode\n",
       "                               ...                        \n",
       "73263    IPython/Jupyter;Sublime Text;Vim;Visual Studio...\n",
       "73264    IPython/Jupyter;Notepad++;Spyder;Vim;Visual St...\n",
       "73265              Spyder;Visual Studio;Visual Studio Code\n",
       "73266       RAD Studio (Delphi, C++ Builder);Visual Studio\n",
       "73267                     Visual Studio;Visual Studio Code\n",
       "Name: NEWCollabToolsHaveWorkedWith, Length: 73268, dtype: object"
      ]
     },
     "execution_count": 24,
     "metadata": {},
     "output_type": "execute_result"
    }
   ],
   "source": [
    "df['NEWCollabToolsHaveWorkedWith']"
   ]
  },
  {
   "cell_type": "markdown",
   "metadata": {},
   "source": [
    "Transform df['NEWCollabToolsHaveWorkedWith'] into list and create a new attribute ide_t"
   ]
  },
  {
   "cell_type": "code",
   "execution_count": 25,
   "metadata": {},
   "outputs": [],
   "source": [
    "# transform df['DevEnviron'] into list and create a new attribute ide_t\n",
    "df['ide_t'], _ = merge_str_list(df, 'NEWCollabToolsHaveWorkedWith')"
   ]
  },
  {
   "cell_type": "code",
   "execution_count": 26,
   "metadata": {},
   "outputs": [
    {
     "data": {
      "text/plain": [
       "0                                                    NaN\n",
       "1                                                    NaN\n",
       "2        Master’s degree (M.A., M.S., M.Eng., MBA, etc.)\n",
       "3           Bachelor’s degree (B.A., B.S., B.Eng., etc.)\n",
       "4           Bachelor’s degree (B.A., B.S., B.Eng., etc.)\n",
       "                              ...                       \n",
       "73263       Bachelor’s degree (B.A., B.S., B.Eng., etc.)\n",
       "73264    Master’s degree (M.A., M.S., M.Eng., MBA, etc.)\n",
       "73265       Bachelor’s degree (B.A., B.S., B.Eng., etc.)\n",
       "73266       Bachelor’s degree (B.A., B.S., B.Eng., etc.)\n",
       "73267       Bachelor’s degree (B.A., B.S., B.Eng., etc.)\n",
       "Name: EdLevel, Length: 73268, dtype: object"
      ]
     },
     "execution_count": 26,
     "metadata": {},
     "output_type": "execute_result"
    }
   ],
   "source": [
    "# single choice\n",
    "df['EdLevel']"
   ]
  },
  {
   "cell_type": "code",
   "execution_count": 27,
   "metadata": {},
   "outputs": [
    {
     "data": {
      "text/plain": [
       "0                                                      NaN\n",
       "1                                                      NaN\n",
       "2        Books / Physical media;Friend or family member...\n",
       "3        Books / Physical media;School (i.e., Universit...\n",
       "4        Other online resources (e.g., videos, blogs, f...\n",
       "                               ...                        \n",
       "73263    Books / Physical media;Other online resources ...\n",
       "73264    Other online resources (e.g., videos, blogs, f...\n",
       "73265    Books / Physical media;Other online resources ...\n",
       "73266           Books / Physical media;On the job training\n",
       "73267    Books / Physical media;Friend or family member...\n",
       "Name: LearnCode, Length: 73268, dtype: object"
      ]
     },
     "execution_count": 27,
     "metadata": {},
     "output_type": "execute_result"
    }
   ],
   "source": [
    "# multiple choice\n",
    "df['LearnCode']"
   ]
  },
  {
   "cell_type": "markdown",
   "metadata": {},
   "source": [
    "Merge df['EdLevel']and df['LearnCode'] into a new attribute called 'edu_t'"
   ]
  },
  {
   "cell_type": "code",
   "execution_count": 28,
   "metadata": {},
   "outputs": [],
   "source": [
    "# Merge df['EdLevel'] and df['LearnCode'] into a new attribute called 'edu_t'\n",
    "data_formal = df['EdLevel']\n",
    "data_learn = df['LearnCode']\n",
    "edu_t = pd.Series()\n",
    "\n",
    "for i in range(len(df)):\n",
    "    a = data_formal[i]\n",
    "    c = data_learn[i]\n",
    "    lst = list()\n",
    "\n",
    "    if a is not np.nan:\n",
    "        lst.append(a)\n",
    "        if type(c) == str:\n",
    "            c_lst = c.split(\";\")\n",
    "            for j in c_lst:\n",
    "                lst.append(j)\n",
    "        edu_t[i] = lst\n",
    "    else:\n",
    "        lst.append(a)\n",
    "        if type(c) == str:\n",
    "            c_lst = c.split(\";\")\n",
    "            for j in c_lst:\n",
    "                lst.append(j)\n",
    "            \n",
    "            edu_t[i] = lst\n",
    "        else:\n",
    "            edu_t[i] = a\n",
    "    \n",
    "\n",
    "df['edu_t'] = edu_t"
   ]
  },
  {
   "cell_type": "code",
   "execution_count": 29,
   "metadata": {},
   "outputs": [
    {
     "data": {
      "text/plain": [
       "0                        NaN\n",
       "1                      macOS\n",
       "2                    Windows\n",
       "3                    Windows\n",
       "4                    Windows\n",
       "                ...         \n",
       "73263                  macOS\n",
       "73264    Linux-based;Windows\n",
       "73265                Windows\n",
       "73266                Windows\n",
       "73267    Linux-based;Windows\n",
       "Name: OpSysProfessional use, Length: 73268, dtype: object"
      ]
     },
     "execution_count": 29,
     "metadata": {},
     "output_type": "execute_result"
    }
   ],
   "source": [
    "# multiple choice\n",
    "df['OpSysProfessional use']\n"
   ]
  },
  {
   "cell_type": "code",
   "execution_count": 30,
   "metadata": {},
   "outputs": [
    {
     "data": {
      "text/plain": [
       "0                                      NaN\n",
       "1        Windows Subsystem for Linux (WSL)\n",
       "2                                  Windows\n",
       "3                                  Windows\n",
       "4                            macOS;Windows\n",
       "                       ...                \n",
       "73263                    Linux-based;macOS\n",
       "73264                  Linux-based;Windows\n",
       "73265                              Windows\n",
       "73266                              Windows\n",
       "73267                  Linux-based;Windows\n",
       "Name: OpSysPersonal use, Length: 73268, dtype: object"
      ]
     },
     "execution_count": 30,
     "metadata": {},
     "output_type": "execute_result"
    }
   ],
   "source": [
    "# multiple choice\n",
    "df['OpSysPersonal use']"
   ]
  },
  {
   "cell_type": "markdown",
   "metadata": {},
   "source": [
    "Merge OpSysProfessional use and OpSysPersonal use into a new attribute opsys_t"
   ]
  },
  {
   "cell_type": "code",
   "execution_count": 31,
   "metadata": {},
   "outputs": [],
   "source": [
    "# Merge OpSysProfessional use and OpSysPersonal use into a new attribute opsys_t\n",
    "opsys = pd.Series()\n",
    "data_per = df['OpSysPersonal use']\n",
    "data_pro = df['OpSysProfessional use']\n",
    "for i in range(len(data_per)):\n",
    "    lst = list()\n",
    "    a = data_per[i]\n",
    "    b = data_pro[i]\n",
    "    if a is not np.nan:\n",
    "        a_lst = a.split(\";\")\n",
    "        # a and b are not nan\n",
    "        if b is not np.nan:\n",
    "            b_lst = b.split(\";\")\n",
    "            lst = np.union1d(a_lst, b_lst)\n",
    "        # a is non-nan and b is nan\n",
    "        else:\n",
    "            lst = a_lst\n",
    "        # cast into nparray into list\n",
    "        opsys[i] = list(lst)\n",
    "\n",
    "    else:\n",
    "        if b is not np.nan:\n",
    "            opsys[i] = b.split(\";\")\n",
    "        # both a and b are nan\n",
    "        else:\n",
    "            opsys[i] = a\n",
    "\n",
    "\n",
    "df['opsys_t'] = opsys\n",
    "\n"
   ]
  },
  {
   "cell_type": "code",
   "execution_count": 32,
   "metadata": {},
   "outputs": [
    {
     "data": {
      "text/plain": [
       "0                                                      NaN\n",
       "1                                    JavaScript;TypeScript\n",
       "2                        C#;C++;HTML/CSS;JavaScript;Python\n",
       "3                             C#;JavaScript;SQL;TypeScript\n",
       "4              C#;HTML/CSS;JavaScript;SQL;Swift;TypeScript\n",
       "                               ...                        \n",
       "73263    Bash/Shell;Dart;JavaScript;PHP;Python;SQL;Type...\n",
       "73264            Bash/Shell;HTML/CSS;JavaScript;Python;SQL\n",
       "73265                   HTML/CSS;JavaScript;PHP;Python;SQL\n",
       "73266                                        C#;Delphi;VBA\n",
       "73267          C#;JavaScript;Lua;PowerShell;SQL;TypeScript\n",
       "Name: LanguageHaveWorkedWith, Length: 73268, dtype: object"
      ]
     },
     "execution_count": 32,
     "metadata": {},
     "output_type": "execute_result"
    }
   ],
   "source": [
    "# multiple choice\n",
    "df['LanguageHaveWorkedWith']"
   ]
  },
  {
   "cell_type": "code",
   "execution_count": 33,
   "metadata": {},
   "outputs": [
    {
     "data": {
      "text/plain": [
       "0                                                      NaN\n",
       "1                                                      NaN\n",
       "2                                     Microsoft SQL Server\n",
       "3                                     Microsoft SQL Server\n",
       "4        Cloud Firestore;Elasticsearch;Microsoft SQL Se...\n",
       "                               ...                        \n",
       "73263                 Elasticsearch;MySQL;PostgreSQL;Redis\n",
       "73264                  Elasticsearch;MongoDB;Oracle;SQLite\n",
       "73265    MariaDB;Microsoft SQL Server;MySQL;PostgreSQL;...\n",
       "73266                  Microsoft SQL Server;MongoDB;Oracle\n",
       "73267                     Microsoft SQL Server;Neo4j;Redis\n",
       "Name: DatabaseHaveWorkedWith, Length: 73268, dtype: object"
      ]
     },
     "execution_count": 33,
     "metadata": {},
     "output_type": "execute_result"
    }
   ],
   "source": [
    "# multiple choice\n",
    "df['DatabaseHaveWorkedWith']"
   ]
  },
  {
   "cell_type": "code",
   "execution_count": 34,
   "metadata": {},
   "outputs": [
    {
     "data": {
      "text/plain": [
       "0                                           NaN\n",
       "1                                           NaN\n",
       "2                                           NaN\n",
       "3                                           NaN\n",
       "4                      Firebase;Microsoft Azure\n",
       "                          ...                  \n",
       "73263             AWS;DigitalOcean;Google Cloud\n",
       "73264                                       NaN\n",
       "73265    Managed Hosting;Microsoft Azure;VMware\n",
       "73266                                       NaN\n",
       "73267                           Microsoft Azure\n",
       "Name: PlatformHaveWorkedWith, Length: 73268, dtype: object"
      ]
     },
     "execution_count": 34,
     "metadata": {},
     "output_type": "execute_result"
    }
   ],
   "source": [
    "# multiple choice\n",
    "df['PlatformHaveWorkedWith']"
   ]
  },
  {
   "cell_type": "code",
   "execution_count": 35,
   "metadata": {},
   "outputs": [
    {
     "data": {
      "text/plain": [
       "0                                                 NaN\n",
       "1                                                 NaN\n",
       "2                                          Angular.js\n",
       "3                               ASP.NET;ASP.NET Core \n",
       "4        Angular;ASP.NET;ASP.NET Core ;jQuery;Node.js\n",
       "                             ...                     \n",
       "73263                         Express;FastAPI;Node.js\n",
       "73264                          FastAPI;Flask;React.js\n",
       "73265                                ASP.NET;React.js\n",
       "73266                                             NaN\n",
       "73267    ASP.NET Core ;Blazor;Node.js;React.js;Svelte\n",
       "Name: WebframeHaveWorkedWith, Length: 73268, dtype: object"
      ]
     },
     "execution_count": 35,
     "metadata": {},
     "output_type": "execute_result"
    }
   ],
   "source": [
    "# multiple choice\n",
    "df['WebframeHaveWorkedWith']"
   ]
  },
  {
   "cell_type": "code",
   "execution_count": 36,
   "metadata": {},
   "outputs": [
    {
     "data": {
      "text/plain": [
       "0                                                      NaN\n",
       "1                                                      NaN\n",
       "2                                                   Pandas\n",
       "3                                                     .NET\n",
       "4                                                     .NET\n",
       "                               ...                        \n",
       "73263                                              Flutter\n",
       "73264    Keras;NumPy;Pandas;Scikit-learn;TensorFlow;Tor...\n",
       "73265                             .NET;Pandas;React Native\n",
       "73266                                                  NaN\n",
       "73267                            Apache Kafka;Apache Spark\n",
       "Name: MiscTechHaveWorkedWith, Length: 73268, dtype: object"
      ]
     },
     "execution_count": 36,
     "metadata": {},
     "output_type": "execute_result"
    }
   ],
   "source": [
    "# multiple choice\n",
    "df['MiscTechHaveWorkedWith']"
   ]
  },
  {
   "cell_type": "code",
   "execution_count": 37,
   "metadata": {},
   "outputs": [
    {
     "data": {
      "text/plain": [
       "0                                           NaN\n",
       "1                                           NaN\n",
       "2                                           NaN\n",
       "3                                           NaN\n",
       "4                                           npm\n",
       "                          ...                  \n",
       "73263            Docker;Homebrew;Kubernetes;npm\n",
       "73264                                       NaN\n",
       "73265                                       npm\n",
       "73266                                       NaN\n",
       "73267    Docker;Kubernetes;npm;Pulumi;Terraform\n",
       "Name: ToolsTechHaveWorkedWith, Length: 73268, dtype: object"
      ]
     },
     "execution_count": 37,
     "metadata": {},
     "output_type": "execute_result"
    }
   ],
   "source": [
    "# multiple choice\n",
    "df['ToolsTechHaveWorkedWith']"
   ]
  },
  {
   "cell_type": "code",
   "execution_count": 38,
   "metadata": {},
   "outputs": [
    {
     "data": {
      "text/plain": [
       "0                                                 NaN\n",
       "1                                                 NaN\n",
       "2                                                 NaN\n",
       "3                         Jira Work Management;Trello\n",
       "4                                                 NaN\n",
       "                             ...                     \n",
       "73263                            Jira Work Management\n",
       "73264                                             NaN\n",
       "73265                                 Microsoft Lists\n",
       "73266                                             NaN\n",
       "73267    Confluence;Jira Work Management;Trello;Wrike\n",
       "Name: OfficeStackAsyncHaveWorkedWith, Length: 73268, dtype: object"
      ]
     },
     "execution_count": 38,
     "metadata": {},
     "output_type": "execute_result"
    }
   ],
   "source": [
    "# multiple choice\n",
    "df['OfficeStackAsyncHaveWorkedWith']"
   ]
  },
  {
   "cell_type": "code",
   "execution_count": 39,
   "metadata": {},
   "outputs": [
    {
     "data": {
      "text/plain": [
       "0                               NaN\n",
       "1                               NaN\n",
       "2                   Microsoft Teams\n",
       "3                        Slack;Zoom\n",
       "4              Microsoft Teams;Zoom\n",
       "                    ...            \n",
       "73263                    Slack;Zoom\n",
       "73264                    Rocketchat\n",
       "73265          Microsoft Teams;Zoom\n",
       "73266                          Zoom\n",
       "73267    Microsoft Teams;Slack;Zoom\n",
       "Name: OfficeStackSyncHaveWorkedWith, Length: 73268, dtype: object"
      ]
     },
     "execution_count": 39,
     "metadata": {},
     "output_type": "execute_result"
    }
   ],
   "source": [
    "# multiple choice\n",
    "df['OfficeStackSyncHaveWorkedWith']"
   ]
  },
  {
   "cell_type": "markdown",
   "metadata": {},
   "source": [
    "Need to combine values in LanguageHaveWorkedWith, DatabaseHaveWorkedWith, PlatformHaveWorkedWith, WebframeHaveWorkedWith, MiscTechHaveWorkedWith, ToolsTechHaveWorkedWith, OfficeStackAsyncHaveWorkedWith and OfficeStackSyncHaveWorkedWith and merge them into a new attribute called tools. If nan values are in all eight attributes, then drop that row."
   ]
  },
  {
   "cell_type": "code",
   "execution_count": 40,
   "metadata": {},
   "outputs": [],
   "source": [
    "# merge all eight attributes into one new attribute called 'tools' \n",
    "# and extract the row indexes that have nan values in all eight attributes\n",
    "data_db = df['DatabaseHaveWorkedWith']\n",
    "data_fw = df['WebframeHaveWorkedWith']\n",
    "data_lang = df['LanguageHaveWorkedWith']\n",
    "data_plat = df['PlatformHaveWorkedWith']\n",
    "data_misc = df['MiscTechHaveWorkedWith']\n",
    "data_tech = df['ToolsTechHaveWorkedWith']\n",
    "data_a_office = df['OfficeStackAsyncHaveWorkedWith']\n",
    "data_s_office = df['OfficeStackSyncHaveWorkedWith']\n",
    "tools = pd.Series()\n",
    "drop_lst = np.array([])\n",
    "for i in range(len(df)):\n",
    "    a = data_db[i]\n",
    "    b = data_fw[i]\n",
    "    c = data_lang[i]\n",
    "    d = data_plat[i]\n",
    "    e = data_misc[i]\n",
    "    f = data_tech[i]\n",
    "    g = data_a_office[i]\n",
    "    h = data_s_office[i]\n",
    "\n",
    "    a_lst = list()\n",
    "    b_lst = list()\n",
    "    c_lst = list()\n",
    "    d_lst = list()\n",
    "    e_lst = list()\n",
    "    f_lst = list()\n",
    "    g_lst = list()\n",
    "    h_lst = list()\n",
    "\n",
    "    if type(a) == str:\n",
    "        a_lst = a.split(\";\")\n",
    "    if type(b) == str:\n",
    "        b_lst = b.split(\";\")\n",
    "    if type(c) == str:\n",
    "        c_lst = c.split(\";\")\n",
    "    if type(d) == str:\n",
    "        d_lst = d.split(\";\")\n",
    "    if type(e) == str:\n",
    "        e_lst = e.split(\";\")\n",
    "    if type(f) == str:\n",
    "        f_lst = f.split(\";\")\n",
    "    if type(g) == str:\n",
    "        g_lst = g.split(\";\")\n",
    "    if type(h) == str:\n",
    "        h_lst = h.split(\";\")\n",
    "\n",
    "    # if eight attributes are all nan values, then add the row index into drop list    \n",
    "    if len(a_lst) == 0 and len(b_lst) == 0 and len(c_lst) == 0 and len(d_lst) == 0 and len(e_lst) == 0 and len(f_lst) == 0 and len(g_lst) == 0 and len(h_lst) == 0 :\n",
    "        tools[i] = np.nan\n",
    "        drop_lst = np.append(drop_lst, i)\n",
    "    else:\n",
    "        tools[i] = a_lst + b_lst + c_lst + d_lst + e_lst + f_lst + g_lst + h_lst\n",
    "\n",
    "# create new attribute tools\n",
    "df['tools'] = tools"
   ]
  },
  {
   "cell_type": "code",
   "execution_count": 41,
   "metadata": {},
   "outputs": [
    {
     "name": "stdout",
     "output_type": "stream",
     "text": [
      "Rows at these indexes have all nan value and need to be dropped \n",
      " [0.0000e+00 3.0000e+01 8.6000e+01 ... 7.3201e+04 7.3215e+04 7.3243e+04]\n",
      "The total number of nan values in all eight attributes \n",
      "(LanguageHaveWorkedWith, DatabaseHaveWorkedWith, PlatformHaveWorkedWith, WebframeHaveWorkedWith, MiscTechHaveWorkedWith, ToolsTechHaveWorkedWith, OfficeStackAsyncHaveWorkedWith and OfficeStackSyncHaveWorkedWith) \n",
      " is 1848 which the proportion is 0.025222470928645522\n"
     ]
    }
   ],
   "source": [
    "# drop the rows that have all nan values and create a new datatframe df2\n",
    "print(\"Rows at these indexes have all nan value and need to be dropped \\n \"+str(drop_lst))\n",
    "print(\"The total number of nan values in all eight attributes \\n(LanguageHaveWorkedWith, DatabaseHaveWorkedWith, PlatformHaveWorkedWith, WebframeHaveWorkedWith, MiscTechHaveWorkedWith, ToolsTechHaveWorkedWith, OfficeStackAsyncHaveWorkedWith and OfficeStackSyncHaveWorkedWith)\"\n",
    "      +\" \\n is \"+str(len(drop_lst))+\" which the proportion is \"+str(len(drop_lst)/len(df)))\n",
    "df2 = df.drop(index = drop_lst)"
   ]
  },
  {
   "cell_type": "code",
   "execution_count": 42,
   "metadata": {},
   "outputs": [
    {
     "name": "stdout",
     "output_type": "stream",
     "text": [
      "code_yrs\n",
      "11+ years       30246\n",
      "6 - 10 years    20887\n",
      "2 - 5 years     13735\n",
      "0 - 2 years      6153\n",
      "Name: count, dtype: int64\n",
      "The total number of nan values for experience_range is 399 and the proportion is 0.005586670400448053\n"
     ]
    }
   ],
   "source": [
    "# show the number and proportion of nan values in yrs of coding/experience_range\n",
    "df_yrs = df2['code_yrs']\n",
    "print(df_yrs.value_counts())\n",
    "c, r = count_nan(df_yrs)\n",
    "print(\"The total number of nan values for experience_range is \"+str(c)+\" and the proportion is \"+str(r))"
   ]
  },
  {
   "cell_type": "code",
   "execution_count": 43,
   "metadata": {},
   "outputs": [
    {
     "name": "stdout",
     "output_type": "stream",
     "text": [
      "devtyp_t\n",
      "[Developer_full-stack]                                                                                                                                                                                7130\n",
      "[Developer_back-end]                                                                                                                                                                                  5290\n",
      "[Developer_front-end]                                                                                                                                                                                 2377\n",
      "[Developer_front-end, Developer_full-stack, Developer_back-end]                                                                                                                                       1805\n",
      "[Developer_full-stack, Developer_back-end]                                                                                                                                                            1531\n",
      "                                                                                                                                                                                                      ... \n",
      "[Engineer_data, Developer_full-stack, Scientist, Blockchain]                                                                                                                                             1\n",
      "[Engineer_data, Developer_back-end, Developer_desktop or enterprise applications, Developer_QA or test, Database administrator, DevOps specialist, Data or business analyst]                             1\n",
      "[Data scientist or machine learning specialist, Developer_front-end, Developer_full-stack, Developer_back-end, Developer_mobile, DevOps specialist, Cloud infrastructure engineer, Blockchain]           1\n",
      "[Data scientist or machine learning specialist, Engineer_data, Developer_back-end, Engineering manager, Project manager, Cloud infrastructure engineer, Data or business analyst, Product manager]       1\n",
      "[Developer_mobile, Database administrator]                                                                                                                                                               1\n",
      "Name: count, Length: 9969, dtype: int64\n",
      "The total number of nan values for Occupation is 10296 and the proportion is 0.1441612993559227\n"
     ]
    }
   ],
   "source": [
    "# show the number and proportion of nan values in occupation\n",
    "df_occup = df2['devtyp_t']\n",
    "print(df_occup.value_counts())\n",
    "c, r = count_nan(df_occup)\n",
    "print(\"The total number of nan values for Occupation is \"+str(c)+\" and the proportion is \"+str(r))"
   ]
  },
  {
   "cell_type": "code",
   "execution_count": 44,
   "metadata": {},
   "outputs": [
    {
     "name": "stdout",
     "output_type": "stream",
     "text": [
      "opsys_t\n",
      "[Windows]                                                                                    14023\n",
      "[Linux-based, Windows]                                                                       10237\n",
      "[macOS]                                                                                       7599\n",
      "[Linux-based]                                                                                 7122\n",
      "[Linux-based, Windows, Windows Subsystem for Linux (WSL)]                                     5834\n",
      "                                                                                             ...  \n",
      "[macOS, Windows, Other (please specify):]                                                        1\n",
      "[BSD, macOS, Windows, Windows Subsystem for Linux (WSL)]                                         1\n",
      "[Other (please specify):, Windows Subsystem for Linux (WSL)]                                     1\n",
      "[Linux-based, macOS, Windows, Windows Subsystem for Linux (WSL), Other (please specify):]        1\n",
      "[BSD, Linux-based, Other (please specify):, Windows Subsystem for Linux (WSL), macOS]            1\n",
      "Name: count, Length: 77, dtype: int64\n",
      "The total number of nan values for desktop systems is 210 and the proportion is 0.002940352842341081\n"
     ]
    }
   ],
   "source": [
    "# show the number and proportion of nan values in desktop operation system\n",
    "df_op = df2['opsys_t']\n",
    "print(df_op.value_counts())\n",
    "c, r = count_nan(df_op)\n",
    "print(\"The total number of nan values for desktop systems is \"+str(c)+\" and the proportion is \"+str(r))"
   ]
  },
  {
   "cell_type": "code",
   "execution_count": 45,
   "metadata": {},
   "outputs": [
    {
     "name": "stdout",
     "output_type": "stream",
     "text": [
      "ide_t\n",
      "[Visual Studio Code]                                                                                                                                                                              6727\n",
      "[Visual Studio, Visual Studio Code]                                                                                                                                                               2929\n",
      "[Notepad++, Visual Studio, Visual Studio Code]                                                                                                                                                    1959\n",
      "[Vim, Visual Studio Code]                                                                                                                                                                         1432\n",
      "[IntelliJ, Visual Studio Code]                                                                                                                                                                    1204\n",
      "                                                                                                                                                                                                  ... \n",
      "[Android Studio, Atom, Eclipse, IntelliJ, IPython/Jupyter, Nano, Visual Studio Code, Webstorm, Xcode]                                                                                                1\n",
      "[Atom, Emacs, Webstorm]                                                                                                                                                                              1\n",
      "[Android Studio, Eclipse, IntelliJ, Notepad++, PhpStorm, Visual Studio, Webstorm]                                                                                                                    1\n",
      "[Android Studio, Atom, CLion, Eclipse, GoLand, IntelliJ, IPython/Jupyter, Nano, NetBeans, Notepad++, PhpStorm, PyCharm, Rider, Sublime Text, Vim, Visual Studio, Visual Studio Code, Webstorm]       1\n",
      "[Atom, Notepad++, Vim, Visual Studio Code, Xcode]                                                                                                                                                    1\n",
      "Name: count, Length: 15058, dtype: int64\n",
      "The total number of nan values for Preferred text editor is 1143 and the proportion is 0.016003920470456456\n"
     ]
    }
   ],
   "source": [
    "# show the number and proportion of nan values in Preferred text editor/dev environment\n",
    "df_te = df2['ide_t']\n",
    "print(df_te.value_counts())\n",
    "c, r = count_nan(df_te)\n",
    "print(\"The total number of nan values for Preferred text editor is \"+str(c)+\" and the proportion is \"+str(r))"
   ]
  },
  {
   "cell_type": "code",
   "execution_count": 46,
   "metadata": {},
   "outputs": [
    {
     "name": "stdout",
     "output_type": "stream",
     "text": [
      "salary_merge\n",
      "More than $160,000     5960\n",
      "$40,000 - $60,000      5901\n",
      "$20,000 - $40,000      5523\n",
      "$60,000 - $80,000      5313\n",
      "Less than $20,000      5303\n",
      "$80,000 - $100,000     3545\n",
      "$100,000 - $120,000    2670\n",
      "$120,000 - $140,000    2088\n",
      "$140,000 - $160,000    1745\n",
      "Name: count, dtype: int64\n",
      "The total number of nan values for salary is 33372 and the proportion is 0.4672640716886026\n"
     ]
    }
   ],
   "source": [
    "# show the number and proportion of nan values in salary\n",
    "df_salary = df2['salary_merge']\n",
    "print(df_salary.value_counts())\n",
    "c, r = count_nan(df_salary)\n",
    "print(\"The total number of nan values for salary is \"+str(c)+\" and the proportion is \"+str(r))"
   ]
  },
  {
   "cell_type": "code",
   "execution_count": 47,
   "metadata": {},
   "outputs": [
    {
     "name": "stdout",
     "output_type": "stream",
     "text": [
      "edu_t\n",
      "[Bachelor’s degree (B.A., B.S., B.Eng., etc.), School (i.e., University, College, etc)]                                                                                                                                               1886\n",
      "[Bachelor’s degree (B.A., B.S., B.Eng., etc.), Other online resources (e.g., videos, blogs, forum), School (i.e., University, College, etc)]                                                                                          1188\n",
      "[Bachelor’s degree (B.A., B.S., B.Eng., etc.), Books / Physical media, Other online resources (e.g., videos, blogs, forum), School (i.e., University, College, etc)]                                                                  1173\n",
      "[Bachelor’s degree (B.A., B.S., B.Eng., etc.), Books / Physical media, Other online resources (e.g., videos, blogs, forum), School (i.e., University, College, etc), On the job training, Online Courses or Certification]            1154\n",
      "[Bachelor’s degree (B.A., B.S., B.Eng., etc.), Books / Physical media, Other online resources (e.g., videos, blogs, forum), School (i.e., University, College, etc), Online Courses or Certification]                                 1053\n",
      "                                                                                                                                                                                                                                      ... \n",
      "[Primary/elementary school, Books / Physical media, Other online resources (e.g., videos, blogs, forum), School (i.e., University, College, etc), Other (please specify):]                                                               1\n",
      "[Professional degree (JD, MD, etc.), Other online resources (e.g., videos, blogs, forum), On the job training, Coding Bootcamp, Hackathons (virtual or in-person)]                                                                       1\n",
      "[Master’s degree (M.A., M.S., M.Eng., MBA, etc.), Friend or family member, Other online resources (e.g., videos, blogs, forum), School (i.e., University, College, etc), Online Courses or Certification, Other (please specify):]       1\n",
      "[Other doctoral degree (Ph.D., Ed.D., etc.), Books / Physical media, Friend or family member, Other online resources (e.g., videos, blogs, forum), On the job training, Colleague]                                                       1\n",
      "[Primary/elementary school, Books / Physical media, Friend or family member, On the job training, Colleague]                                                                                                                             1\n",
      "Name: count, Length: 3425, dtype: int64\n",
      "The total number of nan values for education is 71 and the proportion is 0.000994119294315318\n"
     ]
    }
   ],
   "source": [
    "# show the number and proportion of nan values in education\n",
    "df_edu = df2['edu_t']\n",
    "print(df_edu.value_counts())\n",
    "c, r = count_nan(df_edu)\n",
    "print(\"The total number of nan values for education is \"+str(c)+\" and the proportion is \"+str(r))"
   ]
  },
  {
   "cell_type": "code",
   "execution_count": 48,
   "metadata": {},
   "outputs": [
    {
     "name": "stdout",
     "output_type": "stream",
     "text": [
      "Country\n",
      "United States of America                                13504\n",
      "India                                                    6567\n",
      "Germany                                                  5390\n",
      "United Kingdom of Great Britain and Northern Ireland     4182\n",
      "Canada                                                   2477\n",
      "                                                        ...  \n",
      "Monaco                                                      1\n",
      "Djibouti                                                    1\n",
      "Seychelles                                                  1\n",
      "Solomon Islands                                             1\n",
      "Saint Kitts and Nevis                                       1\n",
      "Name: count, Length: 180, dtype: int64\n",
      "The total number of nan values for Country is 0 and the proportion is 0.0\n"
     ]
    }
   ],
   "source": [
    "# show the number and proportion of nan values in country\n",
    "df_country = df2['Country']\n",
    "print(df_country.value_counts())\n",
    "c, r = count_nan(df_country)\n",
    "print(\"The total number of nan values for Country is \"+str(c)+\" and the proportion is \"+str(r))"
   ]
  },
  {
   "cell_type": "code",
   "execution_count": 49,
   "metadata": {},
   "outputs": [],
   "source": [
    "# Comment out this block because it's too time consuming to run and does not reveal too much useful info\n",
    "\n",
    "# show the number and proportion of nan values in tools\n",
    "# df_tools = df2['tools']\n",
    "# print(df_tools.value_counts())\n",
    "# # c, r = count_nan(df_tools)\n",
    "# print(\"The total number of nan values for tools is 0 and the proportion is 0\")"
   ]
  },
  {
   "cell_type": "code",
   "execution_count": 50,
   "metadata": {},
   "outputs": [],
   "source": [
    "# add year\n",
    "df2['year'] = 2022"
   ]
  },
  {
   "cell_type": "code",
   "execution_count": 51,
   "metadata": {},
   "outputs": [
    {
     "data": {
      "text/html": [
       "<div>\n",
       "<style scoped>\n",
       "    .dataframe tbody tr th:only-of-type {\n",
       "        vertical-align: middle;\n",
       "    }\n",
       "\n",
       "    .dataframe tbody tr th {\n",
       "        vertical-align: top;\n",
       "    }\n",
       "\n",
       "    .dataframe thead th {\n",
       "        text-align: right;\n",
       "    }\n",
       "</style>\n",
       "<table border=\"1\" class=\"dataframe\">\n",
       "  <thead>\n",
       "    <tr style=\"text-align: right;\">\n",
       "      <th></th>\n",
       "      <th>devtyp_t</th>\n",
       "      <th>Country</th>\n",
       "      <th>edu_t</th>\n",
       "      <th>code_yrs</th>\n",
       "      <th>opsys_t</th>\n",
       "      <th>ide_t</th>\n",
       "      <th>year</th>\n",
       "      <th>tools</th>\n",
       "    </tr>\n",
       "  </thead>\n",
       "  <tbody>\n",
       "    <tr>\n",
       "      <th>1</th>\n",
       "      <td>NaN</td>\n",
       "      <td>Canada</td>\n",
       "      <td>NaN</td>\n",
       "      <td>NaN</td>\n",
       "      <td>[Windows Subsystem for Linux (WSL), macOS]</td>\n",
       "      <td>NaN</td>\n",
       "      <td>2022</td>\n",
       "      <td>[JavaScript, TypeScript]</td>\n",
       "    </tr>\n",
       "    <tr>\n",
       "      <th>2</th>\n",
       "      <td>[Data scientist or machine learning specialist...</td>\n",
       "      <td>United Kingdom of Great Britain and Northern I...</td>\n",
       "      <td>[Master’s degree (M.A., M.S., M.Eng., MBA, etc...</td>\n",
       "      <td>11+ years</td>\n",
       "      <td>[Windows]</td>\n",
       "      <td>[Notepad++, Visual Studio]</td>\n",
       "      <td>2022</td>\n",
       "      <td>[Microsoft SQL Server, Angular.js, C#, C++, HT...</td>\n",
       "    </tr>\n",
       "    <tr>\n",
       "      <th>3</th>\n",
       "      <td>[Developer_full-stack]</td>\n",
       "      <td>Israel</td>\n",
       "      <td>[Bachelor’s degree (B.A., B.S., B.Eng., etc.),...</td>\n",
       "      <td>11+ years</td>\n",
       "      <td>[Windows]</td>\n",
       "      <td>[Notepad++, Visual Studio, Visual Studio Code]</td>\n",
       "      <td>2022</td>\n",
       "      <td>[Microsoft SQL Server, ASP.NET, ASP.NET Core ,...</td>\n",
       "    </tr>\n",
       "    <tr>\n",
       "      <th>4</th>\n",
       "      <td>[Developer_front-end, Developer_full-stack, De...</td>\n",
       "      <td>United States of America</td>\n",
       "      <td>[Bachelor’s degree (B.A., B.S., B.Eng., etc.),...</td>\n",
       "      <td>6 - 10 years</td>\n",
       "      <td>[Windows, macOS]</td>\n",
       "      <td>[Notepad++, Visual Studio, Visual Studio Code,...</td>\n",
       "      <td>2022</td>\n",
       "      <td>[Cloud Firestore, Elasticsearch, Microsoft SQL...</td>\n",
       "    </tr>\n",
       "    <tr>\n",
       "      <th>5</th>\n",
       "      <td>NaN</td>\n",
       "      <td>Germany</td>\n",
       "      <td>[Master’s degree (M.A., M.S., M.Eng., MBA, etc...</td>\n",
       "      <td>11+ years</td>\n",
       "      <td>[Linux-based, macOS]</td>\n",
       "      <td>[Visual Studio Code, Xcode]</td>\n",
       "      <td>2022</td>\n",
       "      <td>[C++, Lua, Homebrew, Confluence, Rocketchat, S...</td>\n",
       "    </tr>\n",
       "    <tr>\n",
       "      <th>...</th>\n",
       "      <td>...</td>\n",
       "      <td>...</td>\n",
       "      <td>...</td>\n",
       "      <td>...</td>\n",
       "      <td>...</td>\n",
       "      <td>...</td>\n",
       "      <td>...</td>\n",
       "      <td>...</td>\n",
       "    </tr>\n",
       "    <tr>\n",
       "      <th>73263</th>\n",
       "      <td>[Developer_back-end]</td>\n",
       "      <td>Nigeria</td>\n",
       "      <td>[Bachelor’s degree (B.A., B.S., B.Eng., etc.),...</td>\n",
       "      <td>6 - 10 years</td>\n",
       "      <td>[Linux-based, macOS]</td>\n",
       "      <td>[IPython/Jupyter, Sublime Text, Vim, Visual St...</td>\n",
       "      <td>2022</td>\n",
       "      <td>[Elasticsearch, MySQL, PostgreSQL, Redis, Expr...</td>\n",
       "    </tr>\n",
       "    <tr>\n",
       "      <th>73264</th>\n",
       "      <td>[Data scientist or machine learning specialist]</td>\n",
       "      <td>United States of America</td>\n",
       "      <td>[Master’s degree (M.A., M.S., M.Eng., MBA, etc...</td>\n",
       "      <td>6 - 10 years</td>\n",
       "      <td>[Linux-based, Windows]</td>\n",
       "      <td>[IPython/Jupyter, Notepad++, Spyder, Vim, Visu...</td>\n",
       "      <td>2022</td>\n",
       "      <td>[Elasticsearch, MongoDB, Oracle, SQLite, FastA...</td>\n",
       "    </tr>\n",
       "    <tr>\n",
       "      <th>73265</th>\n",
       "      <td>[Developer_full-stack, Developer_desktop or en...</td>\n",
       "      <td>United States of America</td>\n",
       "      <td>[Bachelor’s degree (B.A., B.S., B.Eng., etc.),...</td>\n",
       "      <td>11+ years</td>\n",
       "      <td>[Windows]</td>\n",
       "      <td>[Spyder, Visual Studio, Visual Studio Code]</td>\n",
       "      <td>2022</td>\n",
       "      <td>[MariaDB, Microsoft SQL Server, MySQL, Postgre...</td>\n",
       "    </tr>\n",
       "    <tr>\n",
       "      <th>73266</th>\n",
       "      <td>[Developer_front-end, Developer_desktop or ent...</td>\n",
       "      <td>United Kingdom of Great Britain and Northern I...</td>\n",
       "      <td>[Bachelor’s degree (B.A., B.S., B.Eng., etc.),...</td>\n",
       "      <td>11+ years</td>\n",
       "      <td>[Windows]</td>\n",
       "      <td>[RAD Studio (Delphi, C++ Builder), Visual Studio]</td>\n",
       "      <td>2022</td>\n",
       "      <td>[Microsoft SQL Server, MongoDB, Oracle, C#, De...</td>\n",
       "    </tr>\n",
       "    <tr>\n",
       "      <th>73267</th>\n",
       "      <td>[Developer_front-end, Engineer_data, Engineer_...</td>\n",
       "      <td>Canada</td>\n",
       "      <td>[Bachelor’s degree (B.A., B.S., B.Eng., etc.),...</td>\n",
       "      <td>11+ years</td>\n",
       "      <td>[Linux-based, Windows]</td>\n",
       "      <td>[Visual Studio, Visual Studio Code]</td>\n",
       "      <td>2022</td>\n",
       "      <td>[Microsoft SQL Server, Neo4j, Redis, ASP.NET C...</td>\n",
       "    </tr>\n",
       "  </tbody>\n",
       "</table>\n",
       "<p>71420 rows × 8 columns</p>\n",
       "</div>"
      ],
      "text/plain": [
       "                                                devtyp_t  \\\n",
       "1                                                    NaN   \n",
       "2      [Data scientist or machine learning specialist...   \n",
       "3                                 [Developer_full-stack]   \n",
       "4      [Developer_front-end, Developer_full-stack, De...   \n",
       "5                                                    NaN   \n",
       "...                                                  ...   \n",
       "73263                               [Developer_back-end]   \n",
       "73264    [Data scientist or machine learning specialist]   \n",
       "73265  [Developer_full-stack, Developer_desktop or en...   \n",
       "73266  [Developer_front-end, Developer_desktop or ent...   \n",
       "73267  [Developer_front-end, Engineer_data, Engineer_...   \n",
       "\n",
       "                                                 Country  \\\n",
       "1                                                 Canada   \n",
       "2      United Kingdom of Great Britain and Northern I...   \n",
       "3                                                 Israel   \n",
       "4                               United States of America   \n",
       "5                                                Germany   \n",
       "...                                                  ...   \n",
       "73263                                            Nigeria   \n",
       "73264                           United States of America   \n",
       "73265                           United States of America   \n",
       "73266  United Kingdom of Great Britain and Northern I...   \n",
       "73267                                             Canada   \n",
       "\n",
       "                                                   edu_t      code_yrs  \\\n",
       "1                                                    NaN           NaN   \n",
       "2      [Master’s degree (M.A., M.S., M.Eng., MBA, etc...     11+ years   \n",
       "3      [Bachelor’s degree (B.A., B.S., B.Eng., etc.),...     11+ years   \n",
       "4      [Bachelor’s degree (B.A., B.S., B.Eng., etc.),...  6 - 10 years   \n",
       "5      [Master’s degree (M.A., M.S., M.Eng., MBA, etc...     11+ years   \n",
       "...                                                  ...           ...   \n",
       "73263  [Bachelor’s degree (B.A., B.S., B.Eng., etc.),...  6 - 10 years   \n",
       "73264  [Master’s degree (M.A., M.S., M.Eng., MBA, etc...  6 - 10 years   \n",
       "73265  [Bachelor’s degree (B.A., B.S., B.Eng., etc.),...     11+ years   \n",
       "73266  [Bachelor’s degree (B.A., B.S., B.Eng., etc.),...     11+ years   \n",
       "73267  [Bachelor’s degree (B.A., B.S., B.Eng., etc.),...     11+ years   \n",
       "\n",
       "                                          opsys_t  \\\n",
       "1      [Windows Subsystem for Linux (WSL), macOS]   \n",
       "2                                       [Windows]   \n",
       "3                                       [Windows]   \n",
       "4                                [Windows, macOS]   \n",
       "5                            [Linux-based, macOS]   \n",
       "...                                           ...   \n",
       "73263                        [Linux-based, macOS]   \n",
       "73264                      [Linux-based, Windows]   \n",
       "73265                                   [Windows]   \n",
       "73266                                   [Windows]   \n",
       "73267                      [Linux-based, Windows]   \n",
       "\n",
       "                                                   ide_t  year  \\\n",
       "1                                                    NaN  2022   \n",
       "2                             [Notepad++, Visual Studio]  2022   \n",
       "3         [Notepad++, Visual Studio, Visual Studio Code]  2022   \n",
       "4      [Notepad++, Visual Studio, Visual Studio Code,...  2022   \n",
       "5                            [Visual Studio Code, Xcode]  2022   \n",
       "...                                                  ...   ...   \n",
       "73263  [IPython/Jupyter, Sublime Text, Vim, Visual St...  2022   \n",
       "73264  [IPython/Jupyter, Notepad++, Spyder, Vim, Visu...  2022   \n",
       "73265        [Spyder, Visual Studio, Visual Studio Code]  2022   \n",
       "73266  [RAD Studio (Delphi, C++ Builder), Visual Studio]  2022   \n",
       "73267                [Visual Studio, Visual Studio Code]  2022   \n",
       "\n",
       "                                                   tools  \n",
       "1                               [JavaScript, TypeScript]  \n",
       "2      [Microsoft SQL Server, Angular.js, C#, C++, HT...  \n",
       "3      [Microsoft SQL Server, ASP.NET, ASP.NET Core ,...  \n",
       "4      [Cloud Firestore, Elasticsearch, Microsoft SQL...  \n",
       "5      [C++, Lua, Homebrew, Confluence, Rocketchat, S...  \n",
       "...                                                  ...  \n",
       "73263  [Elasticsearch, MySQL, PostgreSQL, Redis, Expr...  \n",
       "73264  [Elasticsearch, MongoDB, Oracle, SQLite, FastA...  \n",
       "73265  [MariaDB, Microsoft SQL Server, MySQL, Postgre...  \n",
       "73266  [Microsoft SQL Server, MongoDB, Oracle, C#, De...  \n",
       "73267  [Microsoft SQL Server, Neo4j, Redis, ASP.NET C...  \n",
       "\n",
       "[71420 rows x 8 columns]"
      ]
     },
     "execution_count": 51,
     "metadata": {},
     "output_type": "execute_result"
    }
   ],
   "source": [
    "# drop unwanted attributes (drop compensation)\n",
    "df3 = df2.loc[:,['devtyp_t', 'Country', 'edu_t','code_yrs','opsys_t','ide_t','year','tools']]\n",
    "df3"
   ]
  },
  {
   "cell_type": "code",
   "execution_count": 52,
   "metadata": {},
   "outputs": [],
   "source": [
    "# export df3\n",
    "df3.to_csv(\"2022_df3.csv\")"
   ]
  },
  {
   "cell_type": "markdown",
   "metadata": {},
   "source": [
    "extract all of the languages in dataset"
   ]
  },
  {
   "cell_type": "code",
   "execution_count": 53,
   "metadata": {},
   "outputs": [
    {
     "name": "stdout",
     "output_type": "stream",
     "text": [
      "{'JavaScript': 46443, 'TypeScript': 24752, 'C#': 19883, 'C++': 16024, 'HTML/CSS': 39142, 'Python': 34155, 'SQL': 35127, 'Swift': 3489, 'Lua': 2867, 'PHP': 14827, 'C': 13692, 'Java': 23644, 'Delphi': 2311, 'Bash/Shell': 20656, 'PowerShell': 8575, 'Rust': 6625, 'Elixir': 1528, 'Erlang': 641, 'Ruby': 4299, 'R': 3308, 'Scala': 1837, 'VBA': 3185, 'Dart': 4648, 'Go': 7922, 'Kotlin': 6507, 'Groovy': 2357, 'MATLAB': 2913, 'Perl': 1644, 'Haskell': 1577, 'Julia': 1084, 'LISP': 932, 'Assembly': 3887, 'F#': 730, 'Clojure': 1070, 'APL': 504, 'Crystal': 340, 'Fortran': 646, 'Objective-C': 1698, 'SAS': 435, 'OCaml': 422, 'Solidity': 1031, 'COBOL': 464}\n",
      "dict_keys(['JavaScript', 'TypeScript', 'C#', 'C++', 'HTML/CSS', 'Python', 'SQL', 'Swift', 'Lua', 'PHP', 'C', 'Java', 'Delphi', 'Bash/Shell', 'PowerShell', 'Rust', 'Elixir', 'Erlang', 'Ruby', 'R', 'Scala', 'VBA', 'Dart', 'Go', 'Kotlin', 'Groovy', 'MATLAB', 'Perl', 'Haskell', 'Julia', 'LISP', 'Assembly', 'F#', 'Clojure', 'APL', 'Crystal', 'Fortran', 'Objective-C', 'SAS', 'OCaml', 'Solidity', 'COBOL'])\n"
     ]
    }
   ],
   "source": [
    "tools_dic = dict()\n",
    "\n",
    "for i in df['LanguageHaveWorkedWith']:\n",
    "    if type(i) == str:\n",
    "\n",
    "        x = i.split(\";\")\n",
    "    \n",
    "        for j in x:\n",
    "            if j not in tools_dic:\n",
    "                tools_dic[j] = 1\n",
    "            else:\n",
    "                old = tools_dic[j]\n",
    "                tools_dic[j] = old + 1\n",
    "\n",
    "\n",
    "print(tools_dic)\n",
    "\n",
    "print(tools_dic.keys())"
   ]
  },
  {
   "cell_type": "markdown",
   "metadata": {},
   "source": [
    "Languages:\n",
    "\n",
    "'JavaScript', 'TypeScript', 'C#', 'C++', 'HTML/CSS', 'Python', 'SQL', 'Swift', 'Lua', 'PHP', 'C', 'Java', 'Delphi', 'Bash/Shell', 'PowerShell', 'Rust', 'Elixir', 'Erlang', 'Ruby', 'R', 'Scala', 'VBA', 'Dart', 'Go', 'Kotlin', 'Groovy', 'MATLAB', 'Perl', 'Haskell', 'Julia', 'LISP', 'Assembly', 'F#', 'Clojure', 'APL', 'Crystal', 'Fortran', 'Objective-C', 'SAS', 'OCaml', 'Solidity', 'COBOL'\n"
   ]
  }
 ],
 "metadata": {
  "kernelspec": {
   "display_name": "Python 3",
   "language": "python",
   "name": "python3"
  },
  "language_info": {
   "codemirror_mode": {
    "name": "ipython",
    "version": 3
   },
   "file_extension": ".py",
   "mimetype": "text/x-python",
   "name": "python",
   "nbconvert_exporter": "python",
   "pygments_lexer": "ipython3",
   "version": "3.13.0"
  }
 },
 "nbformat": 4,
 "nbformat_minor": 2
}
