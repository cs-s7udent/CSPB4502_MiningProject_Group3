{
 "cells": [
  {
   "cell_type": "code",
   "execution_count": 18,
   "metadata": {},
   "outputs": [],
   "source": [
    "import pandas as pd\n",
    "import numpy as np\n",
    "import matplotlib.pyplot as plt"
   ]
  },
  {
   "cell_type": "code",
   "execution_count": 19,
   "metadata": {},
   "outputs": [],
   "source": [
    "# this method loops thru every value of the given pandas series and calculates\n",
    "# the total number of nan values and the fraction of \n",
    "# the total number of nan values / the total values in series \n",
    "def count_nan(series):\n",
    "    count = 0\n",
    "    for i in series:\n",
    "        if i is np.nan:\n",
    "            count += 1\n",
    "    return count, count/len(series)"
   ]
  },
  {
   "cell_type": "code",
   "execution_count": 20,
   "metadata": {},
   "outputs": [],
   "source": [
    "# this method transforms a string that contains different values separated by\n",
    "# a semicolon and a space(;) of a given attribute in a given dataframe into a list and \n",
    "# returns in the pandas series format and a nparray that contains the indexes of rows that\n",
    "# has nan \n",
    "def merge_str_list(df, attr_name):\n",
    "    drop_lst = np.array([])\n",
    "    result = pd.Series()\n",
    "    for i in range(df.shape[0]):\n",
    "        data = df[attr_name][i]\n",
    "        # if string value, extract all values into a list\n",
    "        if type(data) == str:\n",
    "            result[i] = data.split(';')\n",
    "        # if not string value, then add the index into drop_lst\n",
    "        else:\n",
    "            drop_lst = np.append(drop_lst, i)\n",
    "            result[i] = data\n",
    "    \n",
    "    return result, drop_lst"
   ]
  },
  {
   "cell_type": "code",
   "execution_count": 21,
   "metadata": {},
   "outputs": [
    {
     "data": {
      "text/html": [
       "<div>\n",
       "<style scoped>\n",
       "    .dataframe tbody tr th:only-of-type {\n",
       "        vertical-align: middle;\n",
       "    }\n",
       "\n",
       "    .dataframe tbody tr th {\n",
       "        vertical-align: top;\n",
       "    }\n",
       "\n",
       "    .dataframe thead th {\n",
       "        text-align: right;\n",
       "    }\n",
       "</style>\n",
       "<table border=\"1\" class=\"dataframe\">\n",
       "  <thead>\n",
       "    <tr style=\"text-align: right;\">\n",
       "      <th></th>\n",
       "      <th>ResponseId</th>\n",
       "      <th>MainBranch</th>\n",
       "      <th>Age</th>\n",
       "      <th>Employment</th>\n",
       "      <th>RemoteWork</th>\n",
       "      <th>Check</th>\n",
       "      <th>CodingActivities</th>\n",
       "      <th>EdLevel</th>\n",
       "      <th>LearnCode</th>\n",
       "      <th>LearnCodeOnline</th>\n",
       "      <th>...</th>\n",
       "      <th>JobSatPoints_6</th>\n",
       "      <th>JobSatPoints_7</th>\n",
       "      <th>JobSatPoints_8</th>\n",
       "      <th>JobSatPoints_9</th>\n",
       "      <th>JobSatPoints_10</th>\n",
       "      <th>JobSatPoints_11</th>\n",
       "      <th>SurveyLength</th>\n",
       "      <th>SurveyEase</th>\n",
       "      <th>ConvertedCompYearly</th>\n",
       "      <th>JobSat</th>\n",
       "    </tr>\n",
       "  </thead>\n",
       "  <tbody>\n",
       "    <tr>\n",
       "      <th>0</th>\n",
       "      <td>1</td>\n",
       "      <td>I am a developer by profession</td>\n",
       "      <td>Under 18 years old</td>\n",
       "      <td>Employed, full-time</td>\n",
       "      <td>Remote</td>\n",
       "      <td>Apples</td>\n",
       "      <td>Hobby</td>\n",
       "      <td>Primary/elementary school</td>\n",
       "      <td>Books / Physical media</td>\n",
       "      <td>NaN</td>\n",
       "      <td>...</td>\n",
       "      <td>NaN</td>\n",
       "      <td>NaN</td>\n",
       "      <td>NaN</td>\n",
       "      <td>NaN</td>\n",
       "      <td>NaN</td>\n",
       "      <td>NaN</td>\n",
       "      <td>NaN</td>\n",
       "      <td>NaN</td>\n",
       "      <td>NaN</td>\n",
       "      <td>NaN</td>\n",
       "    </tr>\n",
       "    <tr>\n",
       "      <th>1</th>\n",
       "      <td>2</td>\n",
       "      <td>I am a developer by profession</td>\n",
       "      <td>35-44 years old</td>\n",
       "      <td>Employed, full-time</td>\n",
       "      <td>Remote</td>\n",
       "      <td>Apples</td>\n",
       "      <td>Hobby;Contribute to open-source projects;Other...</td>\n",
       "      <td>Bachelor’s degree (B.A., B.S., B.Eng., etc.)</td>\n",
       "      <td>Books / Physical media;Colleague;On the job tr...</td>\n",
       "      <td>Technical documentation;Blogs;Books;Written Tu...</td>\n",
       "      <td>...</td>\n",
       "      <td>0.0</td>\n",
       "      <td>0.0</td>\n",
       "      <td>0.0</td>\n",
       "      <td>0.0</td>\n",
       "      <td>0.0</td>\n",
       "      <td>0.0</td>\n",
       "      <td>NaN</td>\n",
       "      <td>NaN</td>\n",
       "      <td>NaN</td>\n",
       "      <td>NaN</td>\n",
       "    </tr>\n",
       "    <tr>\n",
       "      <th>2</th>\n",
       "      <td>3</td>\n",
       "      <td>I am a developer by profession</td>\n",
       "      <td>45-54 years old</td>\n",
       "      <td>Employed, full-time</td>\n",
       "      <td>Remote</td>\n",
       "      <td>Apples</td>\n",
       "      <td>Hobby;Contribute to open-source projects;Other...</td>\n",
       "      <td>Master’s degree (M.A., M.S., M.Eng., MBA, etc.)</td>\n",
       "      <td>Books / Physical media;Colleague;On the job tr...</td>\n",
       "      <td>Technical documentation;Blogs;Books;Written Tu...</td>\n",
       "      <td>...</td>\n",
       "      <td>NaN</td>\n",
       "      <td>NaN</td>\n",
       "      <td>NaN</td>\n",
       "      <td>NaN</td>\n",
       "      <td>NaN</td>\n",
       "      <td>NaN</td>\n",
       "      <td>Appropriate in length</td>\n",
       "      <td>Easy</td>\n",
       "      <td>NaN</td>\n",
       "      <td>NaN</td>\n",
       "    </tr>\n",
       "    <tr>\n",
       "      <th>3</th>\n",
       "      <td>4</td>\n",
       "      <td>I am learning to code</td>\n",
       "      <td>18-24 years old</td>\n",
       "      <td>Student, full-time</td>\n",
       "      <td>NaN</td>\n",
       "      <td>Apples</td>\n",
       "      <td>NaN</td>\n",
       "      <td>Some college/university study without earning ...</td>\n",
       "      <td>Other online resources (e.g., videos, blogs, f...</td>\n",
       "      <td>Stack Overflow;How-to videos;Interactive tutorial</td>\n",
       "      <td>...</td>\n",
       "      <td>NaN</td>\n",
       "      <td>NaN</td>\n",
       "      <td>NaN</td>\n",
       "      <td>NaN</td>\n",
       "      <td>NaN</td>\n",
       "      <td>NaN</td>\n",
       "      <td>Too long</td>\n",
       "      <td>Easy</td>\n",
       "      <td>NaN</td>\n",
       "      <td>NaN</td>\n",
       "    </tr>\n",
       "    <tr>\n",
       "      <th>4</th>\n",
       "      <td>5</td>\n",
       "      <td>I am a developer by profession</td>\n",
       "      <td>18-24 years old</td>\n",
       "      <td>Student, full-time</td>\n",
       "      <td>NaN</td>\n",
       "      <td>Apples</td>\n",
       "      <td>NaN</td>\n",
       "      <td>Secondary school (e.g. American high school, G...</td>\n",
       "      <td>Other online resources (e.g., videos, blogs, f...</td>\n",
       "      <td>Technical documentation;Blogs;Written Tutorial...</td>\n",
       "      <td>...</td>\n",
       "      <td>NaN</td>\n",
       "      <td>NaN</td>\n",
       "      <td>NaN</td>\n",
       "      <td>NaN</td>\n",
       "      <td>NaN</td>\n",
       "      <td>NaN</td>\n",
       "      <td>Too short</td>\n",
       "      <td>Easy</td>\n",
       "      <td>NaN</td>\n",
       "      <td>NaN</td>\n",
       "    </tr>\n",
       "    <tr>\n",
       "      <th>...</th>\n",
       "      <td>...</td>\n",
       "      <td>...</td>\n",
       "      <td>...</td>\n",
       "      <td>...</td>\n",
       "      <td>...</td>\n",
       "      <td>...</td>\n",
       "      <td>...</td>\n",
       "      <td>...</td>\n",
       "      <td>...</td>\n",
       "      <td>...</td>\n",
       "      <td>...</td>\n",
       "      <td>...</td>\n",
       "      <td>...</td>\n",
       "      <td>...</td>\n",
       "      <td>...</td>\n",
       "      <td>...</td>\n",
       "      <td>...</td>\n",
       "      <td>...</td>\n",
       "      <td>...</td>\n",
       "      <td>...</td>\n",
       "      <td>...</td>\n",
       "    </tr>\n",
       "    <tr>\n",
       "      <th>65432</th>\n",
       "      <td>65433</td>\n",
       "      <td>I am a developer by profession</td>\n",
       "      <td>18-24 years old</td>\n",
       "      <td>Employed, full-time</td>\n",
       "      <td>Remote</td>\n",
       "      <td>Apples</td>\n",
       "      <td>Hobby;School or academic work</td>\n",
       "      <td>Bachelor’s degree (B.A., B.S., B.Eng., etc.)</td>\n",
       "      <td>On the job training;School (i.e., University, ...</td>\n",
       "      <td>NaN</td>\n",
       "      <td>...</td>\n",
       "      <td>NaN</td>\n",
       "      <td>NaN</td>\n",
       "      <td>NaN</td>\n",
       "      <td>NaN</td>\n",
       "      <td>NaN</td>\n",
       "      <td>NaN</td>\n",
       "      <td>NaN</td>\n",
       "      <td>NaN</td>\n",
       "      <td>NaN</td>\n",
       "      <td>NaN</td>\n",
       "    </tr>\n",
       "    <tr>\n",
       "      <th>65433</th>\n",
       "      <td>65434</td>\n",
       "      <td>I am a developer by profession</td>\n",
       "      <td>25-34 years old</td>\n",
       "      <td>Employed, full-time</td>\n",
       "      <td>Remote</td>\n",
       "      <td>Apples</td>\n",
       "      <td>Hobby;Contribute to open-source projects</td>\n",
       "      <td>NaN</td>\n",
       "      <td>NaN</td>\n",
       "      <td>NaN</td>\n",
       "      <td>...</td>\n",
       "      <td>NaN</td>\n",
       "      <td>NaN</td>\n",
       "      <td>NaN</td>\n",
       "      <td>NaN</td>\n",
       "      <td>NaN</td>\n",
       "      <td>NaN</td>\n",
       "      <td>NaN</td>\n",
       "      <td>NaN</td>\n",
       "      <td>NaN</td>\n",
       "      <td>NaN</td>\n",
       "    </tr>\n",
       "    <tr>\n",
       "      <th>65434</th>\n",
       "      <td>65435</td>\n",
       "      <td>I am a developer by profession</td>\n",
       "      <td>25-34 years old</td>\n",
       "      <td>Employed, full-time</td>\n",
       "      <td>In-person</td>\n",
       "      <td>Apples</td>\n",
       "      <td>Hobby</td>\n",
       "      <td>Bachelor’s degree (B.A., B.S., B.Eng., etc.)</td>\n",
       "      <td>Other online resources (e.g., videos, blogs, f...</td>\n",
       "      <td>Technical documentation;Stack Overflow;Social ...</td>\n",
       "      <td>...</td>\n",
       "      <td>NaN</td>\n",
       "      <td>NaN</td>\n",
       "      <td>NaN</td>\n",
       "      <td>NaN</td>\n",
       "      <td>NaN</td>\n",
       "      <td>NaN</td>\n",
       "      <td>NaN</td>\n",
       "      <td>NaN</td>\n",
       "      <td>NaN</td>\n",
       "      <td>NaN</td>\n",
       "    </tr>\n",
       "    <tr>\n",
       "      <th>65435</th>\n",
       "      <td>65436</td>\n",
       "      <td>I am a developer by profession</td>\n",
       "      <td>18-24 years old</td>\n",
       "      <td>Employed, full-time</td>\n",
       "      <td>Hybrid (some remote, some in-person)</td>\n",
       "      <td>Apples</td>\n",
       "      <td>Hobby;Contribute to open-source projects;Profe...</td>\n",
       "      <td>Secondary school (e.g. American high school, G...</td>\n",
       "      <td>On the job training;Other online resources (e....</td>\n",
       "      <td>Technical documentation;Blogs;Written Tutorial...</td>\n",
       "      <td>...</td>\n",
       "      <td>0.0</td>\n",
       "      <td>0.0</td>\n",
       "      <td>0.0</td>\n",
       "      <td>0.0</td>\n",
       "      <td>0.0</td>\n",
       "      <td>0.0</td>\n",
       "      <td>NaN</td>\n",
       "      <td>NaN</td>\n",
       "      <td>NaN</td>\n",
       "      <td>NaN</td>\n",
       "    </tr>\n",
       "    <tr>\n",
       "      <th>65436</th>\n",
       "      <td>65437</td>\n",
       "      <td>I code primarily as a hobby</td>\n",
       "      <td>18-24 years old</td>\n",
       "      <td>Student, full-time</td>\n",
       "      <td>NaN</td>\n",
       "      <td>Apples</td>\n",
       "      <td>NaN</td>\n",
       "      <td>NaN</td>\n",
       "      <td>NaN</td>\n",
       "      <td>NaN</td>\n",
       "      <td>...</td>\n",
       "      <td>NaN</td>\n",
       "      <td>NaN</td>\n",
       "      <td>NaN</td>\n",
       "      <td>NaN</td>\n",
       "      <td>NaN</td>\n",
       "      <td>NaN</td>\n",
       "      <td>NaN</td>\n",
       "      <td>NaN</td>\n",
       "      <td>NaN</td>\n",
       "      <td>NaN</td>\n",
       "    </tr>\n",
       "  </tbody>\n",
       "</table>\n",
       "<p>65437 rows × 114 columns</p>\n",
       "</div>"
      ],
      "text/plain": [
       "       ResponseId                      MainBranch                 Age  \\\n",
       "0               1  I am a developer by profession  Under 18 years old   \n",
       "1               2  I am a developer by profession     35-44 years old   \n",
       "2               3  I am a developer by profession     45-54 years old   \n",
       "3               4           I am learning to code     18-24 years old   \n",
       "4               5  I am a developer by profession     18-24 years old   \n",
       "...           ...                             ...                 ...   \n",
       "65432       65433  I am a developer by profession     18-24 years old   \n",
       "65433       65434  I am a developer by profession     25-34 years old   \n",
       "65434       65435  I am a developer by profession     25-34 years old   \n",
       "65435       65436  I am a developer by profession     18-24 years old   \n",
       "65436       65437     I code primarily as a hobby     18-24 years old   \n",
       "\n",
       "                Employment                            RemoteWork   Check  \\\n",
       "0      Employed, full-time                                Remote  Apples   \n",
       "1      Employed, full-time                                Remote  Apples   \n",
       "2      Employed, full-time                                Remote  Apples   \n",
       "3       Student, full-time                                   NaN  Apples   \n",
       "4       Student, full-time                                   NaN  Apples   \n",
       "...                    ...                                   ...     ...   \n",
       "65432  Employed, full-time                                Remote  Apples   \n",
       "65433  Employed, full-time                                Remote  Apples   \n",
       "65434  Employed, full-time                             In-person  Apples   \n",
       "65435  Employed, full-time  Hybrid (some remote, some in-person)  Apples   \n",
       "65436   Student, full-time                                   NaN  Apples   \n",
       "\n",
       "                                        CodingActivities  \\\n",
       "0                                                  Hobby   \n",
       "1      Hobby;Contribute to open-source projects;Other...   \n",
       "2      Hobby;Contribute to open-source projects;Other...   \n",
       "3                                                    NaN   \n",
       "4                                                    NaN   \n",
       "...                                                  ...   \n",
       "65432                      Hobby;School or academic work   \n",
       "65433           Hobby;Contribute to open-source projects   \n",
       "65434                                              Hobby   \n",
       "65435  Hobby;Contribute to open-source projects;Profe...   \n",
       "65436                                                NaN   \n",
       "\n",
       "                                                 EdLevel  \\\n",
       "0                              Primary/elementary school   \n",
       "1           Bachelor’s degree (B.A., B.S., B.Eng., etc.)   \n",
       "2        Master’s degree (M.A., M.S., M.Eng., MBA, etc.)   \n",
       "3      Some college/university study without earning ...   \n",
       "4      Secondary school (e.g. American high school, G...   \n",
       "...                                                  ...   \n",
       "65432       Bachelor’s degree (B.A., B.S., B.Eng., etc.)   \n",
       "65433                                                NaN   \n",
       "65434       Bachelor’s degree (B.A., B.S., B.Eng., etc.)   \n",
       "65435  Secondary school (e.g. American high school, G...   \n",
       "65436                                                NaN   \n",
       "\n",
       "                                               LearnCode  \\\n",
       "0                                 Books / Physical media   \n",
       "1      Books / Physical media;Colleague;On the job tr...   \n",
       "2      Books / Physical media;Colleague;On the job tr...   \n",
       "3      Other online resources (e.g., videos, blogs, f...   \n",
       "4      Other online resources (e.g., videos, blogs, f...   \n",
       "...                                                  ...   \n",
       "65432  On the job training;School (i.e., University, ...   \n",
       "65433                                                NaN   \n",
       "65434  Other online resources (e.g., videos, blogs, f...   \n",
       "65435  On the job training;Other online resources (e....   \n",
       "65436                                                NaN   \n",
       "\n",
       "                                         LearnCodeOnline  ... JobSatPoints_6  \\\n",
       "0                                                    NaN  ...            NaN   \n",
       "1      Technical documentation;Blogs;Books;Written Tu...  ...            0.0   \n",
       "2      Technical documentation;Blogs;Books;Written Tu...  ...            NaN   \n",
       "3      Stack Overflow;How-to videos;Interactive tutorial  ...            NaN   \n",
       "4      Technical documentation;Blogs;Written Tutorial...  ...            NaN   \n",
       "...                                                  ...  ...            ...   \n",
       "65432                                                NaN  ...            NaN   \n",
       "65433                                                NaN  ...            NaN   \n",
       "65434  Technical documentation;Stack Overflow;Social ...  ...            NaN   \n",
       "65435  Technical documentation;Blogs;Written Tutorial...  ...            0.0   \n",
       "65436                                                NaN  ...            NaN   \n",
       "\n",
       "      JobSatPoints_7 JobSatPoints_8 JobSatPoints_9 JobSatPoints_10  \\\n",
       "0                NaN            NaN            NaN             NaN   \n",
       "1                0.0            0.0            0.0             0.0   \n",
       "2                NaN            NaN            NaN             NaN   \n",
       "3                NaN            NaN            NaN             NaN   \n",
       "4                NaN            NaN            NaN             NaN   \n",
       "...              ...            ...            ...             ...   \n",
       "65432            NaN            NaN            NaN             NaN   \n",
       "65433            NaN            NaN            NaN             NaN   \n",
       "65434            NaN            NaN            NaN             NaN   \n",
       "65435            0.0            0.0            0.0             0.0   \n",
       "65436            NaN            NaN            NaN             NaN   \n",
       "\n",
       "      JobSatPoints_11           SurveyLength SurveyEase ConvertedCompYearly  \\\n",
       "0                 NaN                    NaN        NaN                 NaN   \n",
       "1                 0.0                    NaN        NaN                 NaN   \n",
       "2                 NaN  Appropriate in length       Easy                 NaN   \n",
       "3                 NaN               Too long       Easy                 NaN   \n",
       "4                 NaN              Too short       Easy                 NaN   \n",
       "...               ...                    ...        ...                 ...   \n",
       "65432             NaN                    NaN        NaN                 NaN   \n",
       "65433             NaN                    NaN        NaN                 NaN   \n",
       "65434             NaN                    NaN        NaN                 NaN   \n",
       "65435             0.0                    NaN        NaN                 NaN   \n",
       "65436             NaN                    NaN        NaN                 NaN   \n",
       "\n",
       "      JobSat  \n",
       "0        NaN  \n",
       "1        NaN  \n",
       "2        NaN  \n",
       "3        NaN  \n",
       "4        NaN  \n",
       "...      ...  \n",
       "65432    NaN  \n",
       "65433    NaN  \n",
       "65434    NaN  \n",
       "65435    NaN  \n",
       "65436    NaN  \n",
       "\n",
       "[65437 rows x 114 columns]"
      ]
     },
     "execution_count": 21,
     "metadata": {},
     "output_type": "execute_result"
    }
   ],
   "source": [
    "# read csv\n",
    "df = pd.read_csv(\"2024 survey_results_public.csv\")\n",
    "df"
   ]
  },
  {
   "cell_type": "code",
   "execution_count": 22,
   "metadata": {},
   "outputs": [
    {
     "name": "stdout",
     "output_type": "stream",
     "text": [
      "ResponseId\n",
      "MainBranch\n",
      "Age\n",
      "Employment\n",
      "RemoteWork\n",
      "Check\n",
      "CodingActivities\n",
      "EdLevel\n",
      "LearnCode\n",
      "LearnCodeOnline\n",
      "TechDoc\n",
      "YearsCode\n",
      "YearsCodePro\n",
      "DevType\n",
      "OrgSize\n",
      "PurchaseInfluence\n",
      "BuyNewTool\n",
      "BuildvsBuy\n",
      "TechEndorse\n",
      "Country\n",
      "Currency\n",
      "CompTotal\n",
      "LanguageHaveWorkedWith\n",
      "LanguageWantToWorkWith\n",
      "LanguageAdmired\n",
      "DatabaseHaveWorkedWith\n",
      "DatabaseWantToWorkWith\n",
      "DatabaseAdmired\n",
      "PlatformHaveWorkedWith\n",
      "PlatformWantToWorkWith\n",
      "PlatformAdmired\n",
      "WebframeHaveWorkedWith\n",
      "WebframeWantToWorkWith\n",
      "WebframeAdmired\n",
      "EmbeddedHaveWorkedWith\n",
      "EmbeddedWantToWorkWith\n",
      "EmbeddedAdmired\n",
      "MiscTechHaveWorkedWith\n",
      "MiscTechWantToWorkWith\n",
      "MiscTechAdmired\n",
      "ToolsTechHaveWorkedWith\n",
      "ToolsTechWantToWorkWith\n",
      "ToolsTechAdmired\n",
      "NEWCollabToolsHaveWorkedWith\n",
      "NEWCollabToolsWantToWorkWith\n",
      "NEWCollabToolsAdmired\n",
      "OpSysPersonal use\n",
      "OpSysProfessional use\n",
      "OfficeStackAsyncHaveWorkedWith\n",
      "OfficeStackAsyncWantToWorkWith\n",
      "OfficeStackAsyncAdmired\n",
      "OfficeStackSyncHaveWorkedWith\n",
      "OfficeStackSyncWantToWorkWith\n",
      "OfficeStackSyncAdmired\n",
      "AISearchDevHaveWorkedWith\n",
      "AISearchDevWantToWorkWith\n",
      "AISearchDevAdmired\n",
      "NEWSOSites\n",
      "SOVisitFreq\n",
      "SOAccount\n",
      "SOPartFreq\n",
      "SOHow\n",
      "SOComm\n",
      "AISelect\n",
      "AISent\n",
      "AIBen\n",
      "AIAcc\n",
      "AIComplex\n",
      "AIToolCurrently Using\n",
      "AIToolInterested in Using\n",
      "AIToolNot interested in Using\n",
      "AINextMuch more integrated\n",
      "AINextNo change\n",
      "AINextMore integrated\n",
      "AINextLess integrated\n",
      "AINextMuch less integrated\n",
      "AIThreat\n",
      "AIEthics\n",
      "AIChallenges\n",
      "TBranch\n",
      "ICorPM\n",
      "WorkExp\n",
      "Knowledge_1\n",
      "Knowledge_2\n",
      "Knowledge_3\n",
      "Knowledge_4\n",
      "Knowledge_5\n",
      "Knowledge_6\n",
      "Knowledge_7\n",
      "Knowledge_8\n",
      "Knowledge_9\n",
      "Frequency_1\n",
      "Frequency_2\n",
      "Frequency_3\n",
      "TimeSearching\n",
      "TimeAnswering\n",
      "Frustration\n",
      "ProfessionalTech\n",
      "ProfessionalCloud\n",
      "ProfessionalQuestion\n",
      "Industry\n",
      "JobSatPoints_1\n",
      "JobSatPoints_4\n",
      "JobSatPoints_5\n",
      "JobSatPoints_6\n",
      "JobSatPoints_7\n",
      "JobSatPoints_8\n",
      "JobSatPoints_9\n",
      "JobSatPoints_10\n",
      "JobSatPoints_11\n",
      "SurveyLength\n",
      "SurveyEase\n",
      "ConvertedCompYearly\n",
      "JobSat\n"
     ]
    }
   ],
   "source": [
    "# print out all attributes\n",
    "total_attributes = df.columns\n",
    "for i in total_attributes:\n",
    "    print(i)"
   ]
  },
  {
   "cell_type": "code",
   "execution_count": 23,
   "metadata": {},
   "outputs": [
    {
     "data": {
      "text/plain": [
       "array([nan, '20', '37', '4', '9', '10', '7', '1', '15', '30', '31', '6',\n",
       "       '12', '22', '5', '36', '25', '44', '24', '18', '3', '8',\n",
       "       'More than 50 years', '11', '29', '40', '39', '2', '42', '34',\n",
       "       '19', '35', '16', '33', '13', '23', '14', '28', '17', '21', '43',\n",
       "       '46', '26', '32', '41', '45', '27', '38', '50', '48', '47',\n",
       "       'Less than 1 year', '49'], dtype=object)"
      ]
     },
     "execution_count": 23,
     "metadata": {},
     "output_type": "execute_result"
    }
   ],
   "source": [
    "df['YearsCode'].unique()"
   ]
  },
  {
   "cell_type": "markdown",
   "metadata": {},
   "source": [
    "Need to change the years program into the following range\n",
    "\n",
    "Old value                                                  => New value\n",
    "\n",
    "x <= 2           => 0 - 2 years\n",
    " \n",
    "2 < x <= 5       => 2 - 5 years\n",
    "\n",
    "6 <= x <= 10     => 6 - 10 years\n",
    "\n",
    "x > 10           => 11+ years\n"
   ]
  },
  {
   "cell_type": "code",
   "execution_count": 24,
   "metadata": {},
   "outputs": [],
   "source": [
    "# transfer to bin size and create a new attribute 'code_yrs'\n",
    "data = df['YearsCode']\n",
    "code_yrs = pd.Series()\n",
    "for i in range(len(data)):\n",
    "    a = data[i]\n",
    "    \n",
    "    if a == \"Less than 1 year\":\n",
    "        code_yrs[i] = \"0 - 2 years\"\n",
    "    elif a == \"More than 50 years\":\n",
    "        code_yrs[i] = \"11+ years\"\n",
    "    elif type(a) == float:\n",
    "        code_yrs[i] = a\n",
    "    else:\n",
    "        a_int = int(a)\n",
    "        if a_int <= 2:\n",
    "            code_yrs[i] = \"0 - 2 years\"\n",
    "        elif a_int > 2 and a_int <= 5 :\n",
    "            code_yrs[i] = \"2 - 5 years\"\n",
    "        elif a_int >= 6 and a_int <= 10:\n",
    "            code_yrs[i] = \"6 - 10 years\"\n",
    "        elif a_int > 10:\n",
    "            code_yrs[i] = \"11+ years\"\n",
    "\n",
    "# create a new attribute\n",
    "df['code_yrs'] = code_yrs"
   ]
  },
  {
   "cell_type": "code",
   "execution_count": 25,
   "metadata": {},
   "outputs": [
    {
     "data": {
      "text/plain": [
       "ConvertedCompYearly\n",
       "64444.0     321\n",
       "53703.0     308\n",
       "75184.0     230\n",
       "85925.0     226\n",
       "107406.0    208\n",
       "           ... \n",
       "82081.0       1\n",
       "47715.0       1\n",
       "44123.0       1\n",
       "1741.0        1\n",
       "637.0         1\n",
       "Name: count, Length: 6113, dtype: int64"
      ]
     },
     "execution_count": 25,
     "metadata": {},
     "output_type": "execute_result"
    }
   ],
   "source": [
    "df['ConvertedCompYearly'].value_counts()"
   ]
  },
  {
   "cell_type": "markdown",
   "metadata": {},
   "source": [
    "Transform float values of Salary into ranges as below:\n",
    "\n",
    "Less than $20,000         \n",
    "$20,000 - $40,000          \n",
    "$40,000 - $60,000          \n",
    "$60,000 - $80,000          \n",
    "$80,000 - $100,000         \n",
    "$100,000 - $120,000        \n",
    "$120,000 - $140,000                \n",
    "$140,000 - $160,000        \n",
    "More than $160,000   \n",
    "Rather not say             \n",
    "Unemployed \n",
    "Other (please specify)      \n",
    "\n",
    "There will be no values for Rather not say, Unemployed and Other"
   ]
  },
  {
   "cell_type": "code",
   "execution_count": 26,
   "metadata": {},
   "outputs": [],
   "source": [
    "# this transform the values of salary into the same bin size as previous surveys and create a new attribute salary_merge\n",
    "salary_merge = pd.Series()\n",
    "data = df['ConvertedCompYearly']\n",
    "for i in range(len(data)):\n",
    "    if data[i] < 20000:\n",
    "        salary_merge[i] = \"Less than $20,000\"\n",
    "    elif data[i] >= 20000 and data[i] < 40000:\n",
    "        salary_merge[i] = \"$20,000 - $40,000\"\n",
    "    elif data[i] >= 40000 and data[i] < 60000:\n",
    "        salary_merge[i] = \"$40,000 - $60,000\"\n",
    "    elif data[i] >= 60000 and data[i] < 80000:\n",
    "        salary_merge[i] = \"$60,000 - $80,000\"\n",
    "    elif data[i] >= 80000 and data[i] < 100000:\n",
    "        salary_merge[i] = \"$80,000 - $100,000\"\n",
    "    elif data[i] >= 100000 and data[i] < 120000:\n",
    "        salary_merge[i] = \"$100,000 - $120,000\"\n",
    "    elif data[i] >= 120000 and data[i] < 140000:\n",
    "        salary_merge[i] = \"$120,000 - $140,000\"\n",
    "    elif data[i] >= 140000 and data[i] < 160000:\n",
    "        salary_merge[i] = \"$140,000 - $160,000\"\n",
    "    elif data[i] >= 160000:\n",
    "        salary_merge[i] = \"More than $160,000\"\n",
    "    # if nan, the transformed data is still nan\n",
    "    elif np.isnan(data[i]):\n",
    "        salary_merge[i] = np.nan\n",
    "\n",
    "df['salary_merge'] = salary_merge"
   ]
  },
  {
   "cell_type": "code",
   "execution_count": 27,
   "metadata": {},
   "outputs": [],
   "source": [
    "# transform df['DevType'] into a new attribute devtyp_t\n",
    "\n",
    "df['devtyp_t'] = df['DevType'].replace(\"Developer, full-stack\",\"Developer_full-stack\").replace(\"Developer, front-end\",\"Developer_front-end\").replace(\"Developer, back-end\",\"Developer_back-end\").replace(\"Developer, desktop or enterprise applications\",\"Developer_desktop or enterprise applications\").replace(\"Developer, embedded applications or devices\",\"Developer_embedded applications or devices\").replace(\"Developer, game or graphics\",\"Developer_game or graphics\").replace(\"Developer, mobile\",\"Developer_mobile\").replace(\"Developer, QA or test\",\"Developer_QA or test\").replace(\"Engineer, data\",\"Engineer_data\").replace(\"Engineer, site reliability\",\"Engineer_site reliability\").replace(\"Senior Executive (C-Suite, VP, etc.)\",\"Senior Executive (C-Suite/VP/etc.)\").replace(\"Developer, AI\", \"Developer_AI\")\n",
    "\n",
    "\n",
    "# also replace \"Developer, full-stack\" to \"Developer_full-stack\"\n",
    "# replace \"Developer, front-end\" to \"Developer_front-end\"\n",
    "# replace \"Developer, back-end\" to \"Developer_back-end\"\n",
    "# replace \"Developer, desktop or enterprise applications\" to \"Developer_desktop or enterprise applications\"\n",
    "# replace \"Developer, embedded applications or devices\" to \"Developer_embedded applications or devices\"\n",
    "# replace \"Developer, game or graphics\" to \"Developer_game or graphics\"\n",
    "# replace \"Developer, mobile\" to \"Developer_mobile\"\n",
    "# replace \"Developer, QA or test\" to \"Developer_QA or test\"\n",
    "# replace \"Engineer, data\" to \"Engineer_data\"\n",
    "# replace \"Engineer, site reliability\" to \"Engineer_site reliability\"\n",
    "# replace \"Senior Executive (C-Suite, VP, etc.)\" to \"Senior Executive (C-Suite, VP, etc.)\"\n",
    "# replace \"Developer, AI\" to \"Developer_AI\""
   ]
  },
  {
   "cell_type": "code",
   "execution_count": 28,
   "metadata": {},
   "outputs": [
    {
     "data": {
      "text/plain": [
       "0                                        NaN\n",
       "1        PyCharm;Visual Studio Code;WebStorm\n",
       "2                              Visual Studio\n",
       "3                                        NaN\n",
       "4                                        Vim\n",
       "                        ...                 \n",
       "65432                                    NaN\n",
       "65433                                    NaN\n",
       "65434                                    NaN\n",
       "65435                 Vim;Visual Studio Code\n",
       "65436                     Visual Studio Code\n",
       "Name: NEWCollabToolsHaveWorkedWith, Length: 65437, dtype: object"
      ]
     },
     "execution_count": 28,
     "metadata": {},
     "output_type": "execute_result"
    }
   ],
   "source": [
    "df['NEWCollabToolsHaveWorkedWith']"
   ]
  },
  {
   "cell_type": "markdown",
   "metadata": {},
   "source": [
    "Transform df['NEWCollabToolsHaveWorkedWith'] into list and create a new attribute ide_t"
   ]
  },
  {
   "cell_type": "code",
   "execution_count": 29,
   "metadata": {},
   "outputs": [],
   "source": [
    "# transform df['NEWCollabToolsHaveWorkedWith'] into list and create a new attribute ide_t\n",
    "df['ide_t'], _ = merge_str_list(df, 'NEWCollabToolsHaveWorkedWith')"
   ]
  },
  {
   "cell_type": "code",
   "execution_count": 30,
   "metadata": {},
   "outputs": [
    {
     "data": {
      "text/plain": [
       "0                                Primary/elementary school\n",
       "1             Bachelor’s degree (B.A., B.S., B.Eng., etc.)\n",
       "2          Master’s degree (M.A., M.S., M.Eng., MBA, etc.)\n",
       "3        Some college/university study without earning ...\n",
       "4        Secondary school (e.g. American high school, G...\n",
       "                               ...                        \n",
       "65432         Bachelor’s degree (B.A., B.S., B.Eng., etc.)\n",
       "65433                                                  NaN\n",
       "65434         Bachelor’s degree (B.A., B.S., B.Eng., etc.)\n",
       "65435    Secondary school (e.g. American high school, G...\n",
       "65436                                                  NaN\n",
       "Name: EdLevel, Length: 65437, dtype: object"
      ]
     },
     "execution_count": 30,
     "metadata": {},
     "output_type": "execute_result"
    }
   ],
   "source": [
    "# single choice\n",
    "df['EdLevel']"
   ]
  },
  {
   "cell_type": "code",
   "execution_count": 31,
   "metadata": {},
   "outputs": [
    {
     "data": {
      "text/plain": [
       "0                                   Books / Physical media\n",
       "1        Books / Physical media;Colleague;On the job tr...\n",
       "2        Books / Physical media;Colleague;On the job tr...\n",
       "3        Other online resources (e.g., videos, blogs, f...\n",
       "4        Other online resources (e.g., videos, blogs, f...\n",
       "                               ...                        \n",
       "65432    On the job training;School (i.e., University, ...\n",
       "65433                                                  NaN\n",
       "65434    Other online resources (e.g., videos, blogs, f...\n",
       "65435    On the job training;Other online resources (e....\n",
       "65436                                                  NaN\n",
       "Name: LearnCode, Length: 65437, dtype: object"
      ]
     },
     "execution_count": 31,
     "metadata": {},
     "output_type": "execute_result"
    }
   ],
   "source": [
    "# multiple choice\n",
    "df['LearnCode']"
   ]
  },
  {
   "cell_type": "markdown",
   "metadata": {},
   "source": [
    "Merge df['EdLevel']and df['LearnCode'] into a new attribute called 'edu_t'"
   ]
  },
  {
   "cell_type": "code",
   "execution_count": 32,
   "metadata": {},
   "outputs": [],
   "source": [
    "# Merge df['EdLevel']and df['LearnCode'] into a new attribute called 'edu_t'\n",
    "data_formal = df['EdLevel']\n",
    "data_learn = df['LearnCode']\n",
    "edu_t = pd.Series()\n",
    "\n",
    "for i in range(len(df)):\n",
    "    a = data_formal[i]\n",
    "    c = data_learn[i]\n",
    "    lst = list()\n",
    "\n",
    "    if a is not np.nan:\n",
    "        lst.append(a)\n",
    "        if type(c) == str:\n",
    "            c_lst = c.split(\";\")\n",
    "            for j in c_lst:\n",
    "                lst.append(j)\n",
    "        edu_t[i] = lst\n",
    "    else:\n",
    "        lst.append(a)\n",
    "        if type(c) == str:\n",
    "            c_lst = c.split(\";\")\n",
    "            for j in c_lst:\n",
    "                lst.append(j)\n",
    "            \n",
    "            edu_t[i] = lst\n",
    "        else:\n",
    "            edu_t[i] = a\n",
    "    \n",
    "\n",
    "df['edu_t'] = edu_t"
   ]
  },
  {
   "cell_type": "code",
   "execution_count": 33,
   "metadata": {},
   "outputs": [
    {
     "data": {
      "text/plain": [
       "0                                    NaN\n",
       "1                                  MacOS\n",
       "2                                Windows\n",
       "3                                    NaN\n",
       "4                                    NaN\n",
       "                      ...               \n",
       "65432                                NaN\n",
       "65433                                NaN\n",
       "65434                                NaN\n",
       "65435    Fedora;Other Linux-based;Ubuntu\n",
       "65436                      MacOS;Windows\n",
       "Name: OpSysProfessional use, Length: 65437, dtype: object"
      ]
     },
     "execution_count": 33,
     "metadata": {},
     "output_type": "execute_result"
    }
   ],
   "source": [
    "# multiple choice\n",
    "df['OpSysProfessional use']"
   ]
  },
  {
   "cell_type": "code",
   "execution_count": 34,
   "metadata": {},
   "outputs": [
    {
     "data": {
      "text/plain": [
       "0                                             NaN\n",
       "1                                   MacOS;Windows\n",
       "2                                         Windows\n",
       "3                                             NaN\n",
       "4                         Other (please specify):\n",
       "                           ...                   \n",
       "65432                                         NaN\n",
       "65433                                         NaN\n",
       "65434                                         NaN\n",
       "65435    Android;Other Linux-based;Ubuntu;Windows\n",
       "65436                                     Windows\n",
       "Name: OpSysPersonal use, Length: 65437, dtype: object"
      ]
     },
     "execution_count": 34,
     "metadata": {},
     "output_type": "execute_result"
    }
   ],
   "source": [
    "# multiple choice\n",
    "df['OpSysPersonal use']"
   ]
  },
  {
   "cell_type": "markdown",
   "metadata": {},
   "source": [
    "Merge OpSysProfessional use and OpSysPersonal use into a new attribute opsys_t"
   ]
  },
  {
   "cell_type": "code",
   "execution_count": 35,
   "metadata": {},
   "outputs": [],
   "source": [
    "# Merge OpSysProfessional use and OpSysPersonal use into a new attribute opsys_t\n",
    "opsys = pd.Series()\n",
    "data_per = df['OpSysPersonal use']\n",
    "data_pro = df['OpSysProfessional use']\n",
    "for i in range(len(data_per)):\n",
    "    lst = list()\n",
    "    a = data_per[i]\n",
    "    b = data_pro[i]\n",
    "    if a is not np.nan:\n",
    "        a_lst = a.split(\";\")\n",
    "        # a and b are not nan\n",
    "        if b is not np.nan:\n",
    "            b_lst = b.split(\";\")\n",
    "            lst = np.union1d(a_lst, b_lst)\n",
    "        # a is non-nan and b is nan\n",
    "        else:\n",
    "            lst = a_lst\n",
    "        # cast into nparray into list\n",
    "        opsys[i] = list(lst)\n",
    "\n",
    "    else:\n",
    "        if b is not np.nan:\n",
    "            opsys[i] = b.split(\";\")\n",
    "        # both a and b are nan\n",
    "        else:\n",
    "            opsys[i] = a\n",
    "\n",
    "\n",
    "df['opsys_t'] = opsys"
   ]
  },
  {
   "cell_type": "code",
   "execution_count": 36,
   "metadata": {},
   "outputs": [
    {
     "data": {
      "text/plain": [
       "0                                                      NaN\n",
       "1        Bash/Shell (all shells);Go;HTML/CSS;Java;JavaS...\n",
       "2                                                       C#\n",
       "3        C;C++;HTML/CSS;Java;JavaScript;PHP;PowerShell;...\n",
       "4                  C++;HTML/CSS;JavaScript;Lua;Python;Rust\n",
       "                               ...                        \n",
       "65432                                                  NaN\n",
       "65433                                                  NaN\n",
       "65434                                                  NaN\n",
       "65435             C;C++;Go;Lua;Objective-C;Python;Rust;SQL\n",
       "65436     C;HTML/CSS;Java;JavaScript;PHP;Python;TypeScript\n",
       "Name: LanguageHaveWorkedWith, Length: 65437, dtype: object"
      ]
     },
     "execution_count": 36,
     "metadata": {},
     "output_type": "execute_result"
    }
   ],
   "source": [
    "# multiple choice\n",
    "df['LanguageHaveWorkedWith']"
   ]
  },
  {
   "cell_type": "code",
   "execution_count": 37,
   "metadata": {},
   "outputs": [
    {
     "data": {
      "text/plain": [
       "0                                    NaN\n",
       "1            Dynamodb;MongoDB;PostgreSQL\n",
       "2             Firebase Realtime Database\n",
       "3        MongoDB;MySQL;PostgreSQL;SQLite\n",
       "4                      PostgreSQL;SQLite\n",
       "                      ...               \n",
       "65432                                NaN\n",
       "65433                                NaN\n",
       "65434                                NaN\n",
       "65435                  PostgreSQL;SQLite\n",
       "65436    MongoDB;MySQL;Oracle;PostgreSQL\n",
       "Name: DatabaseHaveWorkedWith, Length: 65437, dtype: object"
      ]
     },
     "execution_count": 37,
     "metadata": {},
     "output_type": "execute_result"
    }
   ],
   "source": [
    "# multiple choice\n",
    "df['DatabaseHaveWorkedWith']"
   ]
  },
  {
   "cell_type": "code",
   "execution_count": 38,
   "metadata": {},
   "outputs": [
    {
     "data": {
      "text/plain": [
       "0                                                      NaN\n",
       "1                 Amazon Web Services (AWS);Heroku;Netlify\n",
       "2                                             Google Cloud\n",
       "3                  Amazon Web Services (AWS);Fly.io;Heroku\n",
       "4                                                      NaN\n",
       "                               ...                        \n",
       "65432                                                  NaN\n",
       "65433                                                  NaN\n",
       "65434                                                  NaN\n",
       "65435                                                  NaN\n",
       "65436    Amazon Web Services (AWS);Cloudflare;Google Cl...\n",
       "Name: PlatformHaveWorkedWith, Length: 65437, dtype: object"
      ]
     },
     "execution_count": 38,
     "metadata": {},
     "output_type": "execute_result"
    }
   ],
   "source": [
    "# multiple choice\n",
    "df['PlatformHaveWorkedWith']"
   ]
  },
  {
   "cell_type": "code",
   "execution_count": 39,
   "metadata": {},
   "outputs": [
    {
     "data": {
      "text/plain": [
       "0                                                NaN\n",
       "1                      Express;Next.js;Node.js;React\n",
       "2                                       ASP.NET CORE\n",
       "3             jQuery;Next.js;Node.js;React;WordPress\n",
       "4                                                NaN\n",
       "                            ...                     \n",
       "65432                                            NaN\n",
       "65433                                            NaN\n",
       "65434                                            NaN\n",
       "65435                          Angular;Node.js;React\n",
       "65436    Django;Express;jQuery;Next.js;Node.js;React\n",
       "Name: WebframeHaveWorkedWith, Length: 65437, dtype: object"
      ]
     },
     "execution_count": 39,
     "metadata": {},
     "output_type": "execute_result"
    }
   ],
   "source": [
    "# multiple choice\n",
    "df['WebframeHaveWorkedWith']"
   ]
  },
  {
   "cell_type": "code",
   "execution_count": 40,
   "metadata": {},
   "outputs": [
    {
     "data": {
      "text/plain": [
       "0                                            NaN\n",
       "1                                            NaN\n",
       "2                                    Rasberry Pi\n",
       "3                                    Rasberry Pi\n",
       "4                        CMake;Cargo;Rasberry Pi\n",
       "                          ...                   \n",
       "65432                                        NaN\n",
       "65433                                        NaN\n",
       "65434                                        NaN\n",
       "65435    Arduino;CMake;Cargo;GNU GCC;Rasberry Pi\n",
       "65436                                        NaN\n",
       "Name: EmbeddedHaveWorkedWith, Length: 65437, dtype: object"
      ]
     },
     "execution_count": 40,
     "metadata": {},
     "output_type": "execute_result"
    }
   ],
   "source": [
    "# multiple choice\n",
    "df['EmbeddedHaveWorkedWith']"
   ]
  },
  {
   "cell_type": "code",
   "execution_count": 41,
   "metadata": {},
   "outputs": [
    {
     "data": {
      "text/plain": [
       "0                                                    NaN\n",
       "1                                                    NaN\n",
       "2        .NET (5+) ;.NET Framework (1.0 - 4.8);.NET MAUI\n",
       "3                           NumPy;Pandas;Ruff;TensorFlow\n",
       "4                                                    NaN\n",
       "                              ...                       \n",
       "65432                                                NaN\n",
       "65433                                                NaN\n",
       "65434                                                NaN\n",
       "65435                                         GTK;OpenGL\n",
       "65436                                                NaN\n",
       "Name: MiscTechHaveWorkedWith, Length: 65437, dtype: object"
      ]
     },
     "execution_count": 41,
     "metadata": {},
     "output_type": "execute_result"
    }
   ],
   "source": [
    "# multiple choice\n",
    "df['MiscTechHaveWorkedWith']"
   ]
  },
  {
   "cell_type": "code",
   "execution_count": 42,
   "metadata": {},
   "outputs": [
    {
     "data": {
      "text/plain": [
       "0                                                NaN\n",
       "1        Docker;Homebrew;Kubernetes;npm;Vite;Webpack\n",
       "2                                            MSBuild\n",
       "3                                     Docker;npm;Pip\n",
       "4                                       APT;Make;npm\n",
       "                            ...                     \n",
       "65432                                            NaN\n",
       "65433                                            NaN\n",
       "65434                                            NaN\n",
       "65435         Ansible;APT;Docker;Make;npm;Pip;Podman\n",
       "65436                                   npm;Pip;Vite\n",
       "Name: ToolsTechHaveWorkedWith, Length: 65437, dtype: object"
      ]
     },
     "execution_count": 42,
     "metadata": {},
     "output_type": "execute_result"
    }
   ],
   "source": [
    "# multiple choice\n",
    "df['ToolsTechHaveWorkedWith']"
   ]
  },
  {
   "cell_type": "code",
   "execution_count": 43,
   "metadata": {},
   "outputs": [
    {
     "data": {
      "text/plain": [
       "0                                                      NaN\n",
       "1                                                      NaN\n",
       "2                                                      NaN\n",
       "3                                                      NaN\n",
       "4        GitHub Discussions;Markdown File;Obsidian;Stac...\n",
       "                               ...                        \n",
       "65432                                                  NaN\n",
       "65433                                                  NaN\n",
       "65434                                                  NaN\n",
       "65435        Confluence;Jira;Markdown File;Obsidian;Trello\n",
       "65436                                                  NaN\n",
       "Name: OfficeStackAsyncHaveWorkedWith, Length: 65437, dtype: object"
      ]
     },
     "execution_count": 43,
     "metadata": {},
     "output_type": "execute_result"
    }
   ],
   "source": [
    "# multiple choice\n",
    "df['OfficeStackAsyncHaveWorkedWith']"
   ]
  },
  {
   "cell_type": "code",
   "execution_count": 44,
   "metadata": {},
   "outputs": [
    {
     "data": {
      "text/plain": [
       "0                                                 NaN\n",
       "1                               Microsoft Teams;Slack\n",
       "2        Google Chat;Google Meet;Microsoft Teams;Zoom\n",
       "3                                                 NaN\n",
       "4                                    Discord;Whatsapp\n",
       "                             ...                     \n",
       "65432                                             NaN\n",
       "65433                                             NaN\n",
       "65434                                             NaN\n",
       "65435          Discord;Jitsi;Microsoft Teams;Whatsapp\n",
       "65436                                             NaN\n",
       "Name: OfficeStackSyncHaveWorkedWith, Length: 65437, dtype: object"
      ]
     },
     "execution_count": 44,
     "metadata": {},
     "output_type": "execute_result"
    }
   ],
   "source": [
    "# multiple choice\n",
    "df['OfficeStackSyncHaveWorkedWith']"
   ]
  },
  {
   "cell_type": "code",
   "execution_count": 45,
   "metadata": {},
   "outputs": [
    {
     "data": {
      "text/plain": [
       "0        NaN\n",
       "1        NaN\n",
       "2        NaN\n",
       "3        NaN\n",
       "4        NaN\n",
       "        ... \n",
       "65432    NaN\n",
       "65433    NaN\n",
       "65434    NaN\n",
       "65435    NaN\n",
       "65436    NaN\n",
       "Name: AISearchDevHaveWorkedWith, Length: 65437, dtype: object"
      ]
     },
     "execution_count": 45,
     "metadata": {},
     "output_type": "execute_result"
    }
   ],
   "source": [
    "# multiple choice\n",
    "df['AISearchDevHaveWorkedWith']"
   ]
  },
  {
   "cell_type": "markdown",
   "metadata": {},
   "source": [
    "Need to combine values in LanguageHaveWorkedWith, DatabaseHaveWorkedWith, PlatformHaveWorkedWith, WebframeHaveWorkedWith, EmbeddedHaveWorkedWith, MiscTechHaveWorkedWith, ToolsTechHaveWorkedWith, OfficeStackAsyncHaveWorkedWith and OfficeStackSyncHaveWorkedWith and AISearchDevHaveWorkedWith and merge them into a new attribute called tools. If nan values are in all 10 attributes, then drop that row."
   ]
  },
  {
   "cell_type": "code",
   "execution_count": 46,
   "metadata": {},
   "outputs": [],
   "source": [
    "# merge all 10 attributes into one new attribute called 'tools' \n",
    "# and extract the row indexes that have nan values in all 10 attributes\n",
    "data_db = df['DatabaseHaveWorkedWith']\n",
    "data_fw = df['WebframeHaveWorkedWith']\n",
    "data_lang = df['LanguageHaveWorkedWith']\n",
    "data_plat = df['PlatformHaveWorkedWith']\n",
    "data_misc = df['MiscTechHaveWorkedWith']\n",
    "data_tech = df['ToolsTechHaveWorkedWith']\n",
    "data_a_office = df['OfficeStackAsyncHaveWorkedWith']\n",
    "data_s_office = df['OfficeStackSyncHaveWorkedWith']\n",
    "data_ai = df['AISearchDevHaveWorkedWith']\n",
    "data_embed = df['EmbeddedHaveWorkedWith']\n",
    "tools = pd.Series()\n",
    "drop_lst = np.array([])\n",
    "for i in range(len(df)):\n",
    "    a = data_db[i]\n",
    "    b = data_fw[i]\n",
    "    c = data_lang[i]\n",
    "    d = data_plat[i]\n",
    "    e = data_misc[i]\n",
    "    f = data_tech[i]\n",
    "    g = data_a_office[i]\n",
    "    h = data_s_office[i]\n",
    "    x = data_ai[i]\n",
    "    y = data_embed[i]\n",
    "\n",
    "    a_lst = list()\n",
    "    b_lst = list()\n",
    "    c_lst = list()\n",
    "    d_lst = list()\n",
    "    e_lst = list()\n",
    "    f_lst = list()\n",
    "    g_lst = list()\n",
    "    h_lst = list()\n",
    "    x_lst = list()\n",
    "    y_lst = list()\n",
    "\n",
    "    if type(a) == str:\n",
    "        a_lst = a.split(\";\")\n",
    "    if type(b) == str:\n",
    "        b_lst = b.split(\";\")\n",
    "    if type(c) == str:\n",
    "        c_lst = c.split(\";\")\n",
    "    if type(d) == str:\n",
    "        d_lst = d.split(\";\")\n",
    "    if type(e) == str:\n",
    "        e_lst = e.split(\";\")\n",
    "    if type(f) == str:\n",
    "        f_lst = f.split(\";\")\n",
    "    if type(g) == str:\n",
    "        g_lst = g.split(\";\")\n",
    "    if type(h) == str:\n",
    "        h_lst = h.split(\";\")\n",
    "    if type(x) == str:\n",
    "        x_lst = x.split(\";\")\n",
    "    if type(y) == str:\n",
    "        y_lst = y.split(\";\")\n",
    "\n",
    "    # if 10 attributes are all nan values, then add the row index into drop list    \n",
    "    if len(a_lst) == 0 and len(b_lst) == 0 and len(c_lst) == 0 and len(d_lst) == 0 and len(e_lst) == 0 and len(f_lst) == 0 and len(g_lst) == 0 and len(x_lst) == 0 and len(y_lst) == 0 :\n",
    "        tools[i] = np.nan\n",
    "        drop_lst = np.append(drop_lst, i)\n",
    "    else:\n",
    "        tools[i] = a_lst + b_lst + c_lst + d_lst + e_lst + f_lst + g_lst + h_lst + x_lst + y_lst\n",
    "\n",
    "# create new attribute tools\n",
    "df['tools'] = tools"
   ]
  },
  {
   "cell_type": "code",
   "execution_count": 47,
   "metadata": {},
   "outputs": [
    {
     "name": "stdout",
     "output_type": "stream",
     "text": [
      "Rows at these indexes have all nan value and need to be dropped \n",
      " [    0.    70.   267. ... 65432. 65433. 65434.]\n",
      "The total number of nan values in all 10 attributes \n",
      "(LanguageHaveWorkedWith, DatabaseHaveWorkedWith, PlatformHaveWorkedWith, WebframeHaveWorkedWith, EmbeddedHaveWorkedWith, MiscTechHaveWorkedWith, ToolsTechHaveWorkedWith, OfficeStackAsyncHaveWorkedWith and OfficeStackSyncHaveWorkedWith and AISearchDevHaveWorkedWith) \n",
      " is 5287 which the proportion is 0.08079526873175727\n"
     ]
    }
   ],
   "source": [
    "# drop the rows that have all nan values and create a new datatframe df2\n",
    "print(\"Rows at these indexes have all nan value and need to be dropped \\n \"+str(drop_lst))\n",
    "print(\"The total number of nan values in all 10 attributes \\n(LanguageHaveWorkedWith, DatabaseHaveWorkedWith, PlatformHaveWorkedWith, WebframeHaveWorkedWith, EmbeddedHaveWorkedWith, MiscTechHaveWorkedWith, ToolsTechHaveWorkedWith, OfficeStackAsyncHaveWorkedWith and OfficeStackSyncHaveWorkedWith and AISearchDevHaveWorkedWith)\"\n",
    "      +\" \\n is \"+str(len(drop_lst))+\" which the proportion is \"+str(len(drop_lst)/len(df)))\n",
    "df2 = df.drop(index = drop_lst)"
   ]
  },
  {
   "cell_type": "code",
   "execution_count": 48,
   "metadata": {},
   "outputs": [
    {
     "name": "stdout",
     "output_type": "stream",
     "text": [
      "code_yrs\n",
      "11+ years       29656\n",
      "6 - 10 years    16546\n",
      "2 - 5 years      9123\n",
      "0 - 2 years      2715\n",
      "Name: count, dtype: int64\n",
      "The total number of nan values for experience_range is 2110 and the proportion is 0.03507896924355777\n"
     ]
    }
   ],
   "source": [
    "# show the number and proportion of nan values in yrs of coding/experience_range\n",
    "df_yrs = df2['code_yrs']\n",
    "print(df_yrs.value_counts())\n",
    "c, r = count_nan(df_yrs)\n",
    "print(\"The total number of nan values for experience_range is \"+str(c)+\" and the proportion is \"+str(r))"
   ]
  },
  {
   "cell_type": "code",
   "execution_count": 49,
   "metadata": {},
   "outputs": [
    {
     "name": "stdout",
     "output_type": "stream",
     "text": [
      "devtyp_t\n",
      "Developer_full-stack                             17776\n",
      "Developer_back-end                                9638\n",
      "Student                                           4962\n",
      "Developer_front-end                               3237\n",
      "Developer_desktop or enterprise applications      2433\n",
      "Other (please specify):                           2357\n",
      "Developer_mobile                                  1959\n",
      "Developer_embedded applications or devices        1593\n",
      "Engineering manager                               1250\n",
      "Academic researcher                               1193\n",
      "Data engineer                                     1091\n",
      "DevOps specialist                                  996\n",
      "Data scientist or machine learning specialist      995\n",
      "Research & Development role                        917\n",
      "Senior Executive (C-Suite/VP/etc.)                 817\n",
      "Developer_game or graphics                         691\n",
      "Cloud infrastructure engineer                      614\n",
      "System administrator                               525\n",
      "Developer_AI                                       509\n",
      "Data or business analyst                           506\n",
      "Developer_QA or test                               505\n",
      "Project manager                                    404\n",
      "Educator                                           349\n",
      "Security professional                              348\n",
      "Scientist                                          323\n",
      "Engineer_site reliability                          303\n",
      "Product manager                                    284\n",
      "Blockchain                                         224\n",
      "Developer Experience                               217\n",
      "Hardware Engineer                                  194\n",
      "Designer                                           173\n",
      "Database administrator                             165\n",
      "Developer Advocate                                 103\n",
      "Marketing or sales professional                     92\n",
      "Name: count, dtype: int64\n",
      "The total number of nan values for Occupation is 2407 and the proportion is 0.0400166251039069\n"
     ]
    }
   ],
   "source": [
    "# show the number and proportion of nan values in occupation\n",
    "df_occup = df2['devtyp_t']\n",
    "print(df_occup.value_counts())\n",
    "c, r = count_nan(df_occup)\n",
    "print(\"The total number of nan values for Occupation is \"+str(c)+\" and the proportion is \"+str(r))"
   ]
  },
  {
   "cell_type": "code",
   "execution_count": 50,
   "metadata": {},
   "outputs": [
    {
     "name": "stdout",
     "output_type": "stream",
     "text": [
      "opsys_t\n",
      "[Windows]                                                                                          8031\n",
      "[MacOS]                                                                                            5006\n",
      "[Ubuntu, Windows]                                                                                  2655\n",
      "[MacOS, Windows]                                                                                   2475\n",
      "[Windows, Windows Subsystem for Linux (WSL)]                                                       2161\n",
      "                                                                                                   ... \n",
      "[Android, Cygwin, Debian, MacOS, Windows, Windows Subsystem for Linux (WSL)]                          1\n",
      "[AIX, Android, ChromeOS, Other Linux-based, Ubuntu, Windows, Windows Subsystem for Linux (WSL)]       1\n",
      "[Cygwin, MacOS, Red Hat, Windows, Windows Subsystem for Linux (WSL)]                                  1\n",
      "[BSD, Debian, Other Linux-based, Red Hat, Ubuntu, Windows]                                            1\n",
      "[Cygwin, Debian, MacOS, Ubuntu]                                                                       1\n",
      "Name: count, Length: 3608, dtype: int64\n",
      "The total number of nan values for desktop systems is 1720 and the proportion is 0.028595178719866998\n"
     ]
    }
   ],
   "source": [
    "# show the number and proportion of nan values in desktop operation system\n",
    "df_op = df2['opsys_t']\n",
    "print(df_op.value_counts())\n",
    "c, r = count_nan(df_op)\n",
    "print(\"The total number of nan values for desktop systems is \"+str(c)+\" and the proportion is \"+str(r))"
   ]
  },
  {
   "cell_type": "code",
   "execution_count": 51,
   "metadata": {},
   "outputs": [
    {
     "name": "stdout",
     "output_type": "stream",
     "text": [
      "ide_t\n",
      "[Visual Studio Code]                                                                          6150\n",
      "[Visual Studio, Visual Studio Code]                                                           2546\n",
      "[Notepad++, Visual Studio, Visual Studio Code]                                                1542\n",
      "[IntelliJ IDEA, Visual Studio Code]                                                           1169\n",
      "[Vim, Visual Studio Code]                                                                     1045\n",
      "                                                                                              ... \n",
      "[Android Studio, CLion, IntelliJ IDEA, PhpStorm, Rider, Visual Studio, Visual Studio Code]       1\n",
      "[Eclipse, Netbeans, Visual Studio, Visual Studio Code, WebStorm]                                 1\n",
      "[Nano, Rider, Sublime Text, Visual Studio Code, Xcode]                                           1\n",
      "[DataGrip, Eclipse, IntelliJ IDEA, Notepad++, Visual Studio, Visual Studio Code]                 1\n",
      "[Android Studio, Helix, Xcode]                                                                   1\n",
      "Name: count, Length: 14163, dtype: int64\n",
      "The total number of nan values for Preferred text editor is 2584 and the proportion is 0.042959268495428096\n"
     ]
    }
   ],
   "source": [
    "# show the number and proportion of nan values in Preferred text editor/dev environment\n",
    "df_te = df2['ide_t']\n",
    "print(df_te.value_counts())\n",
    "c, r = count_nan(df_te)\n",
    "print(\"The total number of nan values for Preferred text editor is \"+str(c)+\" and the proportion is \"+str(r))"
   ]
  },
  {
   "cell_type": "code",
   "execution_count": 52,
   "metadata": {},
   "outputs": [
    {
     "name": "stdout",
     "output_type": "stream",
     "text": [
      "salary_merge\n",
      "Less than $20,000      3874\n",
      "$40,000 - $60,000      3689\n",
      "$60,000 - $80,000      3405\n",
      "$20,000 - $40,000      3066\n",
      "More than $160,000     2717\n",
      "$80,000 - $100,000     2550\n",
      "$100,000 - $120,000    1847\n",
      "$120,000 - $140,000    1303\n",
      "$140,000 - $160,000     951\n",
      "Name: count, dtype: int64\n",
      "The total number of nan values for salary is 36748 and the proportion is 0.6109393183707398\n"
     ]
    }
   ],
   "source": [
    "# show the number and proportion of nan values in salary\n",
    "df_salary = df2['salary_merge']\n",
    "print(df_salary.value_counts())\n",
    "c, r = count_nan(df_salary)\n",
    "print(\"The total number of nan values for salary is \"+str(c)+\" and the proportion is \"+str(r))"
   ]
  },
  {
   "cell_type": "code",
   "execution_count": 53,
   "metadata": {},
   "outputs": [
    {
     "name": "stdout",
     "output_type": "stream",
     "text": [
      "edu_t\n",
      "[Bachelor’s degree (B.A., B.S., B.Eng., etc.), Other online resources (e.g., videos, blogs, forum, online community)]                                                                                                                           1095\n",
      "[Bachelor’s degree (B.A., B.S., B.Eng., etc.), Other online resources (e.g., videos, blogs, forum, online community), School (i.e., University, College, etc)]                                                                                   982\n",
      "[Bachelor’s degree (B.A., B.S., B.Eng., etc.), Books / Physical media, On the job training, Other online resources (e.g., videos, blogs, forum, online community), School (i.e., University, College, etc), Online Courses or Certification]     862\n",
      "[Bachelor’s degree (B.A., B.S., B.Eng., etc.), Books / Physical media, Other online resources (e.g., videos, blogs, forum, online community), Online Courses or Certification]                                                                   816\n",
      "[Bachelor’s degree (B.A., B.S., B.Eng., etc.), Other online resources (e.g., videos, blogs, forum, online community), Online Courses or Certification]                                                                                           815\n",
      "                                                                                                                                                                                                                                                ... \n",
      "[Primary/elementary school, Colleague, Other online resources (e.g., videos, blogs, forum, online community), School (i.e., University, College, etc), Online Courses or Certification, Coding Bootcamp, Friend or family member]                  1\n",
      "[Associate degree (A.A., A.S., etc.), On the job training, School (i.e., University, College, etc), Other (please specify):]                                                                                                                       1\n",
      "[Professional degree (JD, MD, Ph.D, Ed.D, etc.), Books / Physical media, Colleague, On the job training, Other online resources (e.g., videos, blogs, forum, online community), School (i.e., University, College, etc), Coding Bootcamp]          1\n",
      "[Master’s degree (M.A., M.S., M.Eng., MBA, etc.), Books / Physical media, On the job training, Friend or family member, Other (please specify):]                                                                                                   1\n",
      "[Primary/elementary school, Coding Bootcamp, Friend or family member]                                                                                                                                                                              1\n",
      "Name: count, Length: 2050, dtype: int64\n",
      "The total number of nan values for education is 1702 and the proportion is 0.02829592684954281\n"
     ]
    }
   ],
   "source": [
    "# show the number and proportion of nan values in education\n",
    "df_edu = df2['edu_t']\n",
    "print(df_edu.value_counts())\n",
    "c, r = count_nan(df_edu)\n",
    "print(\"The total number of nan values for education is \"+str(c)+\" and the proportion is \"+str(r))"
   ]
  },
  {
   "cell_type": "code",
   "execution_count": 54,
   "metadata": {},
   "outputs": [
    {
     "name": "stdout",
     "output_type": "stream",
     "text": [
      "Country\n",
      "United States of America                                10938\n",
      "Germany                                                  4896\n",
      "India                                                    4098\n",
      "United Kingdom of Great Britain and Northern Ireland     3191\n",
      "Ukraine                                                  2650\n",
      "                                                        ...  \n",
      "Micronesia, Federated States of...                          1\n",
      "Nauru                                                       1\n",
      "Chad                                                        1\n",
      "Djibouti                                                    1\n",
      "Solomon Islands                                             1\n",
      "Name: count, Length: 185, dtype: int64\n",
      "The total number of nan values for Country is 2107 and the proportion is 0.03502909393183708\n"
     ]
    }
   ],
   "source": [
    "# show the number and proportion of nan values in country\n",
    "df_country = df2['Country']\n",
    "print(df_country.value_counts())\n",
    "c, r = count_nan(df_country)\n",
    "print(\"The total number of nan values for Country is \"+str(c)+\" and the proportion is \"+str(r))"
   ]
  },
  {
   "cell_type": "code",
   "execution_count": 55,
   "metadata": {},
   "outputs": [],
   "source": [
    "# Comment out this block because it's too time consuming to run and does not reveal too much useful info\n",
    "\n",
    "# show the number and proportion of nan values in tools\n",
    "# df_tools = df2['tools']\n",
    "# print(df_tools.value_counts())\n",
    "# c, r = count_nan(df_tools)\n",
    "# print(\"The total number of nan values for tools is 0 and the proportion is 0\")"
   ]
  },
  {
   "cell_type": "code",
   "execution_count": 56,
   "metadata": {},
   "outputs": [],
   "source": [
    "# add year\n",
    "df2['year'] = 2024"
   ]
  },
  {
   "cell_type": "code",
   "execution_count": 57,
   "metadata": {},
   "outputs": [
    {
     "data": {
      "text/html": [
       "<div>\n",
       "<style scoped>\n",
       "    .dataframe tbody tr th:only-of-type {\n",
       "        vertical-align: middle;\n",
       "    }\n",
       "\n",
       "    .dataframe tbody tr th {\n",
       "        vertical-align: top;\n",
       "    }\n",
       "\n",
       "    .dataframe thead th {\n",
       "        text-align: right;\n",
       "    }\n",
       "</style>\n",
       "<table border=\"1\" class=\"dataframe\">\n",
       "  <thead>\n",
       "    <tr style=\"text-align: right;\">\n",
       "      <th></th>\n",
       "      <th>devtyp_t</th>\n",
       "      <th>Country</th>\n",
       "      <th>edu_t</th>\n",
       "      <th>code_yrs</th>\n",
       "      <th>opsys_t</th>\n",
       "      <th>ide_t</th>\n",
       "      <th>year</th>\n",
       "      <th>tools</th>\n",
       "    </tr>\n",
       "  </thead>\n",
       "  <tbody>\n",
       "    <tr>\n",
       "      <th>1</th>\n",
       "      <td>Developer_full-stack</td>\n",
       "      <td>United Kingdom of Great Britain and Northern I...</td>\n",
       "      <td>[Bachelor’s degree (B.A., B.S., B.Eng., etc.),...</td>\n",
       "      <td>11+ years</td>\n",
       "      <td>[MacOS, Windows]</td>\n",
       "      <td>[PyCharm, Visual Studio Code, WebStorm]</td>\n",
       "      <td>2024</td>\n",
       "      <td>[Dynamodb, MongoDB, PostgreSQL, Express, Next....</td>\n",
       "    </tr>\n",
       "    <tr>\n",
       "      <th>2</th>\n",
       "      <td>Developer Experience</td>\n",
       "      <td>United Kingdom of Great Britain and Northern I...</td>\n",
       "      <td>[Master’s degree (M.A., M.S., M.Eng., MBA, etc...</td>\n",
       "      <td>11+ years</td>\n",
       "      <td>[Windows]</td>\n",
       "      <td>[Visual Studio]</td>\n",
       "      <td>2024</td>\n",
       "      <td>[Firebase Realtime Database, ASP.NET CORE, C#,...</td>\n",
       "    </tr>\n",
       "    <tr>\n",
       "      <th>3</th>\n",
       "      <td>Developer_full-stack</td>\n",
       "      <td>Canada</td>\n",
       "      <td>[Some college/university study without earning...</td>\n",
       "      <td>2 - 5 years</td>\n",
       "      <td>NaN</td>\n",
       "      <td>NaN</td>\n",
       "      <td>2024</td>\n",
       "      <td>[MongoDB, MySQL, PostgreSQL, SQLite, jQuery, N...</td>\n",
       "    </tr>\n",
       "    <tr>\n",
       "      <th>4</th>\n",
       "      <td>Developer_full-stack</td>\n",
       "      <td>Norway</td>\n",
       "      <td>[Secondary school (e.g. American high school, ...</td>\n",
       "      <td>6 - 10 years</td>\n",
       "      <td>[Other (please specify):]</td>\n",
       "      <td>[Vim]</td>\n",
       "      <td>2024</td>\n",
       "      <td>[PostgreSQL, SQLite, C++, HTML/CSS, JavaScript...</td>\n",
       "    </tr>\n",
       "    <tr>\n",
       "      <th>5</th>\n",
       "      <td>Student</td>\n",
       "      <td>United States of America</td>\n",
       "      <td>[Primary/elementary school, School (i.e., Univ...</td>\n",
       "      <td>6 - 10 years</td>\n",
       "      <td>[iOS, MacOS, Ubuntu]</td>\n",
       "      <td>[Nano, Vim, Visual Studio Code, Xcode]</td>\n",
       "      <td>2024</td>\n",
       "      <td>[Cloud Firestore, Node.js, Bash/Shell (all she...</td>\n",
       "    </tr>\n",
       "    <tr>\n",
       "      <th>...</th>\n",
       "      <td>...</td>\n",
       "      <td>...</td>\n",
       "      <td>...</td>\n",
       "      <td>...</td>\n",
       "      <td>...</td>\n",
       "      <td>...</td>\n",
       "      <td>...</td>\n",
       "      <td>...</td>\n",
       "    </tr>\n",
       "    <tr>\n",
       "      <th>65421</th>\n",
       "      <td>NaN</td>\n",
       "      <td>NaN</td>\n",
       "      <td>NaN</td>\n",
       "      <td>NaN</td>\n",
       "      <td>[Ubuntu, Windows]</td>\n",
       "      <td>[Sublime Text, Visual Studio Code]</td>\n",
       "      <td>2024</td>\n",
       "      <td>[PostgreSQL, FastAPI, Bash/Shell (all shells),...</td>\n",
       "    </tr>\n",
       "    <tr>\n",
       "      <th>65427</th>\n",
       "      <td>NaN</td>\n",
       "      <td>NaN</td>\n",
       "      <td>NaN</td>\n",
       "      <td>NaN</td>\n",
       "      <td>NaN</td>\n",
       "      <td>NaN</td>\n",
       "      <td>2024</td>\n",
       "      <td>[Microsoft SQL Server, MySQL, PostgreSQL, MATL...</td>\n",
       "    </tr>\n",
       "    <tr>\n",
       "      <th>65431</th>\n",
       "      <td>Developer_full-stack</td>\n",
       "      <td>Belgium</td>\n",
       "      <td>[Bachelor’s degree (B.A., B.S., B.Eng., etc.),...</td>\n",
       "      <td>11+ years</td>\n",
       "      <td>[Cygwin, Debian, MacOS, Other Linux-based, Ubu...</td>\n",
       "      <td>[DataGrip, IntelliJ IDEA, PyCharm, Rider, Subl...</td>\n",
       "      <td>2024</td>\n",
       "      <td>[Couch DB, H2, Microsoft SQL Server, MySQL, Or...</td>\n",
       "    </tr>\n",
       "    <tr>\n",
       "      <th>65435</th>\n",
       "      <td>Developer_back-end</td>\n",
       "      <td>Germany</td>\n",
       "      <td>[Secondary school (e.g. American high school, ...</td>\n",
       "      <td>2 - 5 years</td>\n",
       "      <td>[Android, Fedora, Other Linux-based, Ubuntu, W...</td>\n",
       "      <td>[Vim, Visual Studio Code]</td>\n",
       "      <td>2024</td>\n",
       "      <td>[PostgreSQL, SQLite, Angular, Node.js, React, ...</td>\n",
       "    </tr>\n",
       "    <tr>\n",
       "      <th>65436</th>\n",
       "      <td>NaN</td>\n",
       "      <td>NaN</td>\n",
       "      <td>NaN</td>\n",
       "      <td>NaN</td>\n",
       "      <td>[MacOS, Windows]</td>\n",
       "      <td>[Visual Studio Code]</td>\n",
       "      <td>2024</td>\n",
       "      <td>[MongoDB, MySQL, Oracle, PostgreSQL, Django, E...</td>\n",
       "    </tr>\n",
       "  </tbody>\n",
       "</table>\n",
       "<p>60150 rows × 8 columns</p>\n",
       "</div>"
      ],
      "text/plain": [
       "                   devtyp_t  \\\n",
       "1      Developer_full-stack   \n",
       "2      Developer Experience   \n",
       "3      Developer_full-stack   \n",
       "4      Developer_full-stack   \n",
       "5                   Student   \n",
       "...                     ...   \n",
       "65421                   NaN   \n",
       "65427                   NaN   \n",
       "65431  Developer_full-stack   \n",
       "65435    Developer_back-end   \n",
       "65436                   NaN   \n",
       "\n",
       "                                                 Country  \\\n",
       "1      United Kingdom of Great Britain and Northern I...   \n",
       "2      United Kingdom of Great Britain and Northern I...   \n",
       "3                                                 Canada   \n",
       "4                                                 Norway   \n",
       "5                               United States of America   \n",
       "...                                                  ...   \n",
       "65421                                                NaN   \n",
       "65427                                                NaN   \n",
       "65431                                            Belgium   \n",
       "65435                                            Germany   \n",
       "65436                                                NaN   \n",
       "\n",
       "                                                   edu_t      code_yrs  \\\n",
       "1      [Bachelor’s degree (B.A., B.S., B.Eng., etc.),...     11+ years   \n",
       "2      [Master’s degree (M.A., M.S., M.Eng., MBA, etc...     11+ years   \n",
       "3      [Some college/university study without earning...   2 - 5 years   \n",
       "4      [Secondary school (e.g. American high school, ...  6 - 10 years   \n",
       "5      [Primary/elementary school, School (i.e., Univ...  6 - 10 years   \n",
       "...                                                  ...           ...   \n",
       "65421                                                NaN           NaN   \n",
       "65427                                                NaN           NaN   \n",
       "65431  [Bachelor’s degree (B.A., B.S., B.Eng., etc.),...     11+ years   \n",
       "65435  [Secondary school (e.g. American high school, ...   2 - 5 years   \n",
       "65436                                                NaN           NaN   \n",
       "\n",
       "                                                 opsys_t  \\\n",
       "1                                       [MacOS, Windows]   \n",
       "2                                              [Windows]   \n",
       "3                                                    NaN   \n",
       "4                              [Other (please specify):]   \n",
       "5                                   [iOS, MacOS, Ubuntu]   \n",
       "...                                                  ...   \n",
       "65421                                  [Ubuntu, Windows]   \n",
       "65427                                                NaN   \n",
       "65431  [Cygwin, Debian, MacOS, Other Linux-based, Ubu...   \n",
       "65435  [Android, Fedora, Other Linux-based, Ubuntu, W...   \n",
       "65436                                   [MacOS, Windows]   \n",
       "\n",
       "                                                   ide_t  year  \\\n",
       "1                [PyCharm, Visual Studio Code, WebStorm]  2024   \n",
       "2                                        [Visual Studio]  2024   \n",
       "3                                                    NaN  2024   \n",
       "4                                                  [Vim]  2024   \n",
       "5                 [Nano, Vim, Visual Studio Code, Xcode]  2024   \n",
       "...                                                  ...   ...   \n",
       "65421                 [Sublime Text, Visual Studio Code]  2024   \n",
       "65427                                                NaN  2024   \n",
       "65431  [DataGrip, IntelliJ IDEA, PyCharm, Rider, Subl...  2024   \n",
       "65435                          [Vim, Visual Studio Code]  2024   \n",
       "65436                               [Visual Studio Code]  2024   \n",
       "\n",
       "                                                   tools  \n",
       "1      [Dynamodb, MongoDB, PostgreSQL, Express, Next....  \n",
       "2      [Firebase Realtime Database, ASP.NET CORE, C#,...  \n",
       "3      [MongoDB, MySQL, PostgreSQL, SQLite, jQuery, N...  \n",
       "4      [PostgreSQL, SQLite, C++, HTML/CSS, JavaScript...  \n",
       "5      [Cloud Firestore, Node.js, Bash/Shell (all she...  \n",
       "...                                                  ...  \n",
       "65421  [PostgreSQL, FastAPI, Bash/Shell (all shells),...  \n",
       "65427  [Microsoft SQL Server, MySQL, PostgreSQL, MATL...  \n",
       "65431  [Couch DB, H2, Microsoft SQL Server, MySQL, Or...  \n",
       "65435  [PostgreSQL, SQLite, Angular, Node.js, React, ...  \n",
       "65436  [MongoDB, MySQL, Oracle, PostgreSQL, Django, E...  \n",
       "\n",
       "[60150 rows x 8 columns]"
      ]
     },
     "execution_count": 57,
     "metadata": {},
     "output_type": "execute_result"
    }
   ],
   "source": [
    "# drop unwanted attributes (drop compensation)\n",
    "df3 = df2.loc[:,['devtyp_t', 'Country', 'edu_t','code_yrs','opsys_t','ide_t','year','tools']]\n",
    "df3"
   ]
  },
  {
   "cell_type": "code",
   "execution_count": 58,
   "metadata": {},
   "outputs": [],
   "source": [
    "# export df3\n",
    "df3.to_csv(\"2024_df3.csv\")"
   ]
  },
  {
   "cell_type": "markdown",
   "metadata": {},
   "source": [
    "extract all of the languages in dataset"
   ]
  },
  {
   "cell_type": "code",
   "execution_count": 59,
   "metadata": {},
   "outputs": [
    {
     "name": "stdout",
     "output_type": "stream",
     "text": [
      "{'Bash/Shell (all shells)': 20412, 'Go': 8103, 'HTML/CSS': 31816, 'Java': 18239, 'JavaScript': 37492, 'Python': 30719, 'TypeScript': 23150, 'C#': 16318, 'C': 12184, 'C++': 13827, 'PHP': 10951, 'PowerShell': 8328, 'SQL': 30682, 'Lua': 3728, 'Rust': 7559, 'Swift': 2829, 'R': 2595, 'Ruby': 3147, 'Delphi': 1073, 'VBA': 2248, 'Visual Basic (.Net)': 2499, 'F#': 512, 'Clojure': 737, 'Scala': 1547, 'Perl': 1482, 'MATLAB': 2378, 'OCaml': 458, 'Assembly': 3233, 'Dart': 3594, 'Fortran': 665, 'Julia': 684, 'Crystal': 253, 'Kotlin': 5665, 'Lisp': 889, 'Prolog': 486, 'Haskell': 1193, 'Ada': 542, 'Elixir': 1243, 'Erlang': 522, 'Groovy': 2004, 'Zig': 667, 'GDScript': 1402, 'MicroPython': 942, 'Objective-C': 1283, 'Cobol': 413, 'Nim': 210, 'Apex': 502, 'Solidity': 644, 'Zephyr': 184}\n",
      "dict_keys(['Bash/Shell (all shells)', 'Go', 'HTML/CSS', 'Java', 'JavaScript', 'Python', 'TypeScript', 'C#', 'C', 'C++', 'PHP', 'PowerShell', 'SQL', 'Lua', 'Rust', 'Swift', 'R', 'Ruby', 'Delphi', 'VBA', 'Visual Basic (.Net)', 'F#', 'Clojure', 'Scala', 'Perl', 'MATLAB', 'OCaml', 'Assembly', 'Dart', 'Fortran', 'Julia', 'Crystal', 'Kotlin', 'Lisp', 'Prolog', 'Haskell', 'Ada', 'Elixir', 'Erlang', 'Groovy', 'Zig', 'GDScript', 'MicroPython', 'Objective-C', 'Cobol', 'Nim', 'Apex', 'Solidity', 'Zephyr'])\n"
     ]
    }
   ],
   "source": [
    "tools_dic = dict()\n",
    "\n",
    "for i in df['LanguageHaveWorkedWith']:\n",
    "    if type(i) == str:\n",
    "\n",
    "        x = i.split(\";\")\n",
    "    \n",
    "        for j in x:\n",
    "            if j not in tools_dic:\n",
    "                tools_dic[j] = 1\n",
    "            else:\n",
    "                old = tools_dic[j]\n",
    "                tools_dic[j] = old + 1\n",
    "\n",
    "\n",
    "print(tools_dic)\n",
    "\n",
    "print(tools_dic.keys())"
   ]
  },
  {
   "cell_type": "markdown",
   "metadata": {},
   "source": [
    "Languages:\n",
    "\n",
    "'Bash/Shell (all shells)', 'Go', 'HTML/CSS', 'Java', 'JavaScript', 'Python', 'TypeScript', 'C#', 'C', 'C++', 'PHP', 'PowerShell', 'SQL', 'Lua', 'Rust', 'Swift', 'R', 'Ruby', 'Delphi', 'VBA', 'Visual Basic (.Net)', 'F#', 'Clojure', 'Scala', 'Perl', 'MATLAB', 'OCaml', 'Assembly', 'Dart', 'Fortran', 'Julia', 'Crystal', 'Kotlin', 'Lisp', 'Prolog', 'Haskell', 'Ada', 'Elixir', 'Erlang', 'Groovy', 'Zig', 'GDScript', 'MicroPython', 'Objective-C', 'Cobol', 'Nim', 'Apex', 'Solidity', 'Zephyr'"
   ]
  }
 ],
 "metadata": {
  "kernelspec": {
   "display_name": "Python 3",
   "language": "python",
   "name": "python3"
  },
  "language_info": {
   "codemirror_mode": {
    "name": "ipython",
    "version": 3
   },
   "file_extension": ".py",
   "mimetype": "text/x-python",
   "name": "python",
   "nbconvert_exporter": "python",
   "pygments_lexer": "ipython3",
   "version": "3.13.0"
  }
 },
 "nbformat": 4,
 "nbformat_minor": 2
}
