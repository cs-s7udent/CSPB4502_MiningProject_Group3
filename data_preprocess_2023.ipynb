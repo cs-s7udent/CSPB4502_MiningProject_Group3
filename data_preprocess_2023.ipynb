{
 "cells": [
  {
   "cell_type": "code",
   "execution_count": 67,
   "metadata": {},
   "outputs": [],
   "source": [
    "import pandas as pd\n",
    "import numpy as np\n",
    "import matplotlib.pyplot as plt"
   ]
  },
  {
   "cell_type": "code",
   "execution_count": 68,
   "metadata": {},
   "outputs": [],
   "source": [
    "# this method loops thru every value of the given pandas series and calculates\n",
    "# the total number of nan values and the fraction of \n",
    "# the total number of nan values / the total values in series \n",
    "def count_nan(series):\n",
    "    count = 0\n",
    "    for i in series:\n",
    "        if i is np.nan:\n",
    "            count += 1\n",
    "    return count, count/len(series)"
   ]
  },
  {
   "cell_type": "code",
   "execution_count": 69,
   "metadata": {},
   "outputs": [],
   "source": [
    "# this method transforms a string that contains different values separated by\n",
    "# a semicolon and a space(;) of a given attribute in a given dataframe into a list and \n",
    "# returns in the pandas series format and a nparray that contains the indexes of rows that\n",
    "# has nan \n",
    "def merge_str_list(df, attr_name):\n",
    "    drop_lst = np.array([])\n",
    "    result = pd.Series()\n",
    "    for i in range(df.shape[0]):\n",
    "        data = df[attr_name][i]\n",
    "        # if string value, extract all values into a list\n",
    "        if type(data) is str:\n",
    "            result[i] = data.split(';')\n",
    "        # if not string value, then add the index into drop_lst\n",
    "        else:\n",
    "            drop_lst = np.append(drop_lst, i)\n",
    "            result[i] = data\n",
    "    \n",
    "    return result, drop_lst"
   ]
  },
  {
   "cell_type": "code",
   "execution_count": 70,
   "metadata": {},
   "outputs": [
    {
     "data": {
      "text/html": [
       "<div>\n",
       "<style scoped>\n",
       "    .dataframe tbody tr th:only-of-type {\n",
       "        vertical-align: middle;\n",
       "    }\n",
       "\n",
       "    .dataframe tbody tr th {\n",
       "        vertical-align: top;\n",
       "    }\n",
       "\n",
       "    .dataframe thead th {\n",
       "        text-align: right;\n",
       "    }\n",
       "</style>\n",
       "<table border=\"1\" class=\"dataframe\">\n",
       "  <thead>\n",
       "    <tr style=\"text-align: right;\">\n",
       "      <th></th>\n",
       "      <th>ResponseId</th>\n",
       "      <th>Q120</th>\n",
       "      <th>MainBranch</th>\n",
       "      <th>Age</th>\n",
       "      <th>Employment</th>\n",
       "      <th>RemoteWork</th>\n",
       "      <th>CodingActivities</th>\n",
       "      <th>EdLevel</th>\n",
       "      <th>LearnCode</th>\n",
       "      <th>LearnCodeOnline</th>\n",
       "      <th>...</th>\n",
       "      <th>Frequency_1</th>\n",
       "      <th>Frequency_2</th>\n",
       "      <th>Frequency_3</th>\n",
       "      <th>TimeSearching</th>\n",
       "      <th>TimeAnswering</th>\n",
       "      <th>ProfessionalTech</th>\n",
       "      <th>Industry</th>\n",
       "      <th>SurveyLength</th>\n",
       "      <th>SurveyEase</th>\n",
       "      <th>ConvertedCompYearly</th>\n",
       "    </tr>\n",
       "  </thead>\n",
       "  <tbody>\n",
       "    <tr>\n",
       "      <th>0</th>\n",
       "      <td>1</td>\n",
       "      <td>I agree</td>\n",
       "      <td>None of these</td>\n",
       "      <td>18-24 years old</td>\n",
       "      <td>NaN</td>\n",
       "      <td>NaN</td>\n",
       "      <td>NaN</td>\n",
       "      <td>NaN</td>\n",
       "      <td>NaN</td>\n",
       "      <td>NaN</td>\n",
       "      <td>...</td>\n",
       "      <td>NaN</td>\n",
       "      <td>NaN</td>\n",
       "      <td>NaN</td>\n",
       "      <td>NaN</td>\n",
       "      <td>NaN</td>\n",
       "      <td>NaN</td>\n",
       "      <td>NaN</td>\n",
       "      <td>NaN</td>\n",
       "      <td>NaN</td>\n",
       "      <td>NaN</td>\n",
       "    </tr>\n",
       "    <tr>\n",
       "      <th>1</th>\n",
       "      <td>2</td>\n",
       "      <td>I agree</td>\n",
       "      <td>I am a developer by profession</td>\n",
       "      <td>25-34 years old</td>\n",
       "      <td>Employed, full-time</td>\n",
       "      <td>Remote</td>\n",
       "      <td>Hobby;Contribute to open-source projects;Boots...</td>\n",
       "      <td>Bachelor’s degree (B.A., B.S., B.Eng., etc.)</td>\n",
       "      <td>Books / Physical media;Colleague;Friend or fam...</td>\n",
       "      <td>Formal documentation provided by the owner of ...</td>\n",
       "      <td>...</td>\n",
       "      <td>1-2 times a week</td>\n",
       "      <td>10+ times a week</td>\n",
       "      <td>Never</td>\n",
       "      <td>15-30 minutes a day</td>\n",
       "      <td>15-30 minutes a day</td>\n",
       "      <td>DevOps function;Microservices;Automated testin...</td>\n",
       "      <td>Information Services, IT, Software Development...</td>\n",
       "      <td>Appropriate in length</td>\n",
       "      <td>Easy</td>\n",
       "      <td>285000.0</td>\n",
       "    </tr>\n",
       "    <tr>\n",
       "      <th>2</th>\n",
       "      <td>3</td>\n",
       "      <td>I agree</td>\n",
       "      <td>I am a developer by profession</td>\n",
       "      <td>45-54 years old</td>\n",
       "      <td>Employed, full-time</td>\n",
       "      <td>Hybrid (some remote, some in-person)</td>\n",
       "      <td>Hobby;Professional development or self-paced l...</td>\n",
       "      <td>Bachelor’s degree (B.A., B.S., B.Eng., etc.)</td>\n",
       "      <td>Books / Physical media;Colleague;On the job tr...</td>\n",
       "      <td>Formal documentation provided by the owner of ...</td>\n",
       "      <td>...</td>\n",
       "      <td>6-10 times a week</td>\n",
       "      <td>6-10 times a week</td>\n",
       "      <td>3-5 times a week</td>\n",
       "      <td>30-60 minutes a day</td>\n",
       "      <td>30-60 minutes a day</td>\n",
       "      <td>DevOps function;Microservices;Automated testin...</td>\n",
       "      <td>Information Services, IT, Software Development...</td>\n",
       "      <td>Appropriate in length</td>\n",
       "      <td>Easy</td>\n",
       "      <td>250000.0</td>\n",
       "    </tr>\n",
       "    <tr>\n",
       "      <th>3</th>\n",
       "      <td>4</td>\n",
       "      <td>I agree</td>\n",
       "      <td>I am a developer by profession</td>\n",
       "      <td>25-34 years old</td>\n",
       "      <td>Employed, full-time</td>\n",
       "      <td>Hybrid (some remote, some in-person)</td>\n",
       "      <td>Hobby</td>\n",
       "      <td>Bachelor’s degree (B.A., B.S., B.Eng., etc.)</td>\n",
       "      <td>Colleague;Friend or family member;Other online...</td>\n",
       "      <td>Formal documentation provided by the owner of ...</td>\n",
       "      <td>...</td>\n",
       "      <td>1-2 times a week</td>\n",
       "      <td>10+ times a week</td>\n",
       "      <td>1-2 times a week</td>\n",
       "      <td>15-30 minutes a day</td>\n",
       "      <td>30-60 minutes a day</td>\n",
       "      <td>Automated testing;Continuous integration (CI) ...</td>\n",
       "      <td>NaN</td>\n",
       "      <td>Appropriate in length</td>\n",
       "      <td>Easy</td>\n",
       "      <td>156000.0</td>\n",
       "    </tr>\n",
       "    <tr>\n",
       "      <th>4</th>\n",
       "      <td>5</td>\n",
       "      <td>I agree</td>\n",
       "      <td>I am a developer by profession</td>\n",
       "      <td>25-34 years old</td>\n",
       "      <td>Employed, full-time;Independent contractor, fr...</td>\n",
       "      <td>Remote</td>\n",
       "      <td>Hobby;Contribute to open-source projects;Profe...</td>\n",
       "      <td>Bachelor’s degree (B.A., B.S., B.Eng., etc.)</td>\n",
       "      <td>Books / Physical media;Online Courses or Certi...</td>\n",
       "      <td>Formal documentation provided by the owner of ...</td>\n",
       "      <td>...</td>\n",
       "      <td>1-2 times a week</td>\n",
       "      <td>1-2 times a week</td>\n",
       "      <td>3-5 times a week</td>\n",
       "      <td>60-120 minutes a day</td>\n",
       "      <td>30-60 minutes a day</td>\n",
       "      <td>Microservices;Automated testing;Observability ...</td>\n",
       "      <td>Other</td>\n",
       "      <td>Appropriate in length</td>\n",
       "      <td>Neither easy nor difficult</td>\n",
       "      <td>23456.0</td>\n",
       "    </tr>\n",
       "    <tr>\n",
       "      <th>...</th>\n",
       "      <td>...</td>\n",
       "      <td>...</td>\n",
       "      <td>...</td>\n",
       "      <td>...</td>\n",
       "      <td>...</td>\n",
       "      <td>...</td>\n",
       "      <td>...</td>\n",
       "      <td>...</td>\n",
       "      <td>...</td>\n",
       "      <td>...</td>\n",
       "      <td>...</td>\n",
       "      <td>...</td>\n",
       "      <td>...</td>\n",
       "      <td>...</td>\n",
       "      <td>...</td>\n",
       "      <td>...</td>\n",
       "      <td>...</td>\n",
       "      <td>...</td>\n",
       "      <td>...</td>\n",
       "      <td>...</td>\n",
       "      <td>...</td>\n",
       "    </tr>\n",
       "    <tr>\n",
       "      <th>89179</th>\n",
       "      <td>89180</td>\n",
       "      <td>I agree</td>\n",
       "      <td>I am a developer by profession</td>\n",
       "      <td>25-34 years old</td>\n",
       "      <td>Employed, full-time;Independent contractor, fr...</td>\n",
       "      <td>Remote</td>\n",
       "      <td>Hobby;Bootstrapping a business;Freelance/contr...</td>\n",
       "      <td>Associate degree (A.A., A.S., etc.)</td>\n",
       "      <td>Online Courses or Certification;Other online r...</td>\n",
       "      <td>Formal documentation provided by the owner of ...</td>\n",
       "      <td>...</td>\n",
       "      <td>NaN</td>\n",
       "      <td>NaN</td>\n",
       "      <td>NaN</td>\n",
       "      <td>NaN</td>\n",
       "      <td>NaN</td>\n",
       "      <td>NaN</td>\n",
       "      <td>NaN</td>\n",
       "      <td>Too long</td>\n",
       "      <td>Neither easy nor difficult</td>\n",
       "      <td>NaN</td>\n",
       "    </tr>\n",
       "    <tr>\n",
       "      <th>89180</th>\n",
       "      <td>89181</td>\n",
       "      <td>I agree</td>\n",
       "      <td>I am a developer by profession</td>\n",
       "      <td>18-24 years old</td>\n",
       "      <td>Student, full-time;Employed, part-time</td>\n",
       "      <td>Hybrid (some remote, some in-person)</td>\n",
       "      <td>School or academic work</td>\n",
       "      <td>Bachelor’s degree (B.A., B.S., B.Eng., etc.)</td>\n",
       "      <td>Colleague;Online Courses or Certification;Othe...</td>\n",
       "      <td>Formal documentation provided by the owner of ...</td>\n",
       "      <td>...</td>\n",
       "      <td>NaN</td>\n",
       "      <td>NaN</td>\n",
       "      <td>NaN</td>\n",
       "      <td>NaN</td>\n",
       "      <td>NaN</td>\n",
       "      <td>NaN</td>\n",
       "      <td>NaN</td>\n",
       "      <td>Too long</td>\n",
       "      <td>Easy</td>\n",
       "      <td>NaN</td>\n",
       "    </tr>\n",
       "    <tr>\n",
       "      <th>89181</th>\n",
       "      <td>89182</td>\n",
       "      <td>I agree</td>\n",
       "      <td>I code primarily as a hobby</td>\n",
       "      <td>Prefer not to say</td>\n",
       "      <td>I prefer not to say</td>\n",
       "      <td>NaN</td>\n",
       "      <td>NaN</td>\n",
       "      <td>Something else</td>\n",
       "      <td>Books / Physical media;Hackathons (virtual or ...</td>\n",
       "      <td>NaN</td>\n",
       "      <td>...</td>\n",
       "      <td>NaN</td>\n",
       "      <td>NaN</td>\n",
       "      <td>NaN</td>\n",
       "      <td>NaN</td>\n",
       "      <td>NaN</td>\n",
       "      <td>NaN</td>\n",
       "      <td>NaN</td>\n",
       "      <td>Too long</td>\n",
       "      <td>Neither easy nor difficult</td>\n",
       "      <td>NaN</td>\n",
       "    </tr>\n",
       "    <tr>\n",
       "      <th>89182</th>\n",
       "      <td>89183</td>\n",
       "      <td>I agree</td>\n",
       "      <td>I am a developer by profession</td>\n",
       "      <td>Under 18 years old</td>\n",
       "      <td>Employed, part-time;Student, part-time</td>\n",
       "      <td>Hybrid (some remote, some in-person)</td>\n",
       "      <td>Hobby;School or academic work</td>\n",
       "      <td>Secondary school (e.g. American high school, G...</td>\n",
       "      <td>Online Courses or Certification;Other online r...</td>\n",
       "      <td>Formal documentation provided by the owner of ...</td>\n",
       "      <td>...</td>\n",
       "      <td>NaN</td>\n",
       "      <td>NaN</td>\n",
       "      <td>NaN</td>\n",
       "      <td>NaN</td>\n",
       "      <td>NaN</td>\n",
       "      <td>NaN</td>\n",
       "      <td>NaN</td>\n",
       "      <td>Appropriate in length</td>\n",
       "      <td>Neither easy nor difficult</td>\n",
       "      <td>NaN</td>\n",
       "    </tr>\n",
       "    <tr>\n",
       "      <th>89183</th>\n",
       "      <td>89184</td>\n",
       "      <td>I agree</td>\n",
       "      <td>I am a developer by profession</td>\n",
       "      <td>35-44 years old</td>\n",
       "      <td>Employed, full-time</td>\n",
       "      <td>Hybrid (some remote, some in-person)</td>\n",
       "      <td>Hobby;Professional development or self-paced l...</td>\n",
       "      <td>Bachelor’s degree (B.A., B.S., B.Eng., etc.)</td>\n",
       "      <td>Colleague;Online Courses or Certification;Othe...</td>\n",
       "      <td>Formal documentation provided by the owner of ...</td>\n",
       "      <td>...</td>\n",
       "      <td>Never</td>\n",
       "      <td>1-2 times a week</td>\n",
       "      <td>1-2 times a week</td>\n",
       "      <td>60-120 minutes a day</td>\n",
       "      <td>30-60 minutes a day</td>\n",
       "      <td>DevOps function;Developer portal or other cent...</td>\n",
       "      <td>Information Services, IT, Software Development...</td>\n",
       "      <td>Appropriate in length</td>\n",
       "      <td>Easy</td>\n",
       "      <td>NaN</td>\n",
       "    </tr>\n",
       "  </tbody>\n",
       "</table>\n",
       "<p>89184 rows × 84 columns</p>\n",
       "</div>"
      ],
      "text/plain": [
       "       ResponseId     Q120                      MainBranch  \\\n",
       "0               1  I agree                   None of these   \n",
       "1               2  I agree  I am a developer by profession   \n",
       "2               3  I agree  I am a developer by profession   \n",
       "3               4  I agree  I am a developer by profession   \n",
       "4               5  I agree  I am a developer by profession   \n",
       "...           ...      ...                             ...   \n",
       "89179       89180  I agree  I am a developer by profession   \n",
       "89180       89181  I agree  I am a developer by profession   \n",
       "89181       89182  I agree     I code primarily as a hobby   \n",
       "89182       89183  I agree  I am a developer by profession   \n",
       "89183       89184  I agree  I am a developer by profession   \n",
       "\n",
       "                      Age                                         Employment  \\\n",
       "0         18-24 years old                                                NaN   \n",
       "1         25-34 years old                                Employed, full-time   \n",
       "2         45-54 years old                                Employed, full-time   \n",
       "3         25-34 years old                                Employed, full-time   \n",
       "4         25-34 years old  Employed, full-time;Independent contractor, fr...   \n",
       "...                   ...                                                ...   \n",
       "89179     25-34 years old  Employed, full-time;Independent contractor, fr...   \n",
       "89180     18-24 years old             Student, full-time;Employed, part-time   \n",
       "89181   Prefer not to say                                I prefer not to say   \n",
       "89182  Under 18 years old             Employed, part-time;Student, part-time   \n",
       "89183     35-44 years old                                Employed, full-time   \n",
       "\n",
       "                                 RemoteWork  \\\n",
       "0                                       NaN   \n",
       "1                                    Remote   \n",
       "2      Hybrid (some remote, some in-person)   \n",
       "3      Hybrid (some remote, some in-person)   \n",
       "4                                    Remote   \n",
       "...                                     ...   \n",
       "89179                                Remote   \n",
       "89180  Hybrid (some remote, some in-person)   \n",
       "89181                                   NaN   \n",
       "89182  Hybrid (some remote, some in-person)   \n",
       "89183  Hybrid (some remote, some in-person)   \n",
       "\n",
       "                                        CodingActivities  \\\n",
       "0                                                    NaN   \n",
       "1      Hobby;Contribute to open-source projects;Boots...   \n",
       "2      Hobby;Professional development or self-paced l...   \n",
       "3                                                  Hobby   \n",
       "4      Hobby;Contribute to open-source projects;Profe...   \n",
       "...                                                  ...   \n",
       "89179  Hobby;Bootstrapping a business;Freelance/contr...   \n",
       "89180                            School or academic work   \n",
       "89181                                                NaN   \n",
       "89182                      Hobby;School or academic work   \n",
       "89183  Hobby;Professional development or self-paced l...   \n",
       "\n",
       "                                                 EdLevel  \\\n",
       "0                                                    NaN   \n",
       "1           Bachelor’s degree (B.A., B.S., B.Eng., etc.)   \n",
       "2           Bachelor’s degree (B.A., B.S., B.Eng., etc.)   \n",
       "3           Bachelor’s degree (B.A., B.S., B.Eng., etc.)   \n",
       "4           Bachelor’s degree (B.A., B.S., B.Eng., etc.)   \n",
       "...                                                  ...   \n",
       "89179                Associate degree (A.A., A.S., etc.)   \n",
       "89180       Bachelor’s degree (B.A., B.S., B.Eng., etc.)   \n",
       "89181                                     Something else   \n",
       "89182  Secondary school (e.g. American high school, G...   \n",
       "89183       Bachelor’s degree (B.A., B.S., B.Eng., etc.)   \n",
       "\n",
       "                                               LearnCode  \\\n",
       "0                                                    NaN   \n",
       "1      Books / Physical media;Colleague;Friend or fam...   \n",
       "2      Books / Physical media;Colleague;On the job tr...   \n",
       "3      Colleague;Friend or family member;Other online...   \n",
       "4      Books / Physical media;Online Courses or Certi...   \n",
       "...                                                  ...   \n",
       "89179  Online Courses or Certification;Other online r...   \n",
       "89180  Colleague;Online Courses or Certification;Othe...   \n",
       "89181  Books / Physical media;Hackathons (virtual or ...   \n",
       "89182  Online Courses or Certification;Other online r...   \n",
       "89183  Colleague;Online Courses or Certification;Othe...   \n",
       "\n",
       "                                         LearnCodeOnline  ...  \\\n",
       "0                                                    NaN  ...   \n",
       "1      Formal documentation provided by the owner of ...  ...   \n",
       "2      Formal documentation provided by the owner of ...  ...   \n",
       "3      Formal documentation provided by the owner of ...  ...   \n",
       "4      Formal documentation provided by the owner of ...  ...   \n",
       "...                                                  ...  ...   \n",
       "89179  Formal documentation provided by the owner of ...  ...   \n",
       "89180  Formal documentation provided by the owner of ...  ...   \n",
       "89181                                                NaN  ...   \n",
       "89182  Formal documentation provided by the owner of ...  ...   \n",
       "89183  Formal documentation provided by the owner of ...  ...   \n",
       "\n",
       "             Frequency_1        Frequency_2       Frequency_3  \\\n",
       "0                    NaN                NaN               NaN   \n",
       "1       1-2 times a week   10+ times a week             Never   \n",
       "2      6-10 times a week  6-10 times a week  3-5 times a week   \n",
       "3       1-2 times a week   10+ times a week  1-2 times a week   \n",
       "4       1-2 times a week   1-2 times a week  3-5 times a week   \n",
       "...                  ...                ...               ...   \n",
       "89179                NaN                NaN               NaN   \n",
       "89180                NaN                NaN               NaN   \n",
       "89181                NaN                NaN               NaN   \n",
       "89182                NaN                NaN               NaN   \n",
       "89183              Never   1-2 times a week  1-2 times a week   \n",
       "\n",
       "              TimeSearching        TimeAnswering  \\\n",
       "0                       NaN                  NaN   \n",
       "1       15-30 minutes a day  15-30 minutes a day   \n",
       "2       30-60 minutes a day  30-60 minutes a day   \n",
       "3       15-30 minutes a day  30-60 minutes a day   \n",
       "4      60-120 minutes a day  30-60 minutes a day   \n",
       "...                     ...                  ...   \n",
       "89179                   NaN                  NaN   \n",
       "89180                   NaN                  NaN   \n",
       "89181                   NaN                  NaN   \n",
       "89182                   NaN                  NaN   \n",
       "89183  60-120 minutes a day  30-60 minutes a day   \n",
       "\n",
       "                                        ProfessionalTech  \\\n",
       "0                                                    NaN   \n",
       "1      DevOps function;Microservices;Automated testin...   \n",
       "2      DevOps function;Microservices;Automated testin...   \n",
       "3      Automated testing;Continuous integration (CI) ...   \n",
       "4      Microservices;Automated testing;Observability ...   \n",
       "...                                                  ...   \n",
       "89179                                                NaN   \n",
       "89180                                                NaN   \n",
       "89181                                                NaN   \n",
       "89182                                                NaN   \n",
       "89183  DevOps function;Developer portal or other cent...   \n",
       "\n",
       "                                                Industry  \\\n",
       "0                                                    NaN   \n",
       "1      Information Services, IT, Software Development...   \n",
       "2      Information Services, IT, Software Development...   \n",
       "3                                                    NaN   \n",
       "4                                                  Other   \n",
       "...                                                  ...   \n",
       "89179                                                NaN   \n",
       "89180                                                NaN   \n",
       "89181                                                NaN   \n",
       "89182                                                NaN   \n",
       "89183  Information Services, IT, Software Development...   \n",
       "\n",
       "                SurveyLength                  SurveyEase ConvertedCompYearly  \n",
       "0                        NaN                         NaN                 NaN  \n",
       "1      Appropriate in length                        Easy            285000.0  \n",
       "2      Appropriate in length                        Easy            250000.0  \n",
       "3      Appropriate in length                        Easy            156000.0  \n",
       "4      Appropriate in length  Neither easy nor difficult             23456.0  \n",
       "...                      ...                         ...                 ...  \n",
       "89179               Too long  Neither easy nor difficult                 NaN  \n",
       "89180               Too long                        Easy                 NaN  \n",
       "89181               Too long  Neither easy nor difficult                 NaN  \n",
       "89182  Appropriate in length  Neither easy nor difficult                 NaN  \n",
       "89183  Appropriate in length                        Easy                 NaN  \n",
       "\n",
       "[89184 rows x 84 columns]"
      ]
     },
     "execution_count": 70,
     "metadata": {},
     "output_type": "execute_result"
    }
   ],
   "source": [
    "# read csv\n",
    "df = pd.read_csv(\"2023 survey_results_public.csv\")\n",
    "df"
   ]
  },
  {
   "cell_type": "code",
   "execution_count": 71,
   "metadata": {},
   "outputs": [
    {
     "name": "stdout",
     "output_type": "stream",
     "text": [
      "ResponseId\n",
      "Q120\n",
      "MainBranch\n",
      "Age\n",
      "Employment\n",
      "RemoteWork\n",
      "CodingActivities\n",
      "EdLevel\n",
      "LearnCode\n",
      "LearnCodeOnline\n",
      "LearnCodeCoursesCert\n",
      "YearsCode\n",
      "YearsCodePro\n",
      "DevType\n",
      "OrgSize\n",
      "PurchaseInfluence\n",
      "TechList\n",
      "BuyNewTool\n",
      "Country\n",
      "Currency\n",
      "CompTotal\n",
      "LanguageHaveWorkedWith\n",
      "LanguageWantToWorkWith\n",
      "DatabaseHaveWorkedWith\n",
      "DatabaseWantToWorkWith\n",
      "PlatformHaveWorkedWith\n",
      "PlatformWantToWorkWith\n",
      "WebframeHaveWorkedWith\n",
      "WebframeWantToWorkWith\n",
      "MiscTechHaveWorkedWith\n",
      "MiscTechWantToWorkWith\n",
      "ToolsTechHaveWorkedWith\n",
      "ToolsTechWantToWorkWith\n",
      "NEWCollabToolsHaveWorkedWith\n",
      "NEWCollabToolsWantToWorkWith\n",
      "OpSysPersonal use\n",
      "OpSysProfessional use\n",
      "OfficeStackAsyncHaveWorkedWith\n",
      "OfficeStackAsyncWantToWorkWith\n",
      "OfficeStackSyncHaveWorkedWith\n",
      "OfficeStackSyncWantToWorkWith\n",
      "AISearchHaveWorkedWith\n",
      "AISearchWantToWorkWith\n",
      "AIDevHaveWorkedWith\n",
      "AIDevWantToWorkWith\n",
      "NEWSOSites\n",
      "SOVisitFreq\n",
      "SOAccount\n",
      "SOPartFreq\n",
      "SOComm\n",
      "SOAI\n",
      "AISelect\n",
      "AISent\n",
      "AIAcc\n",
      "AIBen\n",
      "AIToolInterested in Using\n",
      "AIToolCurrently Using\n",
      "AIToolNot interested in Using\n",
      "AINextVery different\n",
      "AINextNeither different nor similar\n",
      "AINextSomewhat similar\n",
      "AINextVery similar\n",
      "AINextSomewhat different\n",
      "TBranch\n",
      "ICorPM\n",
      "WorkExp\n",
      "Knowledge_1\n",
      "Knowledge_2\n",
      "Knowledge_3\n",
      "Knowledge_4\n",
      "Knowledge_5\n",
      "Knowledge_6\n",
      "Knowledge_7\n",
      "Knowledge_8\n",
      "Frequency_1\n",
      "Frequency_2\n",
      "Frequency_3\n",
      "TimeSearching\n",
      "TimeAnswering\n",
      "ProfessionalTech\n",
      "Industry\n",
      "SurveyLength\n",
      "SurveyEase\n",
      "ConvertedCompYearly\n"
     ]
    }
   ],
   "source": [
    "# print out all attributes\n",
    "total_attributes = df.columns\n",
    "for i in total_attributes:\n",
    "    print(i)"
   ]
  },
  {
   "cell_type": "code",
   "execution_count": 72,
   "metadata": {},
   "outputs": [
    {
     "data": {
      "text/plain": [
       "array([nan, '18', '27', '12', '6', '21', '4', '5', '20', '14', '10', '15',\n",
       "       '11', '3', '24', '8', '13', 'Less than 1 year', '16', '33', '22',\n",
       "       '30', '32', '7', '35', '28', '40', '17', '29', '19',\n",
       "       'More than 50 years', '9', '38', '26', '34', '25', '2', '45', '23',\n",
       "       '31', '43', '1', '48', '41', '50', '39', '42', '37', '36', '44',\n",
       "       '46', '49', '47'], dtype=object)"
      ]
     },
     "execution_count": 72,
     "metadata": {},
     "output_type": "execute_result"
    }
   ],
   "source": [
    "df['YearsCode'].unique()"
   ]
  },
  {
   "cell_type": "markdown",
   "metadata": {},
   "source": [
    "Need to change the years program into the following range\n",
    "\n",
    "Old value                                                  => New value\n",
    "\n",
    "x <= 2           => 0 - 2 years\n",
    " \n",
    "2 < x <= 5       => 2 - 5 years\n",
    "\n",
    "6 <= x <= 10     => 6 - 10 years\n",
    "\n",
    "x > 10           => 11+ years"
   ]
  },
  {
   "cell_type": "code",
   "execution_count": 73,
   "metadata": {},
   "outputs": [],
   "source": [
    "# transfer to bin size and create a new attribute 'code_yrs'\n",
    "data = df['YearsCode']\n",
    "code_yrs = pd.Series()\n",
    "for i in range(len(data)):\n",
    "    a = data[i]\n",
    "    \n",
    "    if a == \"Less than 1 year\":\n",
    "        code_yrs[i] = \"0 - 2 years\"\n",
    "    elif a == \"More than 50 years\":\n",
    "        code_yrs[i] = \"11+ years\"\n",
    "    elif type(a) == float:\n",
    "        code_yrs[i] = a\n",
    "    else:\n",
    "        a_int = int(a)\n",
    "        if a_int <= 2:\n",
    "            code_yrs[i] = \"0 - 2 years\"\n",
    "        elif a_int > 2 and a_int <= 5 :\n",
    "            code_yrs[i] = \"2 - 5 years\"\n",
    "        elif a_int >= 6 and a_int <= 10:\n",
    "            code_yrs[i] = \"6 - 10 years\"\n",
    "        elif a_int > 10:\n",
    "            code_yrs[i] = \"11+ years\"\n",
    "\n",
    "# create a new attribute\n",
    "df['code_yrs'] = code_yrs"
   ]
  },
  {
   "cell_type": "code",
   "execution_count": 74,
   "metadata": {},
   "outputs": [
    {
     "data": {
      "text/plain": [
       "ConvertedCompYearly\n",
       "64254.0     784\n",
       "53545.0     615\n",
       "150000.0    585\n",
       "200000.0    558\n",
       "74963.0     557\n",
       "           ... \n",
       "7336.0        1\n",
       "34660.0       1\n",
       "1606.0        1\n",
       "319711.0      1\n",
       "16917.0       1\n",
       "Name: count, Length: 8784, dtype: int64"
      ]
     },
     "execution_count": 74,
     "metadata": {},
     "output_type": "execute_result"
    }
   ],
   "source": [
    "df['ConvertedCompYearly'].value_counts()"
   ]
  },
  {
   "cell_type": "markdown",
   "metadata": {},
   "source": [
    "Transform float values of Salary into ranges as below:\n",
    "\n",
    "Less than $20,000         \n",
    "$20,000 - $40,000          \n",
    "$40,000 - $60,000          \n",
    "$60,000 - $80,000          \n",
    "$80,000 - $100,000         \n",
    "$100,000 - $120,000        \n",
    "$120,000 - $140,000                \n",
    "$140,000 - $160,000        \n",
    "More than $160,000   \n",
    "Rather not say             \n",
    "Unemployed \n",
    "Other (please specify)      \n",
    "\n",
    "There will be no values for Rather not say, Unemployed and Other"
   ]
  },
  {
   "cell_type": "code",
   "execution_count": 75,
   "metadata": {},
   "outputs": [],
   "source": [
    "# this transform the values of salary into the same bin size as previous surveys and create a new attribute salary_merge\n",
    "salary_merge = pd.Series()\n",
    "data = df['ConvertedCompYearly']\n",
    "for i in range(len(data)):\n",
    "    if data[i] < 20000:\n",
    "        salary_merge[i] = \"Less than $20,000\"\n",
    "    elif data[i] >= 20000 and data[i] < 40000:\n",
    "        salary_merge[i] = \"$20,000 - $40,000\"\n",
    "    elif data[i] >= 40000 and data[i] < 60000:\n",
    "        salary_merge[i] = \"$40,000 - $60,000\"\n",
    "    elif data[i] >= 60000 and data[i] < 80000:\n",
    "        salary_merge[i] = \"$60,000 - $80,000\"\n",
    "    elif data[i] >= 80000 and data[i] < 100000:\n",
    "        salary_merge[i] = \"$80,000 - $100,000\"\n",
    "    elif data[i] >= 100000 and data[i] < 120000:\n",
    "        salary_merge[i] = \"$100,000 - $120,000\"\n",
    "    elif data[i] >= 120000 and data[i] < 140000:\n",
    "        salary_merge[i] = \"$120,000 - $140,000\"\n",
    "    elif data[i] >= 140000 and data[i] < 160000:\n",
    "        salary_merge[i] = \"$140,000 - $160,000\"\n",
    "    elif data[i] >= 160000:\n",
    "        salary_merge[i] = \"More than $160,000\"\n",
    "    # if nan, the transformed data is still nan\n",
    "    elif np.isnan(data[i]):\n",
    "        salary_merge[i] = np.nan\n",
    "\n",
    "df['salary_merge'] = salary_merge"
   ]
  },
  {
   "cell_type": "code",
   "execution_count": 76,
   "metadata": {},
   "outputs": [
    {
     "data": {
      "text/plain": [
       "0                                                      NaN\n",
       "1                                   Vim;Visual Studio Code\n",
       "2                                              Emacs;Helix\n",
       "3            IntelliJ IDEA;Vim;Visual Studio Code;WebStorm\n",
       "4                                   Vim;Visual Studio Code\n",
       "                               ...                        \n",
       "89179    Android Studio;Atom;Eclipse;IntelliJ IDEA;Netb...\n",
       "89180                 Android Studio;IntelliJ IDEA;PyCharm\n",
       "89181    Jupyter Notebook/JupyterLab;Neovim;Visual Stud...\n",
       "89182    Eclipse;IntelliJ IDEA;Nano;Notepad++;PyCharm;V...\n",
       "89183                     Visual Studio;Visual Studio Code\n",
       "Name: NEWCollabToolsHaveWorkedWith, Length: 89184, dtype: object"
      ]
     },
     "execution_count": 76,
     "metadata": {},
     "output_type": "execute_result"
    }
   ],
   "source": [
    "df['NEWCollabToolsHaveWorkedWith']"
   ]
  },
  {
   "cell_type": "markdown",
   "metadata": {},
   "source": [
    "Transform df['NEWCollabToolsHaveWorkedWith'] into list and create a new attribute ide_t"
   ]
  },
  {
   "cell_type": "code",
   "execution_count": 77,
   "metadata": {},
   "outputs": [],
   "source": [
    "# transform df['NEWCollabToolsHaveWorkedWith'] into list and create a new attribute ide_t\n",
    "df['ide_t'], _ = merge_str_list(df, 'NEWCollabToolsHaveWorkedWith')"
   ]
  },
  {
   "cell_type": "code",
   "execution_count": null,
   "metadata": {},
   "outputs": [],
   "source": [
    "# transform df['DevType'] into a new attribute devtyp_t\n",
    "\n",
    "df['devtyp_t'] = df['DevType'].replace(\"Developer, full-stack\",\"Developer_full-stack\").replace(\"Developer, front-end\",\"Developer_front-end\").replace(\"Developer, back-end\",\"Developer_back-end\").replace(\"Developer, desktop or enterprise applications\",\"Developer_desktop or enterprise applications\").replace(\"Developer, embedded applications or devices\",\"Developer_embedded applications or devices\").replace(\"Developer, game or graphics\",\"Developer_game or graphics\").replace(\"Developer, mobile\",\"Developer_mobile\").replace(\"Developer, QA or test\",\"Developer_QA or test\").replace(\"Engineer, data\",\"Engineer_data\").replace(\"Engineer, site reliability\",\"Engineer_site reliability\").replace(\"Senior Executive (C-Suite, VP, etc.)\",\"Senior Executive (C-Suite/VP/etc.)\")\n",
    "\n",
    "\n",
    "# also replace \"Developer, full-stack\" to \"Developer_full-stack\"\n",
    "# replace \"Developer, front-end\" to \"Developer_front-end\"\n",
    "# replace \"Developer, back-end\" to \"Developer_back-end\"\n",
    "# replace \"Developer, desktop or enterprise applications\" to \"Developer_desktop or enterprise applications\"\n",
    "# replace \"Developer, embedded applications or devices\" to \"Developer_embedded applications or devices\"\n",
    "# replace \"Developer, game or graphics\" to \"Developer_game or graphics\"\n",
    "# replace \"Developer, mobile\" to \"Developer_mobile\"\n",
    "# replace \"Developer, QA or test\" to \"Developer_QA or test\"\n",
    "# replace \"Engineer, data\" to \"Engineer_data\"\n",
    "# replace \"Engineer, site reliability\" to \"Engineer_site reliability\"\n",
    "# replace \"Senior Executive (C-Suite, VP, etc.) \" to \"Senior Executive (C-Suite, VP, etc.) \""
   ]
  },
  {
   "cell_type": "code",
   "execution_count": 79,
   "metadata": {},
   "outputs": [
    {
     "data": {
      "text/plain": [
       "devtyp_t\n",
       "Developer_full-stack                             25735\n",
       "Developer_back-end                               13745\n",
       "Developer_front-end                               5071\n",
       "Developer_desktop or enterprise applications      3904\n",
       "Other (please specify):                           3080\n",
       "Developer_mobile                                  2597\n",
       "Engineering manager                               2033\n",
       "Student                                           1996\n",
       "Developer_embedded applications or devices        1845\n",
       "Data scientist or machine learning specialist     1588\n",
       "DevOps specialist                                 1387\n",
       "Academic researcher                               1354\n",
       "Research & Development role                       1353\n",
       "Senior Executive (C-Suite/VP/etc.)                1332\n",
       "Engineer_data                                     1248\n",
       "Cloud infrastructure engineer                     1036\n",
       "Developer_game or graphics                         866\n",
       "Data or business analyst                           837\n",
       "System administrator                               743\n",
       "Project manager                                    589\n",
       "Developer_QA or test                               586\n",
       "Security professional                              474\n",
       "Product manager                                    446\n",
       "Engineer_site reliability                          427\n",
       "Educator                                           415\n",
       "Scientist                                          351\n",
       "Developer Experience                               326\n",
       "Blockchain                                         323\n",
       "Hardware Engineer                                  286\n",
       "Designer                                           281\n",
       "Database administrator                             257\n",
       "Developer Advocate                                 212\n",
       "Marketing or sales professional                    149\n",
       "Name: count, dtype: int64"
      ]
     },
     "execution_count": 79,
     "metadata": {},
     "output_type": "execute_result"
    }
   ],
   "source": [
    "df['devtyp_t'].value_counts()"
   ]
  },
  {
   "cell_type": "code",
   "execution_count": 80,
   "metadata": {},
   "outputs": [
    {
     "data": {
      "text/plain": [
       "EdLevel\n",
       "Bachelor’s degree (B.A., B.S., B.Eng., etc.)                                          36706\n",
       "Master’s degree (M.A., M.S., M.Eng., MBA, etc.)                                       20543\n",
       "Some college/university study without earning a degree                                11753\n",
       "Secondary school (e.g. American high school, German Realschule or Gymnasium, etc.)     8897\n",
       "Professional degree (JD, MD, Ph.D, Ed.D, etc.)                                         3887\n",
       "Associate degree (A.A., A.S., etc.)                                                    2807\n",
       "Primary/elementary school                                                              1905\n",
       "Something else                                                                         1475\n",
       "Name: count, dtype: int64"
      ]
     },
     "execution_count": 80,
     "metadata": {},
     "output_type": "execute_result"
    }
   ],
   "source": [
    "# single choice\n",
    "df['EdLevel'].value_counts()"
   ]
  },
  {
   "cell_type": "code",
   "execution_count": 81,
   "metadata": {},
   "outputs": [
    {
     "data": {
      "text/plain": [
       "LearnCode\n",
       "Other online resources (e.g., videos, blogs, forum)                                                                                                                               4873\n",
       "Books / Physical media;Other online resources (e.g., videos, blogs, forum)                                                                                                        3300\n",
       "Other online resources (e.g., videos, blogs, forum);School (i.e., University, College, etc)                                                                                       3070\n",
       "Books / Physical media;Online Courses or Certification;Other online resources (e.g., videos, blogs, forum)                                                                        3024\n",
       "Online Courses or Certification;Other online resources (e.g., videos, blogs, forum)                                                                                               2871\n",
       "                                                                                                                                                                                  ... \n",
       "Hackathons (virtual or in-person);School (i.e., University, College, etc);Coding Bootcamp;Other (please specify):                                                                    1\n",
       "Books / Physical media;Colleague;Hackathons (virtual or in-person);Online Courses or Certification;Other online resources (e.g., videos, blogs, forum);Other (please specify):       1\n",
       "Books / Physical media;Friend or family member;Online Courses or Certification;On the job training;School (i.e., University, College, etc);Other (please specify):                   1\n",
       "Books / Physical media;On the job training;Other online resources (e.g., videos, blogs, forum);Coding Bootcamp;Other (please specify):                                               1\n",
       "Colleague;Hackathons (virtual or in-person);Coding Bootcamp                                                                                                                          1\n",
       "Name: count, Length: 790, dtype: int64"
      ]
     },
     "execution_count": 81,
     "metadata": {},
     "output_type": "execute_result"
    }
   ],
   "source": [
    "# multiple choice\n",
    "df['LearnCode'].value_counts()"
   ]
  },
  {
   "cell_type": "markdown",
   "metadata": {},
   "source": [
    "Merge df['EdLevel'] and df['LearnCode'] into a new attribute called 'edu_t'\n"
   ]
  },
  {
   "cell_type": "code",
   "execution_count": 82,
   "metadata": {},
   "outputs": [],
   "source": [
    "# Merge df['EdLevel'] and df['LearnCode'] into a new attribute called 'edu_t'\n",
    "data_formal = df['EdLevel']\n",
    "data_learn = df['LearnCode']\n",
    "edu_t = pd.Series()\n",
    "\n",
    "for i in range(len(df)):\n",
    "    a = data_formal[i]\n",
    "    c = data_learn[i]\n",
    "    lst = list()\n",
    "\n",
    "    if a is not np.nan:\n",
    "        lst.append(a)\n",
    "        if type(c) == str:\n",
    "            c_lst = c.split(\";\")\n",
    "            for j in c_lst:\n",
    "                lst.append(j)\n",
    "        edu_t[i] = lst\n",
    "    else:\n",
    "        lst.append(a)\n",
    "        if type(c) == str:\n",
    "            c_lst = c.split(\";\")\n",
    "            for j in c_lst:\n",
    "                lst.append(j)\n",
    "            \n",
    "            edu_t[i] = lst\n",
    "        else:\n",
    "            edu_t[i] = a\n",
    "    \n",
    "\n",
    "df['edu_t'] = edu_t"
   ]
  },
  {
   "cell_type": "code",
   "execution_count": 83,
   "metadata": {},
   "outputs": [
    {
     "data": {
      "text/plain": [
       "0                                                    NaN\n",
       "1        MacOS;Windows;Windows Subsystem for Linux (WSL)\n",
       "2                                MacOS;Other Linux-based\n",
       "3                                       iOS;iPadOS;MacOS\n",
       "4                                Other (Please Specify):\n",
       "                              ...                       \n",
       "89179                             Android;Ubuntu;Windows\n",
       "89180                                            Windows\n",
       "89181                                                NaN\n",
       "89182                 BSD;Red Hat;Solaris;Ubuntu;Windows\n",
       "89183                                            Windows\n",
       "Name: OpSysProfessional use, Length: 89184, dtype: object"
      ]
     },
     "execution_count": 83,
     "metadata": {},
     "output_type": "execute_result"
    }
   ],
   "source": [
    "# multiple choice\n",
    "df['OpSysProfessional use']"
   ]
  },
  {
   "cell_type": "code",
   "execution_count": 84,
   "metadata": {},
   "outputs": [
    {
     "data": {
      "text/plain": [
       "0                                                      NaN\n",
       "1        iOS;iPadOS;MacOS;Windows;Windows Subsystem for...\n",
       "2                                  MacOS;Other Linux-based\n",
       "3                                         iOS;iPadOS;MacOS\n",
       "4                                  Other (Please Specify):\n",
       "                               ...                        \n",
       "89179                                      Android;Windows\n",
       "89180                                              Windows\n",
       "89181                                              Windows\n",
       "89182    Arch;Debian;iOS;iPadOS;MacOS;Ubuntu;Windows;Wi...\n",
       "89183                                              Windows\n",
       "Name: OpSysPersonal use, Length: 89184, dtype: object"
      ]
     },
     "execution_count": 84,
     "metadata": {},
     "output_type": "execute_result"
    }
   ],
   "source": [
    "# multiple choice\n",
    "df['OpSysPersonal use']"
   ]
  },
  {
   "cell_type": "markdown",
   "metadata": {},
   "source": [
    "Merge OpSysProfessional use and OpSysPersonal use into a new attribute opsys_t"
   ]
  },
  {
   "cell_type": "code",
   "execution_count": 85,
   "metadata": {},
   "outputs": [],
   "source": [
    "# Merge OpSysProfessional use and OpSysPersonal use into a new attribute opsys_t\n",
    "opsys = pd.Series()\n",
    "data_per = df['OpSysPersonal use']\n",
    "data_pro = df['OpSysProfessional use']\n",
    "for i in range(len(data_per)):\n",
    "    lst = list()\n",
    "    a = data_per[i]\n",
    "    b = data_pro[i]\n",
    "    if a is not np.nan:\n",
    "        a_lst = a.split(\";\")\n",
    "        # a and b are not nan\n",
    "        if b is not np.nan:\n",
    "            b_lst = b.split(\";\")\n",
    "            lst = np.union1d(a_lst, b_lst)\n",
    "        # a is non-nan and b is nan\n",
    "        else:\n",
    "            lst = a_lst\n",
    "        # cast into nparray into list\n",
    "        opsys[i] = list(lst)\n",
    "\n",
    "    else:\n",
    "        if b is not np.nan:\n",
    "            opsys[i] = b.split(\";\")\n",
    "        # both a and b are nan\n",
    "        else:\n",
    "            opsys[i] = a\n",
    "\n",
    "\n",
    "df['opsys_t'] = opsys\n",
    "\n"
   ]
  },
  {
   "cell_type": "code",
   "execution_count": 86,
   "metadata": {},
   "outputs": [
    {
     "data": {
      "text/plain": [
       "0                                                      NaN\n",
       "1                               HTML/CSS;JavaScript;Python\n",
       "2                               Bash/Shell (all shells);Go\n",
       "3        Bash/Shell (all shells);HTML/CSS;JavaScript;PH...\n",
       "4                           HTML/CSS;JavaScript;TypeScript\n",
       "                               ...                        \n",
       "89179              HTML/CSS;Java;JavaScript;SQL;TypeScript\n",
       "89180                                 Dart;Java;Python;SQL\n",
       "89181    Assembly;Bash/Shell (all shells);C;C#;Python;R...\n",
       "89182    Bash/Shell (all shells);C#;HTML/CSS;Java;JavaS...\n",
       "89183                      C#;Go;JavaScript;SQL;TypeScript\n",
       "Name: LanguageHaveWorkedWith, Length: 89184, dtype: object"
      ]
     },
     "execution_count": 86,
     "metadata": {},
     "output_type": "execute_result"
    }
   ],
   "source": [
    "# multiple choice\n",
    "df['LanguageHaveWorkedWith']"
   ]
  },
  {
   "cell_type": "code",
   "execution_count": 87,
   "metadata": {},
   "outputs": [
    {
     "data": {
      "text/plain": [
       "0                                                      NaN\n",
       "1                                                 Supabase\n",
       "2                                                      NaN\n",
       "3                                         PostgreSQL;Redis\n",
       "4                BigQuery;Elasticsearch;MongoDB;PostgreSQL\n",
       "                               ...                        \n",
       "89179                      MongoDB;MySQL;PostgreSQL;SQLite\n",
       "89180                                           PostgreSQL\n",
       "89181                                               SQLite\n",
       "89182    MariaDB;Microsoft SQL Server;MongoDB;MySQL;Red...\n",
       "89183                    Microsoft SQL Server;Redis;SQLite\n",
       "Name: DatabaseHaveWorkedWith, Length: 89184, dtype: object"
      ]
     },
     "execution_count": 87,
     "metadata": {},
     "output_type": "execute_result"
    }
   ],
   "source": [
    "# multiple choice\n",
    "df['DatabaseHaveWorkedWith']"
   ]
  },
  {
   "cell_type": "code",
   "execution_count": 88,
   "metadata": {},
   "outputs": [
    {
     "data": {
      "text/plain": [
       "0                                                      NaN\n",
       "1                 Amazon Web Services (AWS);Netlify;Vercel\n",
       "2        Amazon Web Services (AWS);Google Cloud;OpenSta...\n",
       "3                                        Cloudflare;Heroku\n",
       "4        Amazon Web Services (AWS);Firebase;Heroku;Netl...\n",
       "                               ...                        \n",
       "89179    Digital Ocean;Firebase;Google Cloud;Heroku;Vercel\n",
       "89180                                                  NaN\n",
       "89181                            Amazon Web Services (AWS)\n",
       "89182    Amazon Web Services (AWS);Cloudflare;Google Cl...\n",
       "89183                                              Hetzner\n",
       "Name: PlatformHaveWorkedWith, Length: 89184, dtype: object"
      ]
     },
     "execution_count": 88,
     "metadata": {},
     "output_type": "execute_result"
    }
   ],
   "source": [
    "# multiple choice\n",
    "df['PlatformHaveWorkedWith']"
   ]
  },
  {
   "cell_type": "code",
   "execution_count": 89,
   "metadata": {},
   "outputs": [
    {
     "data": {
      "text/plain": [
       "0                                                      NaN\n",
       "1                               Next.js;React;Remix;Vue.js\n",
       "2                                                      NaN\n",
       "3             Node.js;React;Ruby on Rails;Vue.js;WordPress\n",
       "4              Express;Gatsby;NestJS;Next.js;Node.js;React\n",
       "                               ...                        \n",
       "89179    Angular;AngularJS;Express;jQuery;Node.js;Nuxt....\n",
       "89180                                          Spring Boot\n",
       "89181                                                  NaN\n",
       "89182              Express;Next.js;Node.js;React;WordPress\n",
       "89183          Angular;ASP.NET;ASP.NET CORE;Blazor;Node.js\n",
       "Name: WebframeHaveWorkedWith, Length: 89184, dtype: object"
      ]
     },
     "execution_count": 89,
     "metadata": {},
     "output_type": "execute_result"
    }
   ],
   "source": [
    "# multiple choice\n",
    "df['WebframeHaveWorkedWith']"
   ]
  },
  {
   "cell_type": "code",
   "execution_count": 90,
   "metadata": {},
   "outputs": [
    {
     "data": {
      "text/plain": [
       "0                                                      NaN\n",
       "1                              Electron;React Native;Tauri\n",
       "2                                                      NaN\n",
       "3                                                      NaN\n",
       "4                                                      NaN\n",
       "                               ...                        \n",
       "89179                                              Flutter\n",
       "89180    Flutter;Opencv;RabbitMQ;Spring Framework;Torch...\n",
       "89181                              NumPy;Pandas;TensorFlow\n",
       "89182                             CUDA;NumPy;Torch/PyTorch\n",
       "89183                .NET (5+) ;.NET Framework (1.0 - 4.8)\n",
       "Name: MiscTechHaveWorkedWith, Length: 89184, dtype: object"
      ]
     },
     "execution_count": 90,
     "metadata": {},
     "output_type": "execute_result"
    }
   ],
   "source": [
    "# multiple choice\n",
    "df['MiscTechHaveWorkedWith']"
   ]
  },
  {
   "cell_type": "code",
   "execution_count": 91,
   "metadata": {},
   "outputs": [
    {
     "data": {
      "text/plain": [
       "0                                                      NaN\n",
       "1              Docker;Kubernetes;npm;Pip;Vite;Webpack;Yarn\n",
       "2                         Cargo;Docker;Kubernetes;Make;Nix\n",
       "3                           Homebrew;npm;Vite;Webpack;Yarn\n",
       "4                                  Docker;npm;Webpack;Yarn\n",
       "                               ...                        \n",
       "89179    Chocolatey;CMake;Docker;Maven (build tool);npm...\n",
       "89180                               Maven (build tool);Pip\n",
       "89181                                                Cargo\n",
       "89182                    Docker;Kubernetes;npm;Podman;Vite\n",
       "89183              Docker;npm;NuGet;pnpm;Vite;Webpack;Yarn\n",
       "Name: ToolsTechHaveWorkedWith, Length: 89184, dtype: object"
      ]
     },
     "execution_count": 91,
     "metadata": {},
     "output_type": "execute_result"
    }
   ],
   "source": [
    "# multiple choice\n",
    "df['ToolsTechHaveWorkedWith']"
   ]
  },
  {
   "cell_type": "code",
   "execution_count": 92,
   "metadata": {},
   "outputs": [
    {
     "data": {
      "text/plain": [
       "0                                                      NaN\n",
       "1        Asana;Basecamp;GitHub Discussions;Jira;Linear;...\n",
       "2                   Markdown File;Stack Overflow for Teams\n",
       "3                                                     Jira\n",
       "4                                   Confluence;Jira;Notion\n",
       "                               ...                        \n",
       "89179    Asana;Confluence;Jira;Markdown File;Miro;Notio...\n",
       "89180                                                 Jira\n",
       "89181                                                  NaN\n",
       "89182                               Confluence;Jira;Trello\n",
       "89183                                                  NaN\n",
       "Name: OfficeStackAsyncHaveWorkedWith, Length: 89184, dtype: object"
      ]
     },
     "execution_count": 92,
     "metadata": {},
     "output_type": "execute_result"
    }
   ],
   "source": [
    "# multiple choice\n",
    "df['OfficeStackAsyncHaveWorkedWith']"
   ]
  },
  {
   "cell_type": "code",
   "execution_count": 93,
   "metadata": {},
   "outputs": [
    {
     "data": {
      "text/plain": [
       "0                                                      NaN\n",
       "1        Cisco Webex Teams;Discord;Google Chat;Google M...\n",
       "2                               Microsoft Teams;Slack;Zoom\n",
       "3           Discord;Google Meet;Microsoft Teams;Slack;Zoom\n",
       "4                           Discord;Google Meet;Slack;Zoom\n",
       "                               ...                        \n",
       "89179    Discord;Google Meet;Jitsi;Microsoft Teams;Slac...\n",
       "89180                                      Microsoft Teams\n",
       "89181                                                  NaN\n",
       "89182    Cisco Webex Teams;Discord;Microsoft Teams;Sign...\n",
       "89183                  Google Meet;Skype;Telegram;Whatsapp\n",
       "Name: OfficeStackSyncHaveWorkedWith, Length: 89184, dtype: object"
      ]
     },
     "execution_count": 93,
     "metadata": {},
     "output_type": "execute_result"
    }
   ],
   "source": [
    "# multiple choice\n",
    "df['OfficeStackSyncHaveWorkedWith']"
   ]
  },
  {
   "cell_type": "code",
   "execution_count": 94,
   "metadata": {},
   "outputs": [
    {
     "data": {
      "text/plain": [
       "0                                 NaN\n",
       "1                             ChatGPT\n",
       "2                                 NaN\n",
       "3                                 NaN\n",
       "4                             ChatGPT\n",
       "                     ...             \n",
       "89179                         ChatGPT\n",
       "89180                         ChatGPT\n",
       "89181               ChatGPT;Quora Poe\n",
       "89182    Bing AI;ChatGPT;WolframAlpha\n",
       "89183                         ChatGPT\n",
       "Name: AISearchHaveWorkedWith, Length: 89184, dtype: object"
      ]
     },
     "execution_count": 94,
     "metadata": {},
     "output_type": "execute_result"
    }
   ],
   "source": [
    "# multiple choice\n",
    "df['AISearchHaveWorkedWith']"
   ]
  },
  {
   "cell_type": "code",
   "execution_count": 95,
   "metadata": {},
   "outputs": [
    {
     "data": {
      "text/plain": [
       "0                   NaN\n",
       "1        GitHub Copilot\n",
       "2                   NaN\n",
       "3                   NaN\n",
       "4                   NaN\n",
       "              ...      \n",
       "89179         Whispr AI\n",
       "89180               NaN\n",
       "89181               NaN\n",
       "89182               NaN\n",
       "89183    GitHub Copilot\n",
       "Name: AIDevHaveWorkedWith, Length: 89184, dtype: object"
      ]
     },
     "execution_count": 95,
     "metadata": {},
     "output_type": "execute_result"
    }
   ],
   "source": [
    "# multiple choice\n",
    "df['AIDevHaveWorkedWith']"
   ]
  },
  {
   "cell_type": "markdown",
   "metadata": {},
   "source": [
    "Need to combine values in LanguageHaveWorkedWith, DatabaseHaveWorkedWith, PlatformHaveWorkedWith, WebframeHaveWorkedWith, MiscTechHaveWorkedWith, ToolsTechHaveWorkedWith, OfficeStackAsyncHaveWorkedWith, OfficeStackSyncHaveWorkedWith, AISearchHaveWorkedWith and AIDevHaveWorkedWith and merge them into a new attribute called tools. If nan values are in all 10 attributes, then drop that row."
   ]
  },
  {
   "cell_type": "code",
   "execution_count": 96,
   "metadata": {},
   "outputs": [],
   "source": [
    "# merge all 10 attributes into one new attribute called 'tools' \n",
    "# and extract the row indexes that have nan values in all 10 attributes\n",
    "data_db = df['DatabaseHaveWorkedWith']\n",
    "data_fw = df['WebframeHaveWorkedWith']\n",
    "data_lang = df['LanguageHaveWorkedWith']\n",
    "data_plat = df['PlatformHaveWorkedWith']\n",
    "data_misc = df['MiscTechHaveWorkedWith']\n",
    "data_tech = df['ToolsTechHaveWorkedWith']\n",
    "data_a_office = df['OfficeStackAsyncHaveWorkedWith']\n",
    "data_s_office = df['OfficeStackSyncHaveWorkedWith']\n",
    "data_ai_s = df['AISearchHaveWorkedWith']\n",
    "data_ai_d = df['AIDevHaveWorkedWith']\n",
    "tools = pd.Series()\n",
    "drop_lst = np.array([])\n",
    "for i in range(len(df)):\n",
    "    a = data_db[i]\n",
    "    b = data_fw[i]\n",
    "    c = data_lang[i]\n",
    "    d = data_plat[i]\n",
    "    e = data_misc[i]\n",
    "    f = data_tech[i]\n",
    "    g = data_a_office[i]\n",
    "    h = data_s_office[i]\n",
    "    x = data_ai_s[i]\n",
    "    y = data_ai_d[i]\n",
    "\n",
    "    a_lst = list()\n",
    "    b_lst = list()\n",
    "    c_lst = list()\n",
    "    d_lst = list()\n",
    "    e_lst = list()\n",
    "    f_lst = list()\n",
    "    g_lst = list()\n",
    "    h_lst = list()\n",
    "    x_lst = list()\n",
    "    y_lst = list()\n",
    "\n",
    "    if type(a) == str:\n",
    "        a_lst = a.split(\";\")\n",
    "    if type(b) == str:\n",
    "        b_lst = b.split(\";\")\n",
    "    if type(c) == str:\n",
    "        c_lst = c.split(\";\")\n",
    "    if type(d) == str:\n",
    "        d_lst = d.split(\";\")\n",
    "    if type(e) == str:\n",
    "        e_lst = e.split(\";\")\n",
    "    if type(f) == str:\n",
    "        f_lst = f.split(\";\")\n",
    "    if type(g) == str:\n",
    "        g_lst = g.split(\";\")\n",
    "    if type(h) == str:\n",
    "        h_lst = h.split(\";\")\n",
    "    if type(x) == str:\n",
    "        x_lst = x.split(\";\")\n",
    "    if type(y) == str:\n",
    "        y_lst = y.split(\";\")\n",
    "\n",
    "    # if 10 attributes are all nan values, then add the row index into drop list    \n",
    "    if len(a_lst) == 0 and len(b_lst) == 0 and len(c_lst) == 0 and len(d_lst) == 0 and len(e_lst) == 0 and len(f_lst) == 0 and len(g_lst) == 0 and len(x_lst) == 0 and len(y_lst) == 0 :\n",
    "        tools[i] = np.nan\n",
    "        drop_lst = np.append(drop_lst, i)\n",
    "    else:\n",
    "        tools[i] = a_lst + b_lst + c_lst + d_lst + e_lst + f_lst + g_lst + h_lst + x_lst + y_lst\n",
    "\n",
    "# create new attribute tools\n",
    "df['tools'] = tools"
   ]
  },
  {
   "cell_type": "code",
   "execution_count": 97,
   "metadata": {},
   "outputs": [
    {
     "name": "stdout",
     "output_type": "stream",
     "text": [
      "Rows at these indexes have all nan value and need to be dropped \n",
      " [0.0000e+00 7.0000e+01 8.9000e+01 ... 8.8836e+04 8.9028e+04 8.9159e+04]\n",
      "The total number of nan values in all 10 attributes \n",
      "('LanguageHaveWorkedWith, DatabaseHaveWorkedWith, PlatformHaveWorkedWith, WebframeHaveWorkedWith, MiscTechHaveWorkedWith, ToolsTechHaveWorkedWith, OfficeStackAsyncHaveWorkedWith, OfficeStackSyncHaveWorkedWith, AISearchHaveWorkedWith and AIDevHaveWorkedWith') \n",
      " is 1584 which the proportion is 0.01776103336921421\n"
     ]
    }
   ],
   "source": [
    "# drop the rows that have all nan values and create a new datatframe df2\n",
    "print(\"Rows at these indexes have all nan value and need to be dropped \\n \"+str(drop_lst))\n",
    "print(\"The total number of nan values in all 10 attributes \\n('LanguageHaveWorkedWith, DatabaseHaveWorkedWith, PlatformHaveWorkedWith, WebframeHaveWorkedWith, MiscTechHaveWorkedWith, ToolsTechHaveWorkedWith, OfficeStackAsyncHaveWorkedWith, OfficeStackSyncHaveWorkedWith, AISearchHaveWorkedWith and AIDevHaveWorkedWith')\"\n",
    "      +\" \\n is \"+str(len(drop_lst))+\" which the proportion is \"+str(len(drop_lst)/len(df)))\n",
    "df2 = df.drop(index = drop_lst)"
   ]
  },
  {
   "cell_type": "code",
   "execution_count": 98,
   "metadata": {},
   "outputs": [
    {
     "name": "stdout",
     "output_type": "stream",
     "text": [
      "code_yrs\n",
      "11+ years       43886\n",
      "6 - 10 years    24160\n",
      "2 - 5 years     14102\n",
      "0 - 2 years      4972\n",
      "Name: count, dtype: int64\n",
      "The total number of nan values for experience_range is 480 and the proportion is 0.005479452054794521\n"
     ]
    }
   ],
   "source": [
    "# show the number and proportion of nan values in yrs of coding/experience_range\n",
    "df_yrs = df2['code_yrs']\n",
    "print(df_yrs.value_counts())\n",
    "c, r = count_nan(df_yrs)\n",
    "print(\"The total number of nan values for experience_range is \"+str(c)+\" and the proportion is \"+str(r))"
   ]
  },
  {
   "cell_type": "code",
   "execution_count": 99,
   "metadata": {},
   "outputs": [
    {
     "name": "stdout",
     "output_type": "stream",
     "text": [
      "devtyp_t\n",
      "Developer_full-stack                             25701\n",
      "Developer_back-end                               13721\n",
      "Developer_front-end                               5052\n",
      "Developer_desktop or enterprise applications      3898\n",
      "Other (please specify):                           3047\n",
      "Developer_mobile                                  2587\n",
      "Engineering manager                               2029\n",
      "Student                                           1973\n",
      "Developer_embedded applications or devices        1841\n",
      "Data scientist or machine learning specialist     1585\n",
      "DevOps specialist                                 1386\n",
      "Research & Development role                       1349\n",
      "Academic researcher                               1344\n",
      "Senior Executive (C-Suite/VP/etc.)                1330\n",
      "Engineer_data                                     1241\n",
      "Cloud infrastructure engineer                     1036\n",
      "Developer_game or graphics                         866\n",
      "Data or business analyst                           831\n",
      "System administrator                               739\n",
      "Project manager                                    586\n",
      "Developer_QA or test                               581\n",
      "Security professional                              471\n",
      "Product manager                                    446\n",
      "Engineer_site reliability                          426\n",
      "Educator                                           412\n",
      "Scientist                                          348\n",
      "Developer Experience                               325\n",
      "Blockchain                                         321\n",
      "Hardware Engineer                                  283\n",
      "Designer                                           274\n",
      "Database administrator                             256\n",
      "Developer Advocate                                 212\n",
      "Marketing or sales professional                    148\n",
      "Name: count, dtype: int64\n",
      "The total number of nan values for Occupation is 10955 and the proportion is 0.12505707762557078\n"
     ]
    }
   ],
   "source": [
    "# show the number and proportion of nan values in occupation\n",
    "df_occup = df2['devtyp_t']\n",
    "print(df_occup.value_counts())\n",
    "c, r = count_nan(df_occup)\n",
    "print(\"The total number of nan values for Occupation is \"+str(c)+\" and the proportion is \"+str(r))"
   ]
  },
  {
   "cell_type": "code",
   "execution_count": 100,
   "metadata": {},
   "outputs": [
    {
     "name": "stdout",
     "output_type": "stream",
     "text": [
      "opsys_t\n",
      "[Windows]                                                                                                                             12368\n",
      "[MacOS]                                                                                                                                7814\n",
      "[Ubuntu, Windows]                                                                                                                      4029\n",
      "[MacOS, Windows]                                                                                                                       3998\n",
      "[Windows, Windows Subsystem for Linux (WSL)]                                                                                           3089\n",
      "                                                                                                                                      ...  \n",
      "[BSD, Fedora, MacOS, Red Hat, Solaris]                                                                                                    1\n",
      "[Android, Arch, Cygwin, Debian, Fedora, MacOS, Other Linux-based, Ubuntu, Windows, Windows Subsystem for Linux (WSL), iOS, iPadOS]        1\n",
      "[Android, Arch, MacOS, Ubuntu, iPadOS]                                                                                                    1\n",
      "[AIX, Android, iOS, iPadOS, MacOS, Red Hat, Ubuntu, Windows, Windows Subsystem for Linux (WSL)]                                           1\n",
      "[AIX, MacOS, Other (Please Specify):, iOS]                                                                                                1\n",
      "Name: count, Length: 4500, dtype: int64\n",
      "The total number of nan values for desktop systems is 607 and the proportion is 0.006929223744292237\n"
     ]
    }
   ],
   "source": [
    "# show the number and proportion of nan values in desktop operation system\n",
    "df_op = df2['opsys_t']\n",
    "print(df_op.value_counts())\n",
    "c, r = count_nan(df_op)\n",
    "print(\"The total number of nan values for desktop systems is \"+str(c)+\" and the proportion is \"+str(r))"
   ]
  },
  {
   "cell_type": "code",
   "execution_count": 101,
   "metadata": {},
   "outputs": [
    {
     "name": "stdout",
     "output_type": "stream",
     "text": [
      "ide_t\n",
      "[Visual Studio Code]                                                                          8740\n",
      "[Visual Studio, Visual Studio Code]                                                           3430\n",
      "[Notepad++, Visual Studio, Visual Studio Code]                                                2167\n",
      "[IntelliJ IDEA, Visual Studio Code]                                                           1652\n",
      "[Vim, Visual Studio Code]                                                                     1601\n",
      "                                                                                              ... \n",
      "[IntelliJ IDEA, Notepad++, RubyMine, Sublime Text, Visual Studio, Visual Studio Code]            1\n",
      "[IPython, Vim, Visual Studio Code, WebStorm]                                                     1\n",
      "[IntelliJ IDEA, Jupyter Notebook/JupyterLab, Visual Studio, Visual Studio Code, Xcode]           1\n",
      "[Atom, Eclipse, PyCharm, Visual Studio]                                                          1\n",
      "[Eclipse, IntelliJ IDEA, Nano, Notepad++, PyCharm, Vim, Visual Studio, Visual Studio Code]       1\n",
      "Name: count, Length: 21262, dtype: int64\n",
      "The total number of nan values for Preferred text editor is 1778 and the proportion is 0.020296803652968036\n"
     ]
    }
   ],
   "source": [
    "# show the number and proportion of nan values in Preferred text editor/dev environment\n",
    "df_te = df2['ide_t']\n",
    "print(df_te.value_counts())\n",
    "c, r = count_nan(df_te)\n",
    "print(\"The total number of nan values for Preferred text editor is \"+str(c)+\" and the proportion is \"+str(r))"
   ]
  },
  {
   "cell_type": "code",
   "execution_count": 102,
   "metadata": {},
   "outputs": [
    {
     "name": "stdout",
     "output_type": "stream",
     "text": [
      "salary_merge\n",
      "$40,000 - $60,000      7695\n",
      "$60,000 - $80,000      7205\n",
      "More than $160,000     7015\n",
      "$80,000 - $100,000     5882\n",
      "Less than $20,000      5291\n",
      "$20,000 - $40,000      5216\n",
      "$100,000 - $120,000    4086\n",
      "$120,000 - $140,000    3165\n",
      "$140,000 - $160,000    2420\n",
      "Name: count, dtype: int64\n",
      "The total number of nan values for salary is 39625 and the proportion is 0.4523401826484018\n"
     ]
    }
   ],
   "source": [
    "# show the number and proportion of nan values in salary\n",
    "df_salary = df2['salary_merge']\n",
    "print(df_salary.value_counts())\n",
    "c, r = count_nan(df_salary)\n",
    "print(\"The total number of nan values for salary is \"+str(c)+\" and the proportion is \"+str(r))"
   ]
  },
  {
   "cell_type": "code",
   "execution_count": 103,
   "metadata": {},
   "outputs": [
    {
     "name": "stdout",
     "output_type": "stream",
     "text": [
      "edu_t\n",
      "[Bachelor’s degree (B.A., B.S., B.Eng., etc.), Other online resources (e.g., videos, blogs, forum)]                                                                                                                                                                                                                          1426\n",
      "[Bachelor’s degree (B.A., B.S., B.Eng., etc.), Books / Physical media, Online Courses or Certification, On the job training, Other online resources (e.g., videos, blogs, forum), School (i.e., University, College, etc)]                                                                                                   1313\n",
      "[Bachelor’s degree (B.A., B.S., B.Eng., etc.), Other online resources (e.g., videos, blogs, forum), School (i.e., University, College, etc)]                                                                                                                                                                                 1222\n",
      "[Secondary school (e.g. American high school, German Realschule or Gymnasium, etc.), Other online resources (e.g., videos, blogs, forum)]                                                                                                                                                                                    1150\n",
      "[Bachelor’s degree (B.A., B.S., B.Eng., etc.), Books / Physical media, Online Courses or Certification, Other online resources (e.g., videos, blogs, forum)]                                                                                                                                                                 1143\n",
      "                                                                                                                                                                                                                                                                                                                             ... \n",
      "[Secondary school (e.g. American high school, German Realschule or Gymnasium, etc.), Online Courses or Certification, On the job training, School (i.e., University, College, etc), Coding Bootcamp]                                                                                                                            1\n",
      "[Bachelor’s degree (B.A., B.S., B.Eng., etc.), Colleague, Hackathons (virtual or in-person), Online Courses or Certification, On the job training, Other online resources (e.g., videos, blogs, forum), School (i.e., University, College, etc), Coding Bootcamp, Other (please specify):]                                      1\n",
      "[Associate degree (A.A., A.S., etc.), Books / Physical media, Friend or family member, Online Courses or Certification, On the job training, School (i.e., University, College, etc), Other (please specify):]                                                                                                                  1\n",
      "[Master’s degree (M.A., M.S., M.Eng., MBA, etc.), Books / Physical media, Colleague, Friend or family member, On the job training, Other online resources (e.g., videos, blogs, forum), Coding Bootcamp, Other (please specify):]                                                                                               1\n",
      "[Secondary school (e.g. American high school, German Realschule or Gymnasium, etc.), Books / Physical media, Colleague, Friend or family member, Online Courses or Certification, Other online resources (e.g., videos, blogs, forum), School (i.e., University, College, etc), Coding Bootcamp, Other (please specify):]       1\n",
      "Name: count, Length: 3446, dtype: int64\n",
      "The total number of nan values for education is 0 and the proportion is 0.0\n"
     ]
    }
   ],
   "source": [
    "# show the number and proportion of nan values in education\n",
    "df_edu = df2['edu_t']\n",
    "print(df_edu.value_counts())\n",
    "c, r = count_nan(df_edu)\n",
    "print(\"The total number of nan values for education is \"+str(c)+\" and the proportion is \"+str(r))"
   ]
  },
  {
   "cell_type": "code",
   "execution_count": 104,
   "metadata": {},
   "outputs": [
    {
     "name": "stdout",
     "output_type": "stream",
     "text": [
      "Country\n",
      "United States of America                                18584\n",
      "Germany                                                  7319\n",
      "India                                                    5562\n",
      "United Kingdom of Great Britain and Northern Ireland     5534\n",
      "Canada                                                   3496\n",
      "                                                        ...  \n",
      "Saint Kitts and Nevis                                       1\n",
      "Samoa                                                       1\n",
      "Central African Republic                                    1\n",
      "San Marino                                                  1\n",
      "Saint Vincent and the Grenadines                            1\n",
      "Name: count, Length: 185, dtype: int64\n",
      "The total number of nan values for Country is 0 and the proportion is 0.0\n"
     ]
    }
   ],
   "source": [
    "# show the number and proportion of nan values in country\n",
    "df_country = df2['Country']\n",
    "print(df_country.value_counts())\n",
    "c, r = count_nan(df_country)\n",
    "print(\"The total number of nan values for Country is \"+str(c)+\" and the proportion is \"+str(r))"
   ]
  },
  {
   "cell_type": "code",
   "execution_count": 105,
   "metadata": {},
   "outputs": [],
   "source": [
    "# Comment out this block because it's too time consuming to run and does not reveal too much useful info\n",
    "\n",
    "# # show the number and proportion of nan values in tools\n",
    "# df_tools = df2['tools']\n",
    "# print(df_tools.value_counts())\n",
    "# c, r = count_nan(df_tools)\n",
    "# print(\"The total number of nan values for tools is 0 and the proportion is 0\")"
   ]
  },
  {
   "cell_type": "code",
   "execution_count": 106,
   "metadata": {},
   "outputs": [],
   "source": [
    "# add year\n",
    "df2['year'] = 2023"
   ]
  },
  {
   "cell_type": "code",
   "execution_count": 107,
   "metadata": {},
   "outputs": [
    {
     "data": {
      "text/html": [
       "<div>\n",
       "<style scoped>\n",
       "    .dataframe tbody tr th:only-of-type {\n",
       "        vertical-align: middle;\n",
       "    }\n",
       "\n",
       "    .dataframe tbody tr th {\n",
       "        vertical-align: top;\n",
       "    }\n",
       "\n",
       "    .dataframe thead th {\n",
       "        text-align: right;\n",
       "    }\n",
       "</style>\n",
       "<table border=\"1\" class=\"dataframe\">\n",
       "  <thead>\n",
       "    <tr style=\"text-align: right;\">\n",
       "      <th></th>\n",
       "      <th>devtyp_t</th>\n",
       "      <th>Country</th>\n",
       "      <th>edu_t</th>\n",
       "      <th>code_yrs</th>\n",
       "      <th>opsys_t</th>\n",
       "      <th>ide_t</th>\n",
       "      <th>year</th>\n",
       "      <th>tools</th>\n",
       "    </tr>\n",
       "  </thead>\n",
       "  <tbody>\n",
       "    <tr>\n",
       "      <th>1</th>\n",
       "      <td>Senior Executive (C-Suite/VP/etc.)</td>\n",
       "      <td>United States of America</td>\n",
       "      <td>[Bachelor’s degree (B.A., B.S., B.Eng., etc.),...</td>\n",
       "      <td>11+ years</td>\n",
       "      <td>[MacOS, Windows, Windows Subsystem for Linux (...</td>\n",
       "      <td>[Vim, Visual Studio Code]</td>\n",
       "      <td>2023</td>\n",
       "      <td>[Supabase, Next.js, React, Remix, Vue.js, HTML...</td>\n",
       "    </tr>\n",
       "    <tr>\n",
       "      <th>2</th>\n",
       "      <td>Developer_back-end</td>\n",
       "      <td>United States of America</td>\n",
       "      <td>[Bachelor’s degree (B.A., B.S., B.Eng., etc.),...</td>\n",
       "      <td>11+ years</td>\n",
       "      <td>[MacOS, Other Linux-based]</td>\n",
       "      <td>[Emacs, Helix]</td>\n",
       "      <td>2023</td>\n",
       "      <td>[Bash/Shell (all shells), Go, Amazon Web Servi...</td>\n",
       "    </tr>\n",
       "    <tr>\n",
       "      <th>3</th>\n",
       "      <td>Developer_front-end</td>\n",
       "      <td>United States of America</td>\n",
       "      <td>[Bachelor’s degree (B.A., B.S., B.Eng., etc.),...</td>\n",
       "      <td>11+ years</td>\n",
       "      <td>[MacOS, iOS, iPadOS]</td>\n",
       "      <td>[IntelliJ IDEA, Vim, Visual Studio Code, WebSt...</td>\n",
       "      <td>2023</td>\n",
       "      <td>[PostgreSQL, Redis, Node.js, React, Ruby on Ra...</td>\n",
       "    </tr>\n",
       "    <tr>\n",
       "      <th>4</th>\n",
       "      <td>Developer_full-stack</td>\n",
       "      <td>Philippines</td>\n",
       "      <td>[Bachelor’s degree (B.A., B.S., B.Eng., etc.),...</td>\n",
       "      <td>6 - 10 years</td>\n",
       "      <td>[Other (Please Specify):]</td>\n",
       "      <td>[Vim, Visual Studio Code]</td>\n",
       "      <td>2023</td>\n",
       "      <td>[BigQuery, Elasticsearch, MongoDB, PostgreSQL,...</td>\n",
       "    </tr>\n",
       "    <tr>\n",
       "      <th>5</th>\n",
       "      <td>Developer_back-end</td>\n",
       "      <td>United Kingdom of Great Britain and Northern I...</td>\n",
       "      <td>[Some college/university study without earning...</td>\n",
       "      <td>11+ years</td>\n",
       "      <td>[MacOS, Other (Please Specify):]</td>\n",
       "      <td>[Helix, Neovim]</td>\n",
       "      <td>2023</td>\n",
       "      <td>[BigQuery, Cloud Firestore, PostgreSQL, Redis,...</td>\n",
       "    </tr>\n",
       "    <tr>\n",
       "      <th>...</th>\n",
       "      <td>...</td>\n",
       "      <td>...</td>\n",
       "      <td>...</td>\n",
       "      <td>...</td>\n",
       "      <td>...</td>\n",
       "      <td>...</td>\n",
       "      <td>...</td>\n",
       "      <td>...</td>\n",
       "    </tr>\n",
       "    <tr>\n",
       "      <th>89179</th>\n",
       "      <td>Developer_front-end</td>\n",
       "      <td>Brazil</td>\n",
       "      <td>[Associate degree (A.A., A.S., etc.), Online C...</td>\n",
       "      <td>11+ years</td>\n",
       "      <td>[Android, Ubuntu, Windows]</td>\n",
       "      <td>[Android Studio, Atom, Eclipse, IntelliJ IDEA,...</td>\n",
       "      <td>2023</td>\n",
       "      <td>[MongoDB, MySQL, PostgreSQL, SQLite, Angular, ...</td>\n",
       "    </tr>\n",
       "    <tr>\n",
       "      <th>89180</th>\n",
       "      <td>Developer_back-end</td>\n",
       "      <td>Romania</td>\n",
       "      <td>[Bachelor’s degree (B.A., B.S., B.Eng., etc.),...</td>\n",
       "      <td>2 - 5 years</td>\n",
       "      <td>[Windows]</td>\n",
       "      <td>[Android Studio, IntelliJ IDEA, PyCharm]</td>\n",
       "      <td>2023</td>\n",
       "      <td>[PostgreSQL, Spring Boot, Dart, Java, Python, ...</td>\n",
       "    </tr>\n",
       "    <tr>\n",
       "      <th>89181</th>\n",
       "      <td>NaN</td>\n",
       "      <td>Israel</td>\n",
       "      <td>[Something else, Books / Physical media, Hacka...</td>\n",
       "      <td>6 - 10 years</td>\n",
       "      <td>[Windows]</td>\n",
       "      <td>[Jupyter Notebook/JupyterLab, Neovim, Visual S...</td>\n",
       "      <td>2023</td>\n",
       "      <td>[SQLite, Assembly, Bash/Shell (all shells), C,...</td>\n",
       "    </tr>\n",
       "    <tr>\n",
       "      <th>89182</th>\n",
       "      <td>System administrator</td>\n",
       "      <td>Switzerland</td>\n",
       "      <td>[Secondary school (e.g. American high school, ...</td>\n",
       "      <td>2 - 5 years</td>\n",
       "      <td>[Arch, BSD, Debian, MacOS, Red Hat, Solaris, U...</td>\n",
       "      <td>[Eclipse, IntelliJ IDEA, Nano, Notepad++, PyCh...</td>\n",
       "      <td>2023</td>\n",
       "      <td>[MariaDB, Microsoft SQL Server, MongoDB, MySQL...</td>\n",
       "    </tr>\n",
       "    <tr>\n",
       "      <th>89183</th>\n",
       "      <td>Developer_full-stack</td>\n",
       "      <td>Iran, Islamic Republic of...</td>\n",
       "      <td>[Bachelor’s degree (B.A., B.S., B.Eng., etc.),...</td>\n",
       "      <td>11+ years</td>\n",
       "      <td>[Windows]</td>\n",
       "      <td>[Visual Studio, Visual Studio Code]</td>\n",
       "      <td>2023</td>\n",
       "      <td>[Microsoft SQL Server, Redis, SQLite, Angular,...</td>\n",
       "    </tr>\n",
       "  </tbody>\n",
       "</table>\n",
       "<p>87600 rows × 8 columns</p>\n",
       "</div>"
      ],
      "text/plain": [
       "                                 devtyp_t  \\\n",
       "1      Senior Executive (C-Suite/VP/etc.)   \n",
       "2                      Developer_back-end   \n",
       "3                     Developer_front-end   \n",
       "4                    Developer_full-stack   \n",
       "5                      Developer_back-end   \n",
       "...                                   ...   \n",
       "89179                 Developer_front-end   \n",
       "89180                  Developer_back-end   \n",
       "89181                                 NaN   \n",
       "89182                System administrator   \n",
       "89183                Developer_full-stack   \n",
       "\n",
       "                                                 Country  \\\n",
       "1                               United States of America   \n",
       "2                               United States of America   \n",
       "3                               United States of America   \n",
       "4                                            Philippines   \n",
       "5      United Kingdom of Great Britain and Northern I...   \n",
       "...                                                  ...   \n",
       "89179                                             Brazil   \n",
       "89180                                            Romania   \n",
       "89181                                             Israel   \n",
       "89182                                        Switzerland   \n",
       "89183                       Iran, Islamic Republic of...   \n",
       "\n",
       "                                                   edu_t      code_yrs  \\\n",
       "1      [Bachelor’s degree (B.A., B.S., B.Eng., etc.),...     11+ years   \n",
       "2      [Bachelor’s degree (B.A., B.S., B.Eng., etc.),...     11+ years   \n",
       "3      [Bachelor’s degree (B.A., B.S., B.Eng., etc.),...     11+ years   \n",
       "4      [Bachelor’s degree (B.A., B.S., B.Eng., etc.),...  6 - 10 years   \n",
       "5      [Some college/university study without earning...     11+ years   \n",
       "...                                                  ...           ...   \n",
       "89179  [Associate degree (A.A., A.S., etc.), Online C...     11+ years   \n",
       "89180  [Bachelor’s degree (B.A., B.S., B.Eng., etc.),...   2 - 5 years   \n",
       "89181  [Something else, Books / Physical media, Hacka...  6 - 10 years   \n",
       "89182  [Secondary school (e.g. American high school, ...   2 - 5 years   \n",
       "89183  [Bachelor’s degree (B.A., B.S., B.Eng., etc.),...     11+ years   \n",
       "\n",
       "                                                 opsys_t  \\\n",
       "1      [MacOS, Windows, Windows Subsystem for Linux (...   \n",
       "2                             [MacOS, Other Linux-based]   \n",
       "3                                   [MacOS, iOS, iPadOS]   \n",
       "4                              [Other (Please Specify):]   \n",
       "5                       [MacOS, Other (Please Specify):]   \n",
       "...                                                  ...   \n",
       "89179                         [Android, Ubuntu, Windows]   \n",
       "89180                                          [Windows]   \n",
       "89181                                          [Windows]   \n",
       "89182  [Arch, BSD, Debian, MacOS, Red Hat, Solaris, U...   \n",
       "89183                                          [Windows]   \n",
       "\n",
       "                                                   ide_t  year  \\\n",
       "1                              [Vim, Visual Studio Code]  2023   \n",
       "2                                         [Emacs, Helix]  2023   \n",
       "3      [IntelliJ IDEA, Vim, Visual Studio Code, WebSt...  2023   \n",
       "4                              [Vim, Visual Studio Code]  2023   \n",
       "5                                        [Helix, Neovim]  2023   \n",
       "...                                                  ...   ...   \n",
       "89179  [Android Studio, Atom, Eclipse, IntelliJ IDEA,...  2023   \n",
       "89180           [Android Studio, IntelliJ IDEA, PyCharm]  2023   \n",
       "89181  [Jupyter Notebook/JupyterLab, Neovim, Visual S...  2023   \n",
       "89182  [Eclipse, IntelliJ IDEA, Nano, Notepad++, PyCh...  2023   \n",
       "89183                [Visual Studio, Visual Studio Code]  2023   \n",
       "\n",
       "                                                   tools  \n",
       "1      [Supabase, Next.js, React, Remix, Vue.js, HTML...  \n",
       "2      [Bash/Shell (all shells), Go, Amazon Web Servi...  \n",
       "3      [PostgreSQL, Redis, Node.js, React, Ruby on Ra...  \n",
       "4      [BigQuery, Elasticsearch, MongoDB, PostgreSQL,...  \n",
       "5      [BigQuery, Cloud Firestore, PostgreSQL, Redis,...  \n",
       "...                                                  ...  \n",
       "89179  [MongoDB, MySQL, PostgreSQL, SQLite, Angular, ...  \n",
       "89180  [PostgreSQL, Spring Boot, Dart, Java, Python, ...  \n",
       "89181  [SQLite, Assembly, Bash/Shell (all shells), C,...  \n",
       "89182  [MariaDB, Microsoft SQL Server, MongoDB, MySQL...  \n",
       "89183  [Microsoft SQL Server, Redis, SQLite, Angular,...  \n",
       "\n",
       "[87600 rows x 8 columns]"
      ]
     },
     "execution_count": 107,
     "metadata": {},
     "output_type": "execute_result"
    }
   ],
   "source": [
    "# drop unwanted attributes (drop compensation)\n",
    "\n",
    "df3 = df2.loc[:,['devtyp_t', 'Country', 'edu_t','code_yrs','opsys_t','ide_t','year','tools']]\n",
    "df3"
   ]
  },
  {
   "cell_type": "code",
   "execution_count": 108,
   "metadata": {},
   "outputs": [],
   "source": [
    "# export df3\n",
    "df3.to_csv(\"2023_df3.csv\")"
   ]
  },
  {
   "cell_type": "markdown",
   "metadata": {},
   "source": [
    "extract all of the languages in dataset"
   ]
  },
  {
   "cell_type": "code",
   "execution_count": 109,
   "metadata": {},
   "outputs": [
    {
     "name": "stdout",
     "output_type": "stream",
     "text": [
      "{'HTML/CSS': 46396, 'JavaScript': 55711, 'Python': 43158, 'Bash/Shell (all shells)': 28351, 'Go': 11592, 'PHP': 16274, 'Ruby': 5454, 'SQL': 42623, 'TypeScript': 34041, 'Ada': 677, 'Clojure': 1105, 'Elixir': 2028, 'Java': 26757, 'Lisp': 1342, 'OCaml': 614, 'Raku': 156, 'Scala': 2422, 'Swift': 4072, 'Zig': 729, 'Rust': 11427, 'C#': 24193, 'PowerShell': 11902, 'C++': 19634, 'Kotlin': 7935, 'Solidity': 1168, 'C': 16940, 'Perl': 2151, 'Dart': 5273, 'Haskell': 1829, 'Assembly': 4753, 'Delphi': 2831, 'R': 3702, 'Lua': 5336, 'MATLAB': 3339, 'VBA': 3107, 'Visual Basic (.Net)': 3568, 'Julia': 1010, 'F#': 849, 'Groovy': 2976, 'APL': 225, 'Objective-C': 2019, 'GDScript': 1495, 'Crystal': 389, 'Cobol': 576, 'Fortran': 833, 'Prolog': 776, 'Erlang': 868, 'Apex': 579, 'SAS': 427, 'Nim': 331, 'Flow': 214}\n",
      "dict_keys(['HTML/CSS', 'JavaScript', 'Python', 'Bash/Shell (all shells)', 'Go', 'PHP', 'Ruby', 'SQL', 'TypeScript', 'Ada', 'Clojure', 'Elixir', 'Java', 'Lisp', 'OCaml', 'Raku', 'Scala', 'Swift', 'Zig', 'Rust', 'C#', 'PowerShell', 'C++', 'Kotlin', 'Solidity', 'C', 'Perl', 'Dart', 'Haskell', 'Assembly', 'Delphi', 'R', 'Lua', 'MATLAB', 'VBA', 'Visual Basic (.Net)', 'Julia', 'F#', 'Groovy', 'APL', 'Objective-C', 'GDScript', 'Crystal', 'Cobol', 'Fortran', 'Prolog', 'Erlang', 'Apex', 'SAS', 'Nim', 'Flow'])\n"
     ]
    }
   ],
   "source": [
    "tools_dic = dict()\n",
    "\n",
    "for i in df['LanguageHaveWorkedWith']:\n",
    "    if type(i) == str:\n",
    "\n",
    "        x = i.split(\";\")\n",
    "    \n",
    "        for j in x:\n",
    "            if j not in tools_dic:\n",
    "                tools_dic[j] = 1\n",
    "            else:\n",
    "                old = tools_dic[j]\n",
    "                tools_dic[j] = old + 1\n",
    "\n",
    "\n",
    "print(tools_dic)\n",
    "\n",
    "print(tools_dic.keys())"
   ]
  },
  {
   "cell_type": "markdown",
   "metadata": {},
   "source": [
    "Languages:\n",
    "\n",
    "'HTML/CSS', 'JavaScript', 'Python', 'Bash/Shell (all shells)', 'Go', 'PHP', 'Ruby', 'SQL', 'TypeScript', 'Ada', 'Clojure', 'Elixir', 'Java', 'Lisp', 'OCaml', 'Raku', 'Scala', 'Swift', 'Zig', 'Rust', 'C#', 'PowerShell', 'C++', 'Kotlin', 'Solidity', 'C', 'Perl', 'Dart', 'Haskell', 'Assembly', 'Delphi', 'R', 'Lua', 'MATLAB', 'VBA', 'Visual Basic (.Net)', 'Julia', 'F#', 'Groovy', 'APL', 'Objective-C', 'GDScript', 'Crystal', 'Cobol', 'Fortran', 'Prolog', 'Erlang', 'Apex', 'SAS', 'Nim', 'Flow'\n"
   ]
  }
 ],
 "metadata": {
  "kernelspec": {
   "display_name": "Python 3",
   "language": "python",
   "name": "python3"
  },
  "language_info": {
   "codemirror_mode": {
    "name": "ipython",
    "version": 3
   },
   "file_extension": ".py",
   "mimetype": "text/x-python",
   "name": "python",
   "nbconvert_exporter": "python",
   "pygments_lexer": "ipython3",
   "version": "3.13.0"
  }
 },
 "nbformat": 4,
 "nbformat_minor": 2
}
